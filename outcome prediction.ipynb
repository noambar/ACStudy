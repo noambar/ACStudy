{
 "cells": [
  {
   "cell_type": "code",
   "execution_count": null,
   "metadata": {},
   "outputs": [],
   "source": []
  },
  {
   "cell_type": "code",
   "execution_count": 1,
   "metadata": {
    "ExecuteTime": {
     "end_time": "2021-05-04T12:42:03.726304Z",
     "start_time": "2021-05-04T12:41:56.872432Z"
    }
   },
   "outputs": [],
   "source": [
    "%load_ext autoreload\n",
    "%autoreload 2\n",
    "%matplotlib inline\n",
    "\n",
    "from MetabolomicsPaper.GeneralHelperFunctions import *\n",
    "# from ACSPaper.Matching import *\n",
    "from ACSPaper.ACSPaperUtils import *\n",
    "from sklearn.metrics import roc_curve, auc\n",
    "import shap\n",
    "from sklearn.model_selection import train_test_split\n",
    "\n",
    "paper_dir = '/net/mraid08/export/jafar/Microbiome/Analyses/Noamba/Cardio/ACS_study/v2/'\n",
    "curr_dir = os.path.join(paper_dir, 'outcome_prediction')\n",
    "make_dir_if_not_exists(curr_dir)\n",
    "os.chdir(paper_dir)"
   ]
  },
  {
   "cell_type": "code",
   "execution_count": 6,
   "metadata": {
    "ExecuteTime": {
     "end_time": "2021-05-04T12:47:05.407210Z",
     "start_time": "2021-05-04T12:47:04.813049Z"
    }
   },
   "outputs": [],
   "source": [
    "from LabData.DataLoaders.MetabolonLoader import MetabolonLoader"
   ]
  },
  {
   "cell_type": "code",
   "execution_count": 2,
   "metadata": {
    "ExecuteTime": {
     "end_time": "2021-05-04T12:45:25.676838Z",
     "start_time": "2021-05-04T12:45:24.607935Z"
    }
   },
   "outputs": [
    {
     "name": "stderr",
     "output_type": "stream",
     "text": [
      "Columns (10,23,30,33,40,96,97,101,107,110,111,112,131,132,133,134,135,136,137,138,139,140,141,142,143,145,148,149,150,151,152,153,155,157,159,169,170,179,184) have mixed types.Specify dtype option on import or set low_memory=False.\n"
     ]
    }
   ],
   "source": [
    "acs_data_metabolon = pd.read_csv(os.path.join(paper_dir, 'serum_metabolomics_signatures', 'acs_data_metabolon.csv'), index_col=0)\n",
    "acs_data_metabolon['combined_outcome'] = acs_data_metabolon[['Acute MI', 'Acute stroke', 'Acute limb event', 'Unplanned PCI', 'New-onset HF', 'New-onset Afib', 'CV hospitalization including chest pain', 'CV death',]].any(1)\n",
    "acs_data_metabolon['Acute_MI_or_Stroke'] = acs_data_metabolon[['Acute MI', 'Acute stroke']].any(1)\n",
    "acs_data_metabolon['combined_cvd_outcome'] = acs_data_metabolon[['Acute MI', 'Acute stroke', 'Unplanned PCI', 'CV death',]].any(1)"
   ]
  },
  {
   "cell_type": "code",
   "execution_count": 4,
   "metadata": {
    "ExecuteTime": {
     "end_time": "2021-05-04T12:45:55.891429Z",
     "start_time": "2021-05-04T12:45:55.825880Z"
    }
   },
   "outputs": [],
   "source": [
    "storage_bad_metabs = pd.read_pickle(os.path.join('../data', 'storage_time_bad_metabs_bonf.pkl'))"
   ]
  },
  {
   "cell_type": "code",
   "execution_count": 7,
   "metadata": {
    "ExecuteTime": {
     "end_time": "2021-05-04T12:47:09.950975Z",
     "start_time": "2021-05-04T12:47:06.846103Z"
    }
   },
   "outputs": [],
   "source": [
    "metabolon = MetabolonLoader().get_data(study_ids=['PNP1', 'Cardio'], metabolon_runs=['Metabolon_MAR2017', 'Metabolon_MAY2018'],\n",
    "                                       robust_zs=True, clip_outliers_std=5, clip_outliers_or_na='clip', fill_missing_with_min=True, \n",
    "                                       log_transform_base=10, norm_within_run_using_anchors=None, norm_across_run_using_anchors=True, \n",
    "                                       normalize_std=True)"
   ]
  },
  {
   "cell_type": "code",
   "execution_count": 12,
   "metadata": {
    "ExecuteTime": {
     "end_time": "2021-05-04T12:52:44.585251Z",
     "start_time": "2021-05-04T12:52:44.057674Z"
    }
   },
   "outputs": [],
   "source": [
    "metabolon_cols = list(set(metabolon.df.columns) - set(storage_bad_metabs))\n",
    "acs_data_metabolon.loc[:, metabolon_cols].to_csv(os.path.join(curr_dir, 'acs_936metabs_X.csv'))\n",
    "acs_data_metabolon.loc[:, ['combined_outcome', 'Acute_MI_or_Stroke', 'combined_cvd_outcome']].to_csv(os.path.join(curr_dir, 'acs_outcomes.csv'))"
   ]
  },
  {
   "cell_type": "markdown",
   "metadata": {},
   "source": [
    "python ~/workspace/metabolon/Analyses/RSCV.py ./outcome_RSCV -n_cols_per_job 1 -n_random 5 -path_to_X /net/mraid08/export/jafar/Microbiome/Analyses/Noamba/Cardio/ACS_study/v2/outcome_prediction/acs_936metabs_X.csv -path_to_Y /net/mraid08/export/jafar/Microbiome/Analyses/Noamba/Cardio/ACS_study/v2/outcome_prediction/acs_outcomes.csv  &"
   ]
  },
  {
   "cell_type": "code",
   "execution_count": null,
   "metadata": {},
   "outputs": [],
   "source": []
  },
  {
   "cell_type": "code",
   "execution_count": null,
   "metadata": {},
   "outputs": [],
   "source": []
  },
  {
   "cell_type": "code",
   "execution_count": null,
   "metadata": {},
   "outputs": [],
   "source": []
  },
  {
   "cell_type": "code",
   "execution_count": null,
   "metadata": {},
   "outputs": [],
   "source": []
  },
  {
   "cell_type": "code",
   "execution_count": null,
   "metadata": {},
   "outputs": [],
   "source": []
  }
 ],
 "metadata": {
  "kernelspec": {
   "display_name": "Python 3",
   "language": "python",
   "name": "python3"
  },
  "language_info": {
   "codemirror_mode": {
    "name": "ipython",
    "version": 3
   },
   "file_extension": ".py",
   "mimetype": "text/x-python",
   "name": "python",
   "nbconvert_exporter": "python",
   "pygments_lexer": "ipython3",
   "version": "3.7.4"
  },
  "toc": {
   "nav_menu": {},
   "number_sections": true,
   "sideBar": true,
   "skip_h1_title": false,
   "toc_cell": false,
   "toc_position": {},
   "toc_section_display": "block",
   "toc_window_display": false
  }
 },
 "nbformat": 4,
 "nbformat_minor": 4
}
