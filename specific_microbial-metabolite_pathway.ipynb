{
 "cells": [
  {
   "cell_type": "markdown",
   "metadata": {},
   "source": [
    "# Setup"
   ]
  },
  {
   "cell_type": "code",
   "execution_count": 29,
   "metadata": {
    "ExecuteTime": {
     "end_time": "2021-09-12T07:46:56.938083Z",
     "start_time": "2021-09-12T07:46:54.584419Z"
    }
   },
   "outputs": [
    {
     "name": "stdout",
     "output_type": "stream",
     "text": [
      "The autoreload extension is already loaded. To reload it, use:\n",
      "  %reload_ext autoreload\n"
     ]
    }
   ],
   "source": [
    "%load_ext autoreload\n",
    "%autoreload 2\n",
    "%matplotlib inline\n",
    "\n",
    "from helper_functions import *\n",
    "\n",
    "import os\n",
    "import matplotlib.pyplot as plt\n",
    "import seaborn as sns\n",
    "import numpy as np\n",
    "import pandas as pd\n",
    "from scipy.stats import spearmanr\n",
    "from mne.stats import fdr_correction\n",
    "\n",
    "curr_dir = mkdirifnotexists(os.path.join('specific_mb-metabolite_pathway'))"
   ]
  },
  {
   "cell_type": "markdown",
   "metadata": {},
   "source": [
    "# Load data"
   ]
  },
  {
   "cell_type": "code",
   "execution_count": 20,
   "metadata": {
    "ExecuteTime": {
     "end_time": "2021-09-12T07:44:54.833865Z",
     "start_time": "2021-09-12T07:44:50.178604Z"
    }
   },
   "outputs": [
    {
     "name": "stderr",
     "output_type": "stream",
     "text": [
      "/usr/wisdom/python-3.7.4/lib/python3.7/site-packages/IPython/core/interactiveshell.py:3170: DtypeWarning: Columns (43) have mixed types.Specify dtype option on import or set low_memory=False.\n",
      "  interactivity=interactivity, compiler=compiler, result=result)\n",
      "/usr/wisdom/python-3.7.4/lib/python3.7/site-packages/IPython/core/interactiveshell.py:3170: DtypeWarning: Columns (43,3236) have mixed types.Specify dtype option on import or set low_memory=False.\n",
      "  interactivity=interactivity, compiler=compiler, result=result)\n",
      "/usr/wisdom/python-3.7.4/lib/python3.7/site-packages/IPython/core/interactiveshell.py:3170: DtypeWarning: Columns (1,11,24,31,41,97,108,111,112,113,132,133,134,135,136,137,138,139,140,141,142,143,144,146,149,150,151,152,153,154,156,158,160,170,171,180,185,3213) have mixed types.Specify dtype option on import or set low_memory=False.\n",
      "  interactivity=interactivity, compiler=compiler, result=result)\n"
     ]
    }
   ],
   "source": [
    "acs_data = pd.read_csv('data/ACS_full_data.csv', index_col=0)\n",
    "pnp_data = pd.read_csv('data/pnp1_full_data.csv', index_col='RegistrationCode')\n",
    "pnp_data = pnp_data[pnp_data.IsGenotek == 0]\n",
    "pnp_data = pnp_data[pnp_data.Nextera == 'True']\n",
    "acs_data['ACS sample'] = 1\n",
    "pnp_data['ACS sample'] = 0\n",
    "\n",
    "pnp_data_metabolon = pd.read_csv(os.path.join('data', 'pnp_data_metabolon_storage_residuals.csv'), index_col=0)\n",
    "acs_data_metabolon = pd.read_csv(os.path.join('data', 'acs_data_metabolon_storage_residuals.csv'), index_col=0)\n",
    "updated_metabs1 = pd.read_csv('additional_metabolon_files/updated_metabs1.csv', index_col=0)\n",
    "circ_heatmap_df_sorted = pd.read_csv(os.path.join('serum_metabolomics_signatures', 'metabolon', 'circ_heatmap_df_sorted_MMC_no_HPN_DYS-DM.csv'), index_col=0)\n",
    "unknowns_sp = # Supplementary Table 2 from https://doi.org/10.1038/s41586-020-2896-2"
   ]
  },
  {
   "cell_type": "code",
   "execution_count": 21,
   "metadata": {
    "ExecuteTime": {
     "end_time": "2021-09-12T07:45:06.214984Z",
     "start_time": "2021-09-12T07:45:05.996973Z"
    }
   },
   "outputs": [],
   "source": [
    "storage_bad_metabs = pd.read_pickle(os.path.join('data', 'storage_time_bad_metabs_bonf.pkl'))"
   ]
  },
  {
   "cell_type": "markdown",
   "metadata": {},
   "source": [
    "## MetaCardis"
   ]
  },
  {
   "cell_type": "code",
   "execution_count": 22,
   "metadata": {
    "ExecuteTime": {
     "end_time": "2021-09-12T07:45:23.086386Z",
     "start_time": "2021-09-12T07:45:19.878805Z"
    }
   },
   "outputs": [
    {
     "name": "stdout",
     "output_type": "stream",
     "text": [
      "{'hub.serum_tmao.v1.samples.r', 'hub.lipo.samples.v3.r', 'hub.urine_annotated.samples.v2.r', 'hub.serum_absolute.v1.samples.r'}\n"
     ]
    },
    {
     "data": {
      "text/plain": [
       "IHD372     269\n",
       "HC275      225\n",
       "MMC269     188\n",
       "UMCC222    159\n",
       "Name: Group, dtype: int64"
      ]
     },
     "execution_count": 22,
     "metadata": {},
     "output_type": "execute_result"
    }
   ],
   "source": [
    "metacardis_dir = os.path.join('MetaCardis')\n",
    "metacardis_X_path = os.path.join(metacardis_dir, 'dataframes', 'mb_diet_covariates_drugs_group.csv')\n",
    "metacardis_metabolomics_path = os.path.join(metacardis_dir, 'metabolomics', 'robust_zs_metabolomics/proc_metabolomics_clipped.csv')\n",
    "metacardis_X = pd.read_csv(metacardis_X_path, index_col=0)\n",
    "metacardis_metadata_path = os.path.join(metacardis_dir, 'metabolomics', 'metadata', 'hub.metadata_reduced.samples.v10.r')\n",
    "metacardis_X = metacardis_X.merge(pd.read_csv(metacardis_metadata_path, sep='\\t', index_col=0)[['PATGROUPFINAL_C']], on='SampleID', how='left')\n",
    "metacardis_X_age_bmi = metacardis_X[['AGE', 'BMI_C', 'Group']].copy()\n",
    "metacardis_metabolomics = pd.read_csv(metacardis_metabolomics_path, index_col=0)\n",
    "print (set([s.split('___')[0] for s in metacardis_metabolomics.columns]))\n",
    "metacardis_serum_metabolomics = metacardis_metabolomics.loc[:, ['urine' not in s.split('___')[0] for s in metacardis_metabolomics.columns]].dropna()\n",
    "# metacardis_serum_metabolomics = metacardis_metabolomics.filter(regex='hub.lipo.samples.v3.r')\n",
    "full_index = list(set(metacardis_serum_metabolomics.index).intersection(set(metacardis_X_age_bmi.index)))\n",
    "metacardis_serum_metabolomics, metacardis_X_age_bmi = metacardis_serum_metabolomics.loc[full_index].astype(float), metacardis_X_age_bmi.loc[full_index]\n",
    "metacardis_serum_metabolomics.index.names = ['SampleID']\n",
    "metacardis_X_age_bmi.Group.value_counts()"
   ]
  },
  {
   "cell_type": "markdown",
   "metadata": {
    "ExecuteTime": {
     "end_time": "2020-07-09T07:34:23.600517Z",
     "start_time": "2020-07-09T07:34:23.549303Z"
    }
   },
   "source": [
    "# bacteria-metabolite correlations"
   ]
  },
  {
   "cell_type": "code",
   "execution_count": 30,
   "metadata": {
    "ExecuteTime": {
     "end_time": "2021-09-12T07:47:02.946121Z",
     "start_time": "2021-09-12T07:47:00.753814Z"
    }
   },
   "outputs": [],
   "source": [
    "k = 'k__Bacteria|p__Firmicutes|c__Clostridia|o__Clostridiales|f__Clostridiaceae|g__unknown|s__unknown|fSGB__1439|gSGB__3527|sSGB__4712'\n",
    "kp = pnp_data_metabolon.loc[:, list(set(circ_heatmap_df_sorted.index) - set(storage_bad_metabs))].astype(float)\\\n",
    "            .apply(lambda x: spearmanr(x, pnp_data_metabolon[k], nan_policy='omit')[1]).sort_values()\n",
    "kr = pnp_data_metabolon.loc[:, list(set(circ_heatmap_df_sorted.index) - set(storage_bad_metabs))].astype(float)\\\n",
    "            .apply(lambda x: spearmanr(x, pnp_data_metabolon[k], nan_policy='omit')[0]).sort_values()"
   ]
  },
  {
   "cell_type": "code",
   "execution_count": 33,
   "metadata": {
    "ExecuteTime": {
     "end_time": "2021-09-12T07:49:05.366616Z",
     "start_time": "2021-09-12T07:49:05.309794Z"
    }
   },
   "outputs": [
    {
     "data": {
      "text/plain": [
       "Index(['100006191', '100001315', 'X - 23997', '100000011', '100001417',\n",
       "       'X - 11843', 'X - 11850', '100004318', '100000467', 'X - 21286',\n",
       "       '100006260', 'X - 24473', '100002154', 'X - 11315', 'X - 12013'],\n",
       "      dtype='object')"
      ]
     },
     "execution_count": 33,
     "metadata": {},
     "output_type": "execute_result"
    }
   ],
   "source": [
    "fdr_correction(kp, alpha=0.01)[0].sum()\n",
    "used_metabs = kp[fdr_correction(kp, alpha=0.01)[0]].index\n",
    "used_metabs"
   ]
  },
  {
   "cell_type": "code",
   "execution_count": 34,
   "metadata": {
    "ExecuteTime": {
     "end_time": "2021-09-12T07:50:20.560963Z",
     "start_time": "2021-09-12T07:50:19.755869Z"
    }
   },
   "outputs": [
    {
     "name": "stdout",
     "output_type": "stream",
     "text": [
      "SpearmanrResult(correlation=-0.7178571428571427, pvalue=0.002581165308218854)\n"
     ]
    },
    {
     "data": {
      "text/html": [
       "<div>\n",
       "<style scoped>\n",
       "    .dataframe tbody tr th:only-of-type {\n",
       "        vertical-align: middle;\n",
       "    }\n",
       "\n",
       "    .dataframe tbody tr th {\n",
       "        vertical-align: top;\n",
       "    }\n",
       "\n",
       "    .dataframe thead th {\n",
       "        text-align: right;\n",
       "    }\n",
       "</style>\n",
       "<table border=\"1\" class=\"dataframe\">\n",
       "  <thead>\n",
       "    <tr style=\"text-align: right;\">\n",
       "      <th></th>\n",
       "      <th>BIOCHEMICAL</th>\n",
       "      <th>SUB_PATHWAY</th>\n",
       "      <th>Healthy-ACS</th>\n",
       "      <th>Correlation with bacteria</th>\n",
       "    </tr>\n",
       "  </thead>\n",
       "  <tbody>\n",
       "    <tr>\n",
       "      <th>100006191</th>\n",
       "      <td>p-cresol-glucuronide*</td>\n",
       "      <td>Tyrosine Metabolism</td>\n",
       "      <td>2.706013</td>\n",
       "      <td>-0.326299</td>\n",
       "    </tr>\n",
       "    <tr>\n",
       "      <th>100001315</th>\n",
       "      <td>p-cresol sulfate</td>\n",
       "      <td>Benzoate Metabolism</td>\n",
       "      <td>0.719160</td>\n",
       "      <td>-0.303341</td>\n",
       "    </tr>\n",
       "    <tr>\n",
       "      <th>X - 23997</th>\n",
       "      <td>X - 23997</td>\n",
       "      <td>Benzoate Metabolism</td>\n",
       "      <td>2.004256</td>\n",
       "      <td>-0.264162</td>\n",
       "    </tr>\n",
       "    <tr>\n",
       "      <th>100000011</th>\n",
       "      <td>phenylacetate</td>\n",
       "      <td>Phenylalanine Metabolism</td>\n",
       "      <td>0.401433</td>\n",
       "      <td>-0.245824</td>\n",
       "    </tr>\n",
       "    <tr>\n",
       "      <th>100001417</th>\n",
       "      <td>phenylacetylglutamine</td>\n",
       "      <td>Acetylated Peptides</td>\n",
       "      <td>0.203488</td>\n",
       "      <td>-0.237588</td>\n",
       "    </tr>\n",
       "    <tr>\n",
       "      <th>X - 11843</th>\n",
       "      <td>X - 11843</td>\n",
       "      <td>Tryptophan Metabolism</td>\n",
       "      <td>0.624293</td>\n",
       "      <td>-0.236423</td>\n",
       "    </tr>\n",
       "    <tr>\n",
       "      <th>X - 11850</th>\n",
       "      <td>X - 11850</td>\n",
       "      <td>Tryptophan Metabolism</td>\n",
       "      <td>0.022319</td>\n",
       "      <td>-0.234963</td>\n",
       "    </tr>\n",
       "    <tr>\n",
       "      <th>100004318</th>\n",
       "      <td>indolin-2-one</td>\n",
       "      <td>Food Component/Plant</td>\n",
       "      <td>-0.293088</td>\n",
       "      <td>-0.225272</td>\n",
       "    </tr>\n",
       "    <tr>\n",
       "      <th>100000467</th>\n",
       "      <td>3-indoxyl sulfate</td>\n",
       "      <td>Tryptophan Metabolism</td>\n",
       "      <td>-0.313810</td>\n",
       "      <td>-0.217537</td>\n",
       "    </tr>\n",
       "    <tr>\n",
       "      <th>X - 21286</th>\n",
       "      <td>X - 21286</td>\n",
       "      <td>Tryptophan Metabolism</td>\n",
       "      <td>0.328052</td>\n",
       "      <td>-0.208005</td>\n",
       "    </tr>\n",
       "    <tr>\n",
       "      <th>100006260</th>\n",
       "      <td>6-hydroxyindole sulfate</td>\n",
       "      <td>Chemical</td>\n",
       "      <td>-0.939846</td>\n",
       "      <td>-0.207478</td>\n",
       "    </tr>\n",
       "    <tr>\n",
       "      <th>X - 24473</th>\n",
       "      <td>X - 24473</td>\n",
       "      <td>Food Component/Plant</td>\n",
       "      <td>-9.012452</td>\n",
       "      <td>0.196977</td>\n",
       "    </tr>\n",
       "    <tr>\n",
       "      <th>100002154</th>\n",
       "      <td>ergothioneine</td>\n",
       "      <td>Food Component/Plant</td>\n",
       "      <td>-4.923344</td>\n",
       "      <td>0.184157</td>\n",
       "    </tr>\n",
       "    <tr>\n",
       "      <th>X - 11315</th>\n",
       "      <td>X - 11315</td>\n",
       "      <td>Food Component/Plant</td>\n",
       "      <td>1.420944</td>\n",
       "      <td>0.183926</td>\n",
       "    </tr>\n",
       "    <tr>\n",
       "      <th>X - 12013</th>\n",
       "      <td>X - 12013</td>\n",
       "      <td>Food Component/Plant</td>\n",
       "      <td>-0.190835</td>\n",
       "      <td>-0.173963</td>\n",
       "    </tr>\n",
       "  </tbody>\n",
       "</table>\n",
       "</div>"
      ],
      "text/plain": [
       "                       BIOCHEMICAL               SUB_PATHWAY  Healthy-ACS  \\\n",
       "100006191    p-cresol-glucuronide*       Tyrosine Metabolism     2.706013   \n",
       "100001315         p-cresol sulfate       Benzoate Metabolism     0.719160   \n",
       "X - 23997                X - 23997       Benzoate Metabolism     2.004256   \n",
       "100000011            phenylacetate  Phenylalanine Metabolism     0.401433   \n",
       "100001417    phenylacetylglutamine       Acetylated Peptides     0.203488   \n",
       "X - 11843                X - 11843     Tryptophan Metabolism     0.624293   \n",
       "X - 11850                X - 11850     Tryptophan Metabolism     0.022319   \n",
       "100004318            indolin-2-one      Food Component/Plant    -0.293088   \n",
       "100000467        3-indoxyl sulfate     Tryptophan Metabolism    -0.313810   \n",
       "X - 21286                X - 21286     Tryptophan Metabolism     0.328052   \n",
       "100006260  6-hydroxyindole sulfate                  Chemical    -0.939846   \n",
       "X - 24473                X - 24473      Food Component/Plant    -9.012452   \n",
       "100002154            ergothioneine      Food Component/Plant    -4.923344   \n",
       "X - 11315                X - 11315      Food Component/Plant     1.420944   \n",
       "X - 12013                X - 12013      Food Component/Plant    -0.190835   \n",
       "\n",
       "           Correlation with bacteria  \n",
       "100006191                  -0.326299  \n",
       "100001315                  -0.303341  \n",
       "X - 23997                  -0.264162  \n",
       "100000011                  -0.245824  \n",
       "100001417                  -0.237588  \n",
       "X - 11843                  -0.236423  \n",
       "X - 11850                  -0.234963  \n",
       "100004318                  -0.225272  \n",
       "100000467                  -0.217537  \n",
       "X - 21286                  -0.208005  \n",
       "100006260                  -0.207478  \n",
       "X - 24473                   0.196977  \n",
       "100002154                   0.184157  \n",
       "X - 11315                   0.183926  \n",
       "X - 12013                  -0.173963  "
      ]
     },
     "execution_count": 34,
     "metadata": {},
     "output_type": "execute_result"
    }
   ],
   "source": [
    "df_temp = pd.concat((updated_metabs1.loc[used_metabs, ['BIOCHEMICAL', 'SUB_PATHWAY']], \n",
    "               circ_heatmap_df_sorted.loc[used_metabs, 'Healthy-ACS'],\n",
    "               kr.loc[used_metabs].rename('Correlation with bacteria')), axis=1)\n",
    "df_temp['SUB_PATHWAY'].fillna(unknowns_sp.reindex(used_metabs).idxmax(1), inplace=True)\n",
    "print (spearmanr(df_temp['Correlation with bacteria'], df_temp['Healthy-ACS']))\n",
    "df_temp.to_csv(os.path.join(curr_dir, 'SGB4712_correlations.csv'))\n",
    "df_temp"
   ]
  },
  {
   "cell_type": "code",
   "execution_count": 30,
   "metadata": {
    "ExecuteTime": {
     "end_time": "2021-05-06T07:45:03.129412Z",
     "start_time": "2021-05-06T07:45:03.033635Z"
    },
    "scrolled": true
   },
   "outputs": [
    {
     "data": {
      "text/html": [
       "<div>\n",
       "<style scoped>\n",
       "    .dataframe tbody tr th:only-of-type {\n",
       "        vertical-align: middle;\n",
       "    }\n",
       "\n",
       "    .dataframe tbody tr th {\n",
       "        vertical-align: top;\n",
       "    }\n",
       "\n",
       "    .dataframe thead th {\n",
       "        text-align: right;\n",
       "    }\n",
       "</style>\n",
       "<table border=\"1\" class=\"dataframe\">\n",
       "  <thead>\n",
       "    <tr style=\"text-align: right;\">\n",
       "      <th></th>\n",
       "      <th>k__Bacteria|p__Firmicutes|c__Clostridia|o__Clostridiales|f__Clostridiaceae|g__unknown|s__unknown|fSGB__1439|gSGB__3527|sSGB__4712</th>\n",
       "      <th>Group</th>\n",
       "      <th>Cohort</th>\n",
       "    </tr>\n",
       "    <tr>\n",
       "      <th>RegistrationCode</th>\n",
       "      <th></th>\n",
       "      <th></th>\n",
       "      <th></th>\n",
       "    </tr>\n",
       "  </thead>\n",
       "  <tbody>\n",
       "    <tr>\n",
       "      <th>x10MCx3300</th>\n",
       "      <td>0.003701</td>\n",
       "      <td>0.66</td>\n",
       "      <td>MetaCardis</td>\n",
       "    </tr>\n",
       "    <tr>\n",
       "      <th>x12MCx1639</th>\n",
       "      <td>0.000195</td>\n",
       "      <td>1.00</td>\n",
       "      <td>MetaCardis</td>\n",
       "    </tr>\n",
       "    <tr>\n",
       "      <th>x12MCx1893</th>\n",
       "      <td>0.000577</td>\n",
       "      <td>1.00</td>\n",
       "      <td>MetaCardis</td>\n",
       "    </tr>\n",
       "    <tr>\n",
       "      <th>x10MCx1668</th>\n",
       "      <td>0.000100</td>\n",
       "      <td>1.00</td>\n",
       "      <td>MetaCardis</td>\n",
       "    </tr>\n",
       "    <tr>\n",
       "      <th>x30MCx1902</th>\n",
       "      <td>0.000100</td>\n",
       "      <td>1.00</td>\n",
       "      <td>MetaCardis</td>\n",
       "    </tr>\n",
       "    <tr>\n",
       "      <th>...</th>\n",
       "      <td>...</td>\n",
       "      <td>...</td>\n",
       "      <td>...</td>\n",
       "    </tr>\n",
       "    <tr>\n",
       "      <th>3972217</th>\n",
       "      <td>0.000100</td>\n",
       "      <td>1.00</td>\n",
       "      <td>Our cohort</td>\n",
       "    </tr>\n",
       "    <tr>\n",
       "      <th>3437341</th>\n",
       "      <td>0.000100</td>\n",
       "      <td>1.00</td>\n",
       "      <td>Our cohort</td>\n",
       "    </tr>\n",
       "    <tr>\n",
       "      <th>3096233</th>\n",
       "      <td>0.000100</td>\n",
       "      <td>1.00</td>\n",
       "      <td>Our cohort</td>\n",
       "    </tr>\n",
       "    <tr>\n",
       "      <th>3048271</th>\n",
       "      <td>0.000100</td>\n",
       "      <td>1.00</td>\n",
       "      <td>Our cohort</td>\n",
       "    </tr>\n",
       "    <tr>\n",
       "      <th>3652207</th>\n",
       "      <td>0.000100</td>\n",
       "      <td>1.00</td>\n",
       "      <td>Our cohort</td>\n",
       "    </tr>\n",
       "  </tbody>\n",
       "</table>\n",
       "<p>1151 rows × 3 columns</p>\n",
       "</div>"
      ],
      "text/plain": [
       "                  k__Bacteria|p__Firmicutes|c__Clostridia|o__Clostridiales|f__Clostridiaceae|g__unknown|s__unknown|fSGB__1439|gSGB__3527|sSGB__4712  \\\n",
       "RegistrationCode                                                                                                                                      \n",
       "x10MCx3300                                                 0.003701                                                                                   \n",
       "x12MCx1639                                                 0.000195                                                                                   \n",
       "x12MCx1893                                                 0.000577                                                                                   \n",
       "x10MCx1668                                                 0.000100                                                                                   \n",
       "x30MCx1902                                                 0.000100                                                                                   \n",
       "...                                                             ...                                                                                   \n",
       "3972217                                                    0.000100                                                                                   \n",
       "3437341                                                    0.000100                                                                                   \n",
       "3096233                                                    0.000100                                                                                   \n",
       "3048271                                                    0.000100                                                                                   \n",
       "3652207                                                    0.000100                                                                                   \n",
       "\n",
       "                  Group      Cohort  \n",
       "RegistrationCode                     \n",
       "x10MCx3300         0.66  MetaCardis  \n",
       "x12MCx1639         1.00  MetaCardis  \n",
       "x12MCx1893         1.00  MetaCardis  \n",
       "x10MCx1668         1.00  MetaCardis  \n",
       "x30MCx1902         1.00  MetaCardis  \n",
       "...                 ...         ...  \n",
       "3972217            1.00  Our cohort  \n",
       "3437341            1.00  Our cohort  \n",
       "3096233            1.00  Our cohort  \n",
       "3048271            1.00  Our cohort  \n",
       "3652207            1.00  Our cohort  \n",
       "\n",
       "[1151 rows x 3 columns]"
      ]
     },
     "execution_count": 30,
     "metadata": {},
     "output_type": "execute_result"
    }
   ],
   "source": [
    "mb_df = pd.concat((metacardis_X[[k, 'Group']].rename_axis('RegistrationCode'), \n",
    "                                matched_pnp_data[[k, 'ACS sample']],\n",
    "                                matched_acs_data[[k, 'ACS sample']]), axis=0, sort=False)\n",
    "#                                 pnp_data[[k, 'ACS sample']],\n",
    "#                                 acs_data[[k, 'ACS sample']]), axis=0, sort=False)\n",
    "\n",
    "mb_df['Group'].fillna(mb_df['ACS sample'], inplace=True)\n",
    "mb_df['Group'].replace({'HC275':0, 'IHD372':1, 'MMC269':0.33, 'UMCC222':0.66}, inplace=True)\n",
    "mb_df['ACS sample'] = ['MetaCardis' if pd.isnull(s) else 'Our cohort' for s in mb_df['ACS sample']]\n",
    "mb_df.rename(columns={'ACS sample':'Cohort'}, inplace=True)\n",
    "\n",
    "mb_df"
   ]
  },
  {
   "cell_type": "markdown",
   "metadata": {},
   "source": [
    "# Plot"
   ]
  },
  {
   "cell_type": "markdown",
   "metadata": {},
   "source": [
    "## merge boxplots into supplementary"
   ]
  },
  {
   "cell_type": "code",
   "execution_count": 15,
   "metadata": {
    "ExecuteTime": {
     "end_time": "2020-12-17T07:41:03.401425Z",
     "start_time": "2020-12-17T07:41:00.447531Z"
    }
   },
   "outputs": [
    {
     "name": "stderr",
     "output_type": "stream",
     "text": [
      "No handles with labels found to put in legend.\n",
      "No handles with labels found to put in legend.\n"
     ]
    },
    {
     "name": "stdout",
     "output_type": "stream",
     "text": [
      "[0 1]\n",
      "[0 1 2 3]\n"
     ]
    },
    {
     "data": {
      "image/png": "[encoded data removed]",
      "text/plain": [
       "<Figure size 720x288 with 2 Axes>"
      ]
     },
     "metadata": {
      "needs_background": "light"
     },
     "output_type": "display_data"
    }
   ],
   "source": [
    "label_fontsize=20\n",
    "tick_fontsize=15\n",
    "\n",
    "fig, axes = plt.subplots(1, 2, figsize=(10, 4))\n",
    "\n",
    "\n",
    "ax = axes[0]\n",
    "sns.boxplot(x='Group', y=k, data=mb_df[mb_df.Cohort == 'Our cohort'].sort_values('Group'), ax=ax, showfliers=False, palette=[healthy_color, acs_color], width=0.4)\n",
    "# ax.set_xticklabels(['HC', 'MMC', 'UMCC', 'IHD/ACS'])\n",
    "ax.set_xticklabels(['Control', 'ACS'])\n",
    "# plt.xticks(['HC275', 'MMC269', 'UMCC222', 'IHD372'])\n",
    "ax.set_yscale('log')\n",
    "ax.set_ylabel('SGB 4712 (r.a.)', fontsize=label_fontsize)\n",
    "ax.set_xlabel('Our cohort', fontsize=label_fontsize)\n",
    "ax.tick_params(labelsize=tick_fontsize)\n",
    "leg = ax.legend(loc='upper left', fontsize=tick_fontsize, frameon=False)\n",
    "ax.set_ylim((9e-5, 2e-3))\n",
    "ax.spines['top'].set_visible(False)\n",
    "ax.spines['right'].set_visible(False)\n",
    "print (ax.get_xticks())\n",
    "\n",
    "t, p = mannwhitneyu(mb_df[(mb_df['Cohort'] == 'Our cohort') & (mb_df['Group'] == 1)][k], mb_df[(mb_df['Cohort'] == 'Our cohort') & (mb_df['Group'] == 0)][k])\n",
    "xx=0.5\n",
    "ax.text(xx, 0.0015,  'p=%0.1g'%p, ha='center', fontsize=tick_fontsize, va='bottom')\n",
    "ax.hlines(y=0.0015, xmin=xx-0.5, xmax=xx+0.5, linewidth=1, color='black')\n",
    "\n",
    "ax = axes[1]\n",
    "sns.boxplot(x='Group', y=k, data=mb_df[mb_df.Cohort == 'MetaCardis'].sort_values('Group'), ax=ax, showfliers=False, palette=[healthy_color, healthy_color, healthy_color, acs_color])\n",
    "ax.set_xticklabels(['HC', 'MMC', 'UMCC', 'IHD'])\n",
    "# ax.set_xticklabels(['Healthy', 'ACS'])\n",
    "# plt.xticks(['HC275', 'MMC269', 'UMCC222', 'IHD372'])\n",
    "ax.set_yscale('log')\n",
    "ax.set_ylabel('SGB 4712 (r.a.)', fontsize=label_fontsize)\n",
    "ax.set_xlabel('Validation cohort (MetaCardis)', fontsize=label_fontsize)\n",
    "ax.tick_params(labelsize=tick_fontsize)\n",
    "leg = ax.legend(loc='upper left', fontsize=tick_fontsize, frameon=False)\n",
    "ax.set_ylim((9e-5, 5e-3))\n",
    "ax.spines['top'].set_visible(False)\n",
    "ax.spines['right'].set_visible(False)\n",
    "print (ax.get_xticks())\n",
    "\n",
    "t, p = mannwhitneyu(mb_df[(mb_df['Cohort'] == 'MetaCardis') & (mb_df['Group'] == 1)][k], mb_df[(mb_df['Cohort'] == 'MetaCardis') & (mb_df['Group'] == 0.66)][k])\n",
    "xx=2.5\n",
    "ax.text(xx, 0.002,  'p=%0.1g'%p, ha='center', fontsize=tick_fontsize, va='bottom')\n",
    "ax.hlines(y=0.002, xmin=xx-0.5, xmax=xx+0.5, linewidth=1, color='black')\n",
    "t, p = mannwhitneyu(mb_df[(mb_df['Cohort'] == 'MetaCardis') & (mb_df['Group'] == 1)][k], mb_df[(mb_df['Cohort'] == 'MetaCardis') & (mb_df['Group'] == 0.33)][k])\n",
    "xx=2.\n",
    "ax.text(xx, 0.0028,  'p=%0.1g'%p, ha='center', fontsize=tick_fontsize, va='bottom')\n",
    "ax.hlines(y=0.0028, xmin=xx-1, xmax=xx+1, linewidth=1, color='black')\n",
    "t, p = mannwhitneyu(mb_df[(mb_df['Cohort'] == 'MetaCardis') & (mb_df['Group'] == 1)][k], mb_df[(mb_df['Cohort'] == 'MetaCardis') & (mb_df['Group'] == 0.)][k])\n",
    "xx=1.5\n",
    "ax.text(xx, 0.004,  'p=%0.1g'%p, ha='center', fontsize=tick_fontsize, va='bottom')\n",
    "ax.hlines(y=0.004, xmin=xx-1.5, xmax=xx+1.5, linewidth=1, color='black')\n",
    "\n",
    "fig.tight_layout()\n",
    "plt.text(-0.1, 1.0, 'a', ha='center', va='center', transform=axes[0].transAxes, fontsize=30, weight = 'bold')\n",
    "plt.text(-0.1, 1.0, 'b', ha='center', va='center', transform=axes[1].transAxes, fontsize=30, weight = 'bold')\n",
    "# plt.text(-0.2, 1.56, 'c', ha='center', va='center', transform=circ.transAxes, fontsize=30, weight = 'bold')\n",
    "\n",
    "plt.savefig(os.path.join(curr_dir, 'Extended_Data_figure_boxplots.png'), dpi=300, bbox_inches='tight')\n",
    "plt.savefig(os.path.join(curr_dir, 'Extended_Data_figure_boxplots.pdf'), dpi=300, bbox_inches='tight')"
   ]
  },
  {
   "cell_type": "code",
   "execution_count": 37,
   "metadata": {
    "ExecuteTime": {
     "end_time": "2021-09-12T07:55:53.710779Z",
     "start_time": "2021-09-12T07:55:53.659609Z"
    }
   },
   "outputs": [],
   "source": [
    "df = pd.DataFrame()\n",
    "df = pd.concat((df_temp, pd.DataFrame(0, index=['']*int(df_temp.shape[0]/3), columns=df_temp.columns)), axis=0, sort=False)\n",
    "df['BIOCHEMICAL'] = df['BIOCHEMICAL'].replace(0, '')\n",
    "df['SUB_PATHWAY'] = df['SUB_PATHWAY'].replace(0, '')\n",
    "df.drop('').to_csv(os.path.join(curr_dir, 'circ_heatmap_df.csv'))"
   ]
  },
  {
   "cell_type": "code",
   "execution_count": 39,
   "metadata": {
    "ExecuteTime": {
     "end_time": "2021-09-12T07:56:07.174449Z",
     "start_time": "2021-09-12T07:56:07.092093Z"
    }
   },
   "outputs": [],
   "source": [
    "import pickle\n",
    "\n",
    "required_data_for_plot = {'df':df}\n",
    "with open(os.path.join(curr_dir, 'required_data_for_plot.pkl'), 'wb') as handle:\n",
    "    pickle.dump(required_data_for_plot, handle)"
   ]
  },
  {
   "cell_type": "code",
   "execution_count": 40,
   "metadata": {
    "ExecuteTime": {
     "end_time": "2021-09-12T07:56:08.963334Z",
     "start_time": "2021-09-12T07:56:08.898009Z"
    }
   },
   "outputs": [
    {
     "data": {
      "text/html": [
       "<div>\n",
       "<style scoped>\n",
       "    .dataframe tbody tr th:only-of-type {\n",
       "        vertical-align: middle;\n",
       "    }\n",
       "\n",
       "    .dataframe tbody tr th {\n",
       "        vertical-align: top;\n",
       "    }\n",
       "\n",
       "    .dataframe thead th {\n",
       "        text-align: right;\n",
       "    }\n",
       "</style>\n",
       "<table border=\"1\" class=\"dataframe\">\n",
       "  <thead>\n",
       "    <tr style=\"text-align: right;\">\n",
       "      <th></th>\n",
       "      <th>BIOCHEMICAL</th>\n",
       "      <th>SUB_PATHWAY</th>\n",
       "      <th>Healthy-ACS</th>\n",
       "      <th>Correlation with bacteria</th>\n",
       "    </tr>\n",
       "  </thead>\n",
       "  <tbody>\n",
       "    <tr>\n",
       "      <th>100006191</th>\n",
       "      <td>p-cresol-glucuronide*</td>\n",
       "      <td>Tyrosine Metabolism</td>\n",
       "      <td>2.706013</td>\n",
       "      <td>-0.326299</td>\n",
       "    </tr>\n",
       "    <tr>\n",
       "      <th>100001315</th>\n",
       "      <td>p-cresol sulfate</td>\n",
       "      <td>Benzoate Metabolism</td>\n",
       "      <td>0.719160</td>\n",
       "      <td>-0.303341</td>\n",
       "    </tr>\n",
       "    <tr>\n",
       "      <th>X - 23997</th>\n",
       "      <td>X - 23997</td>\n",
       "      <td>Benzoate Metabolism</td>\n",
       "      <td>2.004256</td>\n",
       "      <td>-0.264162</td>\n",
       "    </tr>\n",
       "    <tr>\n",
       "      <th>100000011</th>\n",
       "      <td>phenylacetate</td>\n",
       "      <td>Phenylalanine Metabolism</td>\n",
       "      <td>0.401433</td>\n",
       "      <td>-0.245824</td>\n",
       "    </tr>\n",
       "    <tr>\n",
       "      <th>100001417</th>\n",
       "      <td>phenylacetylglutamine</td>\n",
       "      <td>Acetylated Peptides</td>\n",
       "      <td>0.203488</td>\n",
       "      <td>-0.237588</td>\n",
       "    </tr>\n",
       "    <tr>\n",
       "      <th>X - 11843</th>\n",
       "      <td>X - 11843</td>\n",
       "      <td>Tryptophan Metabolism</td>\n",
       "      <td>0.624293</td>\n",
       "      <td>-0.236423</td>\n",
       "    </tr>\n",
       "    <tr>\n",
       "      <th>X - 11850</th>\n",
       "      <td>X - 11850</td>\n",
       "      <td>Tryptophan Metabolism</td>\n",
       "      <td>0.022319</td>\n",
       "      <td>-0.234963</td>\n",
       "    </tr>\n",
       "    <tr>\n",
       "      <th>100004318</th>\n",
       "      <td>indolin-2-one</td>\n",
       "      <td>Food Component/Plant</td>\n",
       "      <td>-0.293088</td>\n",
       "      <td>-0.225272</td>\n",
       "    </tr>\n",
       "    <tr>\n",
       "      <th>100000467</th>\n",
       "      <td>3-indoxyl sulfate</td>\n",
       "      <td>Tryptophan Metabolism</td>\n",
       "      <td>-0.313810</td>\n",
       "      <td>-0.217537</td>\n",
       "    </tr>\n",
       "    <tr>\n",
       "      <th>X - 21286</th>\n",
       "      <td>X - 21286</td>\n",
       "      <td>Tryptophan Metabolism</td>\n",
       "      <td>0.328052</td>\n",
       "      <td>-0.208005</td>\n",
       "    </tr>\n",
       "    <tr>\n",
       "      <th>100006260</th>\n",
       "      <td>6-hydroxyindole sulfate</td>\n",
       "      <td>Chemical</td>\n",
       "      <td>-0.939846</td>\n",
       "      <td>-0.207478</td>\n",
       "    </tr>\n",
       "    <tr>\n",
       "      <th>X - 24473</th>\n",
       "      <td>X - 24473</td>\n",
       "      <td>Food Component/Plant</td>\n",
       "      <td>-9.012452</td>\n",
       "      <td>0.196977</td>\n",
       "    </tr>\n",
       "    <tr>\n",
       "      <th>100002154</th>\n",
       "      <td>ergothioneine</td>\n",
       "      <td>Food Component/Plant</td>\n",
       "      <td>-4.923344</td>\n",
       "      <td>0.184157</td>\n",
       "    </tr>\n",
       "    <tr>\n",
       "      <th>X - 11315</th>\n",
       "      <td>X - 11315</td>\n",
       "      <td>Food Component/Plant</td>\n",
       "      <td>1.420944</td>\n",
       "      <td>0.183926</td>\n",
       "    </tr>\n",
       "    <tr>\n",
       "      <th>X - 12013</th>\n",
       "      <td>X - 12013</td>\n",
       "      <td>Food Component/Plant</td>\n",
       "      <td>-0.190835</td>\n",
       "      <td>-0.173963</td>\n",
       "    </tr>\n",
       "    <tr>\n",
       "      <th></th>\n",
       "      <td></td>\n",
       "      <td></td>\n",
       "      <td>0.000000</td>\n",
       "      <td>0.000000</td>\n",
       "    </tr>\n",
       "    <tr>\n",
       "      <th></th>\n",
       "      <td></td>\n",
       "      <td></td>\n",
       "      <td>0.000000</td>\n",
       "      <td>0.000000</td>\n",
       "    </tr>\n",
       "    <tr>\n",
       "      <th></th>\n",
       "      <td></td>\n",
       "      <td></td>\n",
       "      <td>0.000000</td>\n",
       "      <td>0.000000</td>\n",
       "    </tr>\n",
       "    <tr>\n",
       "      <th></th>\n",
       "      <td></td>\n",
       "      <td></td>\n",
       "      <td>0.000000</td>\n",
       "      <td>0.000000</td>\n",
       "    </tr>\n",
       "    <tr>\n",
       "      <th></th>\n",
       "      <td></td>\n",
       "      <td></td>\n",
       "      <td>0.000000</td>\n",
       "      <td>0.000000</td>\n",
       "    </tr>\n",
       "  </tbody>\n",
       "</table>\n",
       "</div>"
      ],
      "text/plain": [
       "                       BIOCHEMICAL               SUB_PATHWAY  Healthy-ACS  \\\n",
       "100006191    p-cresol-glucuronide*       Tyrosine Metabolism     2.706013   \n",
       "100001315         p-cresol sulfate       Benzoate Metabolism     0.719160   \n",
       "X - 23997                X - 23997       Benzoate Metabolism     2.004256   \n",
       "100000011            phenylacetate  Phenylalanine Metabolism     0.401433   \n",
       "100001417    phenylacetylglutamine       Acetylated Peptides     0.203488   \n",
       "X - 11843                X - 11843     Tryptophan Metabolism     0.624293   \n",
       "X - 11850                X - 11850     Tryptophan Metabolism     0.022319   \n",
       "100004318            indolin-2-one      Food Component/Plant    -0.293088   \n",
       "100000467        3-indoxyl sulfate     Tryptophan Metabolism    -0.313810   \n",
       "X - 21286                X - 21286     Tryptophan Metabolism     0.328052   \n",
       "100006260  6-hydroxyindole sulfate                  Chemical    -0.939846   \n",
       "X - 24473                X - 24473      Food Component/Plant    -9.012452   \n",
       "100002154            ergothioneine      Food Component/Plant    -4.923344   \n",
       "X - 11315                X - 11315      Food Component/Plant     1.420944   \n",
       "X - 12013                X - 12013      Food Component/Plant    -0.190835   \n",
       "                                                                 0.000000   \n",
       "                                                                 0.000000   \n",
       "                                                                 0.000000   \n",
       "                                                                 0.000000   \n",
       "                                                                 0.000000   \n",
       "\n",
       "           Correlation with bacteria  \n",
       "100006191                  -0.326299  \n",
       "100001315                  -0.303341  \n",
       "X - 23997                  -0.264162  \n",
       "100000011                  -0.245824  \n",
       "100001417                  -0.237588  \n",
       "X - 11843                  -0.236423  \n",
       "X - 11850                  -0.234963  \n",
       "100004318                  -0.225272  \n",
       "100000467                  -0.217537  \n",
       "X - 21286                  -0.208005  \n",
       "100006260                  -0.207478  \n",
       "X - 24473                   0.196977  \n",
       "100002154                   0.184157  \n",
       "X - 11315                   0.183926  \n",
       "X - 12013                  -0.173963  \n",
       "                            0.000000  \n",
       "                            0.000000  \n",
       "                            0.000000  \n",
       "                            0.000000  \n",
       "                            0.000000  "
      ]
     },
     "execution_count": 40,
     "metadata": {},
     "output_type": "execute_result"
    }
   ],
   "source": [
    "df"
   ]
  },
  {
   "cell_type": "markdown",
   "metadata": {},
   "source": [
    "# colorbar"
   ]
  },
  {
   "cell_type": "code",
   "execution_count": 42,
   "metadata": {
    "ExecuteTime": {
     "end_time": "2021-09-12T07:59:45.768817Z",
     "start_time": "2021-09-12T07:59:45.008450Z"
    }
   },
   "outputs": [
    {
     "data": {
      "image/png": "[encoded data removed]",
      "text/plain": [
       "<Figure size 360x108 with 2 Axes>"
      ]
     },
     "metadata": {
      "needs_background": "light"
     },
     "output_type": "display_data"
    }
   ],
   "source": [
    "import matplotlib as mpl\n",
    "\n",
    "tick_fontsize = 15\n",
    "label_fontsize = 15\n",
    "\n",
    "fig, axes = plt.subplots(2, 1, figsize=(5, 1.5))\n",
    "\n",
    "ax = axes[0]\n",
    "norm1 = MidpointNormalize(vmin=-9, \n",
    "                          vmax=3, \n",
    "                          midpoint=-2.5)\n",
    "cmap1 = _get_scale_colors([cm_healthy, cm_acs], df_temp['Healthy-ACS'], return_cmap=True, boundries=[-9, 3])\n",
    "cb1 = mpl.colorbar.ColorbarBase(ax, cmap=cmap1,\n",
    "                                norm=norm1, ticks=[-9, 0, 3],\n",
    "                                orientation='horizontal', extend='both')\n",
    "# cb1.set_label('Healthy-ACS ($log_{10}$ pvalue)', fontsize=label_fontsize)\n",
    "cb1.ax.tick_params(labelsize=tick_fontsize)\n",
    "cb1.ax.yaxis.label.set_size(label_fontsize)\n",
    "# cb1.ax.set_xticks([-9, 0, 3]) \n",
    "# cb1.ax.set_xticklabels([-9, 0, 3]) \n",
    "ax.text(4, -7, 'Non ACS vs ACS -$log_{10}$(p)', fontsize=label_fontsize)\n",
    "\n",
    "ax = axes[1]\n",
    "norm1 = mpl.colors.Normalize(vmin=-0.3, vmax=0.3)\n",
    "cb1 = mpl.colorbar.ColorbarBase(ax, cmap=plt.cm.bwr_r,\n",
    "                                norm=norm1, ticks=[-0.3, 0, 0.3], \n",
    "                                orientation='horizontal', extend='both')\n",
    "# cb1.set_label('Microbiome $R^2$', fontsize=label_fontsize)\n",
    "cb1.ax.tick_params(labelsize=tick_fontsize)\n",
    "cb1.ax.yaxis.label.set_size(label_fontsize)\n",
    "ax.text(0.3 * 1.2, -0.2, 'Correlation with SGB 4712', fontsize=label_fontsize)\n",
    "\n",
    "fig.tight_layout()\n",
    "plt.savefig(os.path.join(curr_dir, 'legend.png'), dpi=300)\n",
    "# plt.savefig(os.path.join(curr_dir, 'legend.png'), dpi=800)"
   ]
  }
 ],
 "metadata": {
  "kernelspec": {
   "display_name": "Python 3",
   "language": "python",
   "name": "python3"
  },
  "language_info": {
   "codemirror_mode": {
    "name": "ipython",
    "version": 3
   },
   "file_extension": ".py",
   "mimetype": "text/x-python",
   "name": "python",
   "nbconvert_exporter": "python",
   "pygments_lexer": "ipython3",
   "version": "3.7.4"
  },
  "toc": {
   "nav_menu": {},
   "number_sections": true,
   "sideBar": true,
   "skip_h1_title": false,
   "toc_cell": false,
   "toc_position": {
    "height": "663.95px",
    "left": "0px",
    "right": "1387px",
    "top": "111.05px",
    "width": "212px"
   },
   "toc_section_display": "block",
   "toc_window_display": true
  }
 },
 "nbformat": 4,
 "nbformat_minor": 2
}
