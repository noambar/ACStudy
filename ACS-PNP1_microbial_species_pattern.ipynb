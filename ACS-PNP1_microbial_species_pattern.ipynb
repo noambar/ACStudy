{
 "cells": [
  {
   "cell_type": "markdown",
   "metadata": {},
   "source": [
    "# Setup"
   ]
  },
  {
   "cell_type": "code",
   "execution_count": 1,
   "metadata": {
    "ExecuteTime": {
     "end_time": "2021-07-19T07:55:51.573838Z",
     "start_time": "2021-07-19T07:55:47.112791Z"
    }
   },
   "outputs": [],
   "source": [
    "%load_ext autoreload\n",
    "%autoreload 2\n",
    "%matplotlib inline\n",
    "\n",
    "from helper_functions import *\n",
    "from statsmodels.discrete.discrete_model import Logit\n",
    "\n",
    "curr_dir = mkdirifnotexists(os.path.join('microbiome_pattern'))"
   ]
  },
  {
   "cell_type": "markdown",
   "metadata": {},
   "source": [
    "# Load data"
   ]
  },
  {
   "cell_type": "code",
   "execution_count": 401,
   "metadata": {
    "ExecuteTime": {
     "end_time": "2020-10-19T06:31:19.274766Z",
     "start_time": "2020-10-19T06:31:00.680928Z"
    }
   },
   "outputs": [
    {
     "name": "stderr",
     "output_type": "stream",
     "text": [
      "/usr/wisdom/python-3.7.4/lib/python3.7/site-packages/IPython/core/interactiveshell.py:3051: DtypeWarning: Columns (43) have mixed types.Specify dtype option on import or set low_memory=False.\n",
      "  interactivity=interactivity, compiler=compiler, result=result)\n"
     ]
    }
   ],
   "source": [
    "acs_data = pd.read_csv('data/ACS_full_data.csv', index_col=0)\n",
    "pnp_data = pd.read_csv('data/pnp1_full_data.csv', index_col='RegistrationCode')\n",
    "pnp_data = pnp_data[pnp_data.IsGenotek == 0]\n",
    "pnp_data = pnp_data[pnp_data.Nextera == 'True']\n",
    "acs_data['ACS sample'] = 1\n",
    "pnp_data['ACS sample'] = 0"
   ]
  },
  {
   "cell_type": "code",
   "execution_count": 402,
   "metadata": {
    "ExecuteTime": {
     "end_time": "2020-10-19T06:31:20.829146Z",
     "start_time": "2020-10-19T06:31:19.314574Z"
    }
   },
   "outputs": [
    {
     "data": {
      "text/plain": [
       "30"
      ]
     },
     "execution_count": 402,
     "metadata": {},
     "output_type": "execute_result"
    }
   ],
   "source": [
    "acs_199 = acs_data['k__Archaea|p__Euryarchaeota|c__Methanobacteria|o__Methanobacteriales|f__Methanobacteriaceae|g__Methanobrevibacter|s__Methanobrevibacter_smithii|fSGB__222|gSGB__534|sSGB__714'].dropna().index\n",
    "acs_data.loc[acs_199]['Admission Diagnosis'].value_counts()\n",
    "# acs_data['Admis']\n",
    "acs_data.loc[acs_199]['Admission Diagnosis: UA'].sum()"
   ]
  },
  {
   "cell_type": "code",
   "execution_count": 403,
   "metadata": {
    "ExecuteTime": {
     "end_time": "2020-10-19T06:31:26.403516Z",
     "start_time": "2020-10-19T06:31:23.716452Z"
    }
   },
   "outputs": [
    {
     "name": "stdout",
     "output_type": "stream",
     "text": [
      "(542, 2976)\n",
      "removing 0.742 of elements.\n",
      "(539, 768)\n",
      "(534, 771)\n"
     ]
    }
   ],
   "source": [
    "data = pd.concat((acs_data, pnp_data), axis=0, sort=False).filter(regex='k__|Age|gender|ACS sample').copy()\n",
    "print (data.shape)\n",
    "\n",
    "mb_data = remove_rare_elements(data.filter(regex='k__').dropna(how='all').T, rare_def=0.05, null=False).T.apply(np.log10)\n",
    "print (mb_data.shape)\n",
    "\n",
    "data = pd.concat((data.filter(regex='Age|gender|ACS sample'), mb_data), axis=1).dropna(how='any')\n",
    "print (data.shape)\n",
    "data['const'] = 1"
   ]
  },
  {
   "cell_type": "markdown",
   "metadata": {},
   "source": [
    "# MMC no HPN+Dys"
   ]
  },
  {
   "cell_type": "code",
   "execution_count": 405,
   "metadata": {
    "ExecuteTime": {
     "end_time": "2020-10-19T06:33:30.083084Z",
     "start_time": "2020-10-19T06:33:29.544966Z"
    }
   },
   "outputs": [],
   "source": [
    "matched_samples = pd.read_csv(os.path.join(paper_dir, 'Matching', 'PNP1-ACS_matching', 'PNP1-ACS_microbiome_age+sex+bmi+DM+smoking_1:1.csv'), index_col=0)\n",
    "matched_pnp_data = data.loc[matched_samples[matched_samples['ACS sample'] == 0].index]\n",
    "matched_acs_data = data.loc[matched_samples[matched_samples['ACS sample'] == 1].index]\n",
    "matched_data = data.loc[matched_samples.index].copy()"
   ]
  },
  {
   "cell_type": "code",
   "execution_count": 412,
   "metadata": {
    "ExecuteTime": {
     "end_time": "2020-10-19T06:40:26.982008Z",
     "start_time": "2020-10-19T06:40:20.099502Z"
    }
   },
   "outputs": [
    {
     "name": "stderr",
     "output_type": "stream",
     "text": [
      "/usr/wisdom/python-3.7.4/lib/python3.7/site-packages/ipykernel_launcher.py:13: TqdmDeprecationWarning: This function will be removed in tqdm==5.0.0\n",
      "Please use `tqdm.notebook.tqdm` instead of `tqdm.tqdm_notebook`\n",
      "  del sys.path[0]\n"
     ]
    },
    {
     "data": {
      "application/vnd.jupyter.widget-view+json": {
       "model_id": "4abe1a91c5504ff0b053b6c2d2c20a4f",
       "version_major": 2,
       "version_minor": 0
      },
      "text/plain": [
       "HBox(children=(FloatProgress(value=0.0, max=768.0), HTML(value='')))"
      ]
     },
     "metadata": {},
     "output_type": "display_data"
    },
    {
     "name": "stderr",
     "output_type": "stream",
     "text": [
      "/usr/wisdom/python-3.7.4/lib/python3.7/site-packages/statsmodels/base/model.py:512: ConvergenceWarning: Maximum Likelihood optimization failed to converge. Check mle_retvals\n",
      "  \"Check mle_retvals\", ConvergenceWarning)\n",
      "/usr/wisdom/python-3.7.4/lib/python3.7/site-packages/statsmodels/base/model.py:512: ConvergenceWarning: Maximum Likelihood optimization failed to converge. Check mle_retvals\n",
      "  \"Check mle_retvals\", ConvergenceWarning)\n",
      "/usr/wisdom/python-3.7.4/lib/python3.7/site-packages/statsmodels/base/model.py:512: ConvergenceWarning: Maximum Likelihood optimization failed to converge. Check mle_retvals\n",
      "  \"Check mle_retvals\", ConvergenceWarning)\n",
      "/usr/wisdom/python-3.7.4/lib/python3.7/site-packages/statsmodels/base/model.py:512: ConvergenceWarning: Maximum Likelihood optimization failed to converge. Check mle_retvals\n",
      "  \"Check mle_retvals\", ConvergenceWarning)\n",
      "/usr/wisdom/python-3.7.4/lib/python3.7/site-packages/statsmodels/base/model.py:512: ConvergenceWarning: Maximum Likelihood optimization failed to converge. Check mle_retvals\n",
      "  \"Check mle_retvals\", ConvergenceWarning)\n",
      "/usr/wisdom/python-3.7.4/lib/python3.7/site-packages/statsmodels/base/model.py:512: ConvergenceWarning: Maximum Likelihood optimization failed to converge. Check mle_retvals\n",
      "  \"Check mle_retvals\", ConvergenceWarning)\n"
     ]
    },
    {
     "name": "stdout",
     "output_type": "stream",
     "text": [
      "\n"
     ]
    },
    {
     "name": "stderr",
     "output_type": "stream",
     "text": [
      "/usr/wisdom/python-3.7.4/lib/python3.7/site-packages/ipykernel_launcher.py:28: SettingWithCopyWarning: \n",
      "A value is trying to be set on a copy of a slice from a DataFrame.\n",
      "Try using .loc[row_indexer,col_indexer] = value instead\n",
      "\n",
      "See the caveats in the documentation: https://pandas.pydata.org/pandas-docs/stable/user_guide/indexing.html#returning-a-view-versus-a-copy\n"
     ]
    }
   ],
   "source": [
    "y = 'ACS sample'\n",
    "# data['const'] = 1\n",
    "covariates = ['Age', 'gender', 'const']\n",
    "use_covariates = True\n",
    "cols = matched_data.filter(regex='k__').columns\n",
    "# samples = mmc_pnp.tolist() + mmc_acs.tolist()\n",
    "\n",
    "# pvals = pd.DataFrame(np.nan, index=cols, columns=['unmatched Logit', 'matched Logit'])\n",
    "logs = pd.DataFrame(index=cols, columns=['Logit'])\n",
    "columns = ['coef', 'pval', '0.025', '0.975', 'log']\n",
    "logit_results = pd.DataFrame(index=cols, columns=['Logit ' + c for c in columns])\n",
    "\n",
    "for col in tqdm_notebook(cols):\n",
    "    if covariates:\n",
    "        try:\n",
    "            log = Logit(matched_data.loc[:, y].astype(float), \n",
    "                                    matched_data.loc[:, [col] + covariates], missing='drop').fit(disp=0)\n",
    "            logit_results.loc[col, 'Logit coef'] = log.params.loc[col]#np.exp(log.params.loc[col])\n",
    "            logit_results.loc[col, 'Logit pval'] = log.pvalues.loc[col]\n",
    "            logit_results.loc[col, 'Logit 0.025'], logit_results.loc[col, 'Logit 0.975'] = log.conf_int().loc[col].apply(np.exp).values\n",
    "            logit_results.loc[col, 'Logit log'] = log\n",
    "        except:\n",
    "            pass\n",
    "    else:\n",
    "        pass\n",
    "logit_results['Logit qval'] = fdr_correction(logit_results['Logit pval'])[1]\n",
    "logit_results_mmc_no_hpn = logit_results.dropna()\n",
    "logit_results_mmc_no_hpn['directional pval'] = logit_results_mmc_no_hpn.apply(lambda x: np.log10(x['Logit pval']) * -np.sign(x['Logit coef']), axis=1)"
   ]
  },
  {
   "cell_type": "code",
   "execution_count": 418,
   "metadata": {
    "ExecuteTime": {
     "end_time": "2020-10-19T06:47:14.065365Z",
     "start_time": "2020-10-19T06:47:13.590723Z"
    },
    "scrolled": true
   },
   "outputs": [
    {
     "data": {
      "text/html": [
       "<div>\n",
       "<style scoped>\n",
       "    .dataframe tbody tr th:only-of-type {\n",
       "        vertical-align: middle;\n",
       "    }\n",
       "\n",
       "    .dataframe tbody tr th {\n",
       "        vertical-align: top;\n",
       "    }\n",
       "\n",
       "    .dataframe thead th {\n",
       "        text-align: right;\n",
       "    }\n",
       "</style>\n",
       "<table border=\"1\" class=\"dataframe\">\n",
       "  <thead>\n",
       "    <tr style=\"text-align: right;\">\n",
       "      <th></th>\n",
       "      <th>Logit coef</th>\n",
       "      <th>Logit pval</th>\n",
       "      <th>Logit 0.025</th>\n",
       "      <th>Logit 0.975</th>\n",
       "      <th>Logit log</th>\n",
       "      <th>Logit qval</th>\n",
       "      <th>directional pval</th>\n",
       "    </tr>\n",
       "  </thead>\n",
       "  <tbody>\n",
       "    <tr>\n",
       "      <th>k__Bacteria|p__Firmicutes|c__Clostridia|o__Clostridiales|f__Lachnospiraceae|g__Anaerostipes|s__Anaerostipes_hadrus|fSGB__1413|gSGB__3421|sSGB__4540</th>\n",
       "      <td>-1.57471</td>\n",
       "      <td>6.98013e-06</td>\n",
       "      <td>0.1042</td>\n",
       "      <td>0.411487</td>\n",
       "      <td>&lt;statsmodels.discrete.discrete_model.BinaryRes...</td>\n",
       "      <td>0.00536074</td>\n",
       "      <td>-5.156136</td>\n",
       "    </tr>\n",
       "    <tr>\n",
       "      <th>k__Bacteria|p__Firmicutes|c__Clostridia|o__Clostridiales|f__Clostridiaceae|g__Clostridium|s__unknown|fSGB__1445|gSGB__3572|sSGB__4780</th>\n",
       "      <td>-2.43312</td>\n",
       "      <td>1.67305e-05</td>\n",
       "      <td>0.0289851</td>\n",
       "      <td>0.265731</td>\n",
       "      <td>&lt;statsmodels.discrete.discrete_model.BinaryRes...</td>\n",
       "      <td>0.00538473</td>\n",
       "      <td>-4.776491</td>\n",
       "    </tr>\n",
       "    <tr>\n",
       "      <th>k__Bacteria|p__Bacteroidetes|c__Bacteroidia|o__Bacteroidales|f__Odoribacteraceae|g__Butyricimonas|s__Butyricimonas_sp_An62|fSGB__588|gSGB__1330|sSGB__1785</th>\n",
       "      <td>2.55732</td>\n",
       "      <td>2.10341e-05</td>\n",
       "      <td>3.97081</td>\n",
       "      <td>41.9162</td>\n",
       "      <td>&lt;statsmodels.discrete.discrete_model.BinaryRes...</td>\n",
       "      <td>0.00538473</td>\n",
       "      <td>4.677076</td>\n",
       "    </tr>\n",
       "    <tr>\n",
       "      <th>k__Bacteria|p__Bacteroidetes|c__Bacteroidia|o__Bacteroidales|f__Odoribacteraceae|g__Butyricimonas|s__Butyricimonas_synergistica|fSGB__588|gSGB__1330|sSGB__1786</th>\n",
       "      <td>1.7053</td>\n",
       "      <td>7.01183e-05</td>\n",
       "      <td>2.37418</td>\n",
       "      <td>12.7553</td>\n",
       "      <td>&lt;statsmodels.discrete.discrete_model.BinaryRes...</td>\n",
       "      <td>0.0134627</td>\n",
       "      <td>4.154169</td>\n",
       "    </tr>\n",
       "    <tr>\n",
       "      <th>k__Bacteria|p__Firmicutes|c__Firmicutes_unclassified|o__Firmicutes_unclassified|f__Firmicutes_unclassified|g__Firmicutes_unclassified|s__Firmicutes_bacterium_CAG_83|fSGB__3056|gSGB__9632|sSGB__15089</th>\n",
       "      <td>1.68394</td>\n",
       "      <td>0.000125657</td>\n",
       "      <td>2.27797</td>\n",
       "      <td>12.7382</td>\n",
       "      <td>&lt;statsmodels.discrete.discrete_model.BinaryRes...</td>\n",
       "      <td>0.0193009</td>\n",
       "      <td>3.900813</td>\n",
       "    </tr>\n",
       "    <tr>\n",
       "      <th>k__Bacteria|p__Firmicutes|c__Clostridia|o__Clostridiales|f__Lachnospiraceae|g__Blautia|s__Blautia_sp|fSGB__1449|gSGB__3604|sSGB__4868</th>\n",
       "      <td>-1.1335</td>\n",
       "      <td>0.00015408</td>\n",
       "      <td>0.178969</td>\n",
       "      <td>0.579001</td>\n",
       "      <td>&lt;statsmodels.discrete.discrete_model.BinaryRes...</td>\n",
       "      <td>0.0197222</td>\n",
       "      <td>-3.812255</td>\n",
       "    </tr>\n",
       "    <tr>\n",
       "      <th>k__Bacteria|p__Bacteroidetes|c__Bacteroidia|o__Bacteroidales|f__Odoribacteraceae|g__Odoribacter|s__Odoribacter_splanchnicus|fSGB__589|gSGB__1333|sSGB__1790</th>\n",
       "      <td>1.49276</td>\n",
       "      <td>0.000183522</td>\n",
       "      <td>2.03524</td>\n",
       "      <td>9.72699</td>\n",
       "      <td>&lt;statsmodels.discrete.discrete_model.BinaryRes...</td>\n",
       "      <td>0.020135</td>\n",
       "      <td>3.736311</td>\n",
       "    </tr>\n",
       "    <tr>\n",
       "      <th>k__Bacteria|p__Firmicutes|c__Clostridia|o__Clostridiales|f__Ruminococcaceae|g__Faecalibacterium|s__unknown|fSGB__3058|gSGB__9741|sSGB__15340</th>\n",
       "      <td>-1.23805</td>\n",
       "      <td>0.000411349</td>\n",
       "      <td>0.145886</td>\n",
       "      <td>0.576275</td>\n",
       "      <td>&lt;statsmodels.discrete.discrete_model.BinaryRes...</td>\n",
       "      <td>0.0363856</td>\n",
       "      <td>-3.385789</td>\n",
       "    </tr>\n",
       "    <tr>\n",
       "      <th>k__Bacteria|p__Proteobacteria|c__Gammaproteobacteria|o__Enterobacterales|f__Enterobacteriaceae|g__Escherichia|s__Escherichia_coli|fSGB__2483|gSGB__6985|sSGB__10068</th>\n",
       "      <td>0.829665</td>\n",
       "      <td>0.000426394</td>\n",
       "      <td>1.44501</td>\n",
       "      <td>3.63719</td>\n",
       "      <td>&lt;statsmodels.discrete.discrete_model.BinaryRes...</td>\n",
       "      <td>0.0363856</td>\n",
       "      <td>3.370189</td>\n",
       "    </tr>\n",
       "    <tr>\n",
       "      <th>k__Bacteria|p__Firmicutes|c__Clostridia|o__Clostridiales|f__Lachnospiraceae|g__Blautia|s__Blautia_sp|fSGB__1449|gSGB__3596|sSGB__4828</th>\n",
       "      <td>-0.945511</td>\n",
       "      <td>0.000518217</td>\n",
       "      <td>0.227777</td>\n",
       "      <td>0.662566</td>\n",
       "      <td>&lt;statsmodels.discrete.discrete_model.BinaryRes...</td>\n",
       "      <td>0.0397991</td>\n",
       "      <td>-3.285488</td>\n",
       "    </tr>\n",
       "    <tr>\n",
       "      <th>k__Bacteria|p__Firmicutes|c__Clostridia|o__Clostridiales|f__Clostridiaceae|g__Butyricicoccus|s__unknown|fSGB__3052|gSGB__9578|sSGB__14992</th>\n",
       "      <td>-1.54821</td>\n",
       "      <td>0.000766759</td>\n",
       "      <td>0.0862847</td>\n",
       "      <td>0.523971</td>\n",
       "      <td>&lt;statsmodels.discrete.discrete_model.BinaryRes...</td>\n",
       "      <td>0.0535337</td>\n",
       "      <td>-3.115341</td>\n",
       "    </tr>\n",
       "    <tr>\n",
       "      <th>k__Bacteria|p__Firmicutes|c__Clostridia|o__Clostridiales|f__Clostridiaceae|g__unknown|s__unknown|fSGB__1439|gSGB__3527|sSGB__4712</th>\n",
       "      <td>-1.85478</td>\n",
       "      <td>0.00105844</td>\n",
       "      <td>0.0515624</td>\n",
       "      <td>0.474924</td>\n",
       "      <td>&lt;statsmodels.discrete.discrete_model.BinaryRes...</td>\n",
       "      <td>0.06774</td>\n",
       "      <td>-2.975335</td>\n",
       "    </tr>\n",
       "    <tr>\n",
       "      <th>k__Bacteria|p__Firmicutes|c__Clostridia|o__Clostridiales|f__Lachnospiraceae|g__Roseburia|s__Roseburia_intestinalis|fSGB__1454|gSGB__3644|sSGB__4951</th>\n",
       "      <td>-0.769431</td>\n",
       "      <td>0.00144377</td>\n",
       "      <td>0.288573</td>\n",
       "      <td>0.743746</td>\n",
       "      <td>&lt;statsmodels.discrete.discrete_model.BinaryRes...</td>\n",
       "      <td>0.0712509</td>\n",
       "      <td>-2.840502</td>\n",
       "    </tr>\n",
       "    <tr>\n",
       "      <th>k__Bacteria|p__Bacteroidetes|c__Bacteroidia|o__Bacteroidales|f__Tannerellaceae|g__Parabacteroides|s__Parabacteroides_distasonis|fSGB__599|gSGB__1409|sSGB__1934</th>\n",
       "      <td>1.35297</td>\n",
       "      <td>0.0014888</td>\n",
       "      <td>1.67909</td>\n",
       "      <td>8.91455</td>\n",
       "      <td>&lt;statsmodels.discrete.discrete_model.BinaryRes...</td>\n",
       "      <td>0.0712509</td>\n",
       "      <td>2.827165</td>\n",
       "    </tr>\n",
       "    <tr>\n",
       "      <th>k__Bacteria|p__Actinobacteria|c__Actinobacteria|o__Bifidobacteriales|f__Bifidobacteriaceae|g__Bifidobacterium|s__Bifidobacterium_bifidum|fSGB__3150|gSGB__10628|sSGB__17256</th>\n",
       "      <td>0.895352</td>\n",
       "      <td>0.00151464</td>\n",
       "      <td>1.40789</td>\n",
       "      <td>4.25719</td>\n",
       "      <td>&lt;statsmodels.discrete.discrete_model.BinaryRes...</td>\n",
       "      <td>0.0712509</td>\n",
       "      <td>2.819691</td>\n",
       "    </tr>\n",
       "    <tr>\n",
       "      <th>k__Bacteria|p__Firmicutes|c__Bacilli|o__Lactobacillales|f__Streptococcaceae|g__Streptococcus|s__Streptococcus_thermophilus|fSGB__1976|gSGB__5671|sSGB__8002</th>\n",
       "      <td>-1.10181</td>\n",
       "      <td>0.0015714</td>\n",
       "      <td>0.167807</td>\n",
       "      <td>0.65792</td>\n",
       "      <td>&lt;statsmodels.discrete.discrete_model.BinaryRes...</td>\n",
       "      <td>0.0712509</td>\n",
       "      <td>-2.803712</td>\n",
       "    </tr>\n",
       "    <tr>\n",
       "      <th>k__Bacteria|p__Firmicutes|c__Clostridia|o__Clostridiales|f__Eubacteriaceae|g__unknown|s__unknown|fSGB__1455|gSGB__3649|sSGB__4957</th>\n",
       "      <td>-1.78412</td>\n",
       "      <td>0.00165161</td>\n",
       "      <td>0.0552763</td>\n",
       "      <td>0.51026</td>\n",
       "      <td>&lt;statsmodels.discrete.discrete_model.BinaryRes...</td>\n",
       "      <td>0.0712509</td>\n",
       "      <td>-2.782091</td>\n",
       "    </tr>\n",
       "    <tr>\n",
       "      <th>k__Bacteria|p__Firmicutes|c__Clostridia|o__Clostridiales|f__Clostridiaceae|g__Clostridium|s__Clostridium_sp|fSGB__1451|gSGB__3628|sSGB__4914</th>\n",
       "      <td>-0.927535</td>\n",
       "      <td>0.00170359</td>\n",
       "      <td>0.221586</td>\n",
       "      <td>0.706011</td>\n",
       "      <td>&lt;statsmodels.discrete.discrete_model.BinaryRes...</td>\n",
       "      <td>0.0712509</td>\n",
       "      <td>-2.768635</td>\n",
       "    </tr>\n",
       "    <tr>\n",
       "      <th>k__Bacteria|p__Firmicutes|c__Clostridia|o__Clostridiales|f__Peptostreptococcaceae|g__unknown|s__unknown|fSGB__1753|gSGB__4460|sSGB__6148</th>\n",
       "      <td>-1.11985</td>\n",
       "      <td>0.00176272</td>\n",
       "      <td>0.16176</td>\n",
       "      <td>0.658319</td>\n",
       "      <td>&lt;statsmodels.discrete.discrete_model.BinaryRes...</td>\n",
       "      <td>0.0712509</td>\n",
       "      <td>-2.753817</td>\n",
       "    </tr>\n",
       "    <tr>\n",
       "      <th>k__Bacteria|p__Firmicutes|c__Clostridia|o__Clostridiales|f__Clostridiaceae|g__Clostridium|s__unknown|fSGB__1444|gSGB__3566|sSGB__4771</th>\n",
       "      <td>-1.63266</td>\n",
       "      <td>0.0019965</td>\n",
       "      <td>0.0693919</td>\n",
       "      <td>0.550281</td>\n",
       "      <td>&lt;statsmodels.discrete.discrete_model.BinaryRes...</td>\n",
       "      <td>0.0766658</td>\n",
       "      <td>-2.699730</td>\n",
       "    </tr>\n",
       "  </tbody>\n",
       "</table>\n",
       "</div>"
      ],
      "text/plain": [
       "                                                   Logit coef   Logit pval  \\\n",
       "k__Bacteria|p__Firmicutes|c__Clostridia|o__Clos...   -1.57471  6.98013e-06   \n",
       "k__Bacteria|p__Firmicutes|c__Clostridia|o__Clos...   -2.43312  1.67305e-05   \n",
       "k__Bacteria|p__Bacteroidetes|c__Bacteroidia|o__...    2.55732  2.10341e-05   \n",
       "k__Bacteria|p__Bacteroidetes|c__Bacteroidia|o__...     1.7053  7.01183e-05   \n",
       "k__Bacteria|p__Firmicutes|c__Firmicutes_unclass...    1.68394  0.000125657   \n",
       "k__Bacteria|p__Firmicutes|c__Clostridia|o__Clos...    -1.1335   0.00015408   \n",
       "k__Bacteria|p__Bacteroidetes|c__Bacteroidia|o__...    1.49276  0.000183522   \n",
       "k__Bacteria|p__Firmicutes|c__Clostridia|o__Clos...   -1.23805  0.000411349   \n",
       "k__Bacteria|p__Proteobacteria|c__Gammaproteobac...   0.829665  0.000426394   \n",
       "k__Bacteria|p__Firmicutes|c__Clostridia|o__Clos...  -0.945511  0.000518217   \n",
       "k__Bacteria|p__Firmicutes|c__Clostridia|o__Clos...   -1.54821  0.000766759   \n",
       "k__Bacteria|p__Firmicutes|c__Clostridia|o__Clos...   -1.85478   0.00105844   \n",
       "k__Bacteria|p__Firmicutes|c__Clostridia|o__Clos...  -0.769431   0.00144377   \n",
       "k__Bacteria|p__Bacteroidetes|c__Bacteroidia|o__...    1.35297    0.0014888   \n",
       "k__Bacteria|p__Actinobacteria|c__Actinobacteria...   0.895352   0.00151464   \n",
       "k__Bacteria|p__Firmicutes|c__Bacilli|o__Lactoba...   -1.10181    0.0015714   \n",
       "k__Bacteria|p__Firmicutes|c__Clostridia|o__Clos...   -1.78412   0.00165161   \n",
       "k__Bacteria|p__Firmicutes|c__Clostridia|o__Clos...  -0.927535   0.00170359   \n",
       "k__Bacteria|p__Firmicutes|c__Clostridia|o__Clos...   -1.11985   0.00176272   \n",
       "k__Bacteria|p__Firmicutes|c__Clostridia|o__Clos...   -1.63266    0.0019965   \n",
       "\n",
       "                                                   Logit 0.025 Logit 0.975  \\\n",
       "k__Bacteria|p__Firmicutes|c__Clostridia|o__Clos...      0.1042    0.411487   \n",
       "k__Bacteria|p__Firmicutes|c__Clostridia|o__Clos...   0.0289851    0.265731   \n",
       "k__Bacteria|p__Bacteroidetes|c__Bacteroidia|o__...     3.97081     41.9162   \n",
       "k__Bacteria|p__Bacteroidetes|c__Bacteroidia|o__...     2.37418     12.7553   \n",
       "k__Bacteria|p__Firmicutes|c__Firmicutes_unclass...     2.27797     12.7382   \n",
       "k__Bacteria|p__Firmicutes|c__Clostridia|o__Clos...    0.178969    0.579001   \n",
       "k__Bacteria|p__Bacteroidetes|c__Bacteroidia|o__...     2.03524     9.72699   \n",
       "k__Bacteria|p__Firmicutes|c__Clostridia|o__Clos...    0.145886    0.576275   \n",
       "k__Bacteria|p__Proteobacteria|c__Gammaproteobac...     1.44501     3.63719   \n",
       "k__Bacteria|p__Firmicutes|c__Clostridia|o__Clos...    0.227777    0.662566   \n",
       "k__Bacteria|p__Firmicutes|c__Clostridia|o__Clos...   0.0862847    0.523971   \n",
       "k__Bacteria|p__Firmicutes|c__Clostridia|o__Clos...   0.0515624    0.474924   \n",
       "k__Bacteria|p__Firmicutes|c__Clostridia|o__Clos...    0.288573    0.743746   \n",
       "k__Bacteria|p__Bacteroidetes|c__Bacteroidia|o__...     1.67909     8.91455   \n",
       "k__Bacteria|p__Actinobacteria|c__Actinobacteria...     1.40789     4.25719   \n",
       "k__Bacteria|p__Firmicutes|c__Bacilli|o__Lactoba...    0.167807     0.65792   \n",
       "k__Bacteria|p__Firmicutes|c__Clostridia|o__Clos...   0.0552763     0.51026   \n",
       "k__Bacteria|p__Firmicutes|c__Clostridia|o__Clos...    0.221586    0.706011   \n",
       "k__Bacteria|p__Firmicutes|c__Clostridia|o__Clos...     0.16176    0.658319   \n",
       "k__Bacteria|p__Firmicutes|c__Clostridia|o__Clos...   0.0693919    0.550281   \n",
       "\n",
       "                                                                                            Logit log  \\\n",
       "k__Bacteria|p__Firmicutes|c__Clostridia|o__Clos...  <statsmodels.discrete.discrete_model.BinaryRes...   \n",
       "k__Bacteria|p__Firmicutes|c__Clostridia|o__Clos...  <statsmodels.discrete.discrete_model.BinaryRes...   \n",
       "k__Bacteria|p__Bacteroidetes|c__Bacteroidia|o__...  <statsmodels.discrete.discrete_model.BinaryRes...   \n",
       "k__Bacteria|p__Bacteroidetes|c__Bacteroidia|o__...  <statsmodels.discrete.discrete_model.BinaryRes...   \n",
       "k__Bacteria|p__Firmicutes|c__Firmicutes_unclass...  <statsmodels.discrete.discrete_model.BinaryRes...   \n",
       "k__Bacteria|p__Firmicutes|c__Clostridia|o__Clos...  <statsmodels.discrete.discrete_model.BinaryRes...   \n",
       "k__Bacteria|p__Bacteroidetes|c__Bacteroidia|o__...  <statsmodels.discrete.discrete_model.BinaryRes...   \n",
       "k__Bacteria|p__Firmicutes|c__Clostridia|o__Clos...  <statsmodels.discrete.discrete_model.BinaryRes...   \n",
       "k__Bacteria|p__Proteobacteria|c__Gammaproteobac...  <statsmodels.discrete.discrete_model.BinaryRes...   \n",
       "k__Bacteria|p__Firmicutes|c__Clostridia|o__Clos...  <statsmodels.discrete.discrete_model.BinaryRes...   \n",
       "k__Bacteria|p__Firmicutes|c__Clostridia|o__Clos...  <statsmodels.discrete.discrete_model.BinaryRes...   \n",
       "k__Bacteria|p__Firmicutes|c__Clostridia|o__Clos...  <statsmodels.discrete.discrete_model.BinaryRes...   \n",
       "k__Bacteria|p__Firmicutes|c__Clostridia|o__Clos...  <statsmodels.discrete.discrete_model.BinaryRes...   \n",
       "k__Bacteria|p__Bacteroidetes|c__Bacteroidia|o__...  <statsmodels.discrete.discrete_model.BinaryRes...   \n",
       "k__Bacteria|p__Actinobacteria|c__Actinobacteria...  <statsmodels.discrete.discrete_model.BinaryRes...   \n",
       "k__Bacteria|p__Firmicutes|c__Bacilli|o__Lactoba...  <statsmodels.discrete.discrete_model.BinaryRes...   \n",
       "k__Bacteria|p__Firmicutes|c__Clostridia|o__Clos...  <statsmodels.discrete.discrete_model.BinaryRes...   \n",
       "k__Bacteria|p__Firmicutes|c__Clostridia|o__Clos...  <statsmodels.discrete.discrete_model.BinaryRes...   \n",
       "k__Bacteria|p__Firmicutes|c__Clostridia|o__Clos...  <statsmodels.discrete.discrete_model.BinaryRes...   \n",
       "k__Bacteria|p__Firmicutes|c__Clostridia|o__Clos...  <statsmodels.discrete.discrete_model.BinaryRes...   \n",
       "\n",
       "                                                    Logit qval  \\\n",
       "k__Bacteria|p__Firmicutes|c__Clostridia|o__Clos...  0.00536074   \n",
       "k__Bacteria|p__Firmicutes|c__Clostridia|o__Clos...  0.00538473   \n",
       "k__Bacteria|p__Bacteroidetes|c__Bacteroidia|o__...  0.00538473   \n",
       "k__Bacteria|p__Bacteroidetes|c__Bacteroidia|o__...   0.0134627   \n",
       "k__Bacteria|p__Firmicutes|c__Firmicutes_unclass...   0.0193009   \n",
       "k__Bacteria|p__Firmicutes|c__Clostridia|o__Clos...   0.0197222   \n",
       "k__Bacteria|p__Bacteroidetes|c__Bacteroidia|o__...    0.020135   \n",
       "k__Bacteria|p__Firmicutes|c__Clostridia|o__Clos...   0.0363856   \n",
       "k__Bacteria|p__Proteobacteria|c__Gammaproteobac...   0.0363856   \n",
       "k__Bacteria|p__Firmicutes|c__Clostridia|o__Clos...   0.0397991   \n",
       "k__Bacteria|p__Firmicutes|c__Clostridia|o__Clos...   0.0535337   \n",
       "k__Bacteria|p__Firmicutes|c__Clostridia|o__Clos...     0.06774   \n",
       "k__Bacteria|p__Firmicutes|c__Clostridia|o__Clos...   0.0712509   \n",
       "k__Bacteria|p__Bacteroidetes|c__Bacteroidia|o__...   0.0712509   \n",
       "k__Bacteria|p__Actinobacteria|c__Actinobacteria...   0.0712509   \n",
       "k__Bacteria|p__Firmicutes|c__Bacilli|o__Lactoba...   0.0712509   \n",
       "k__Bacteria|p__Firmicutes|c__Clostridia|o__Clos...   0.0712509   \n",
       "k__Bacteria|p__Firmicutes|c__Clostridia|o__Clos...   0.0712509   \n",
       "k__Bacteria|p__Firmicutes|c__Clostridia|o__Clos...   0.0712509   \n",
       "k__Bacteria|p__Firmicutes|c__Clostridia|o__Clos...   0.0766658   \n",
       "\n",
       "                                                    directional pval  \n",
       "k__Bacteria|p__Firmicutes|c__Clostridia|o__Clos...         -5.156136  \n",
       "k__Bacteria|p__Firmicutes|c__Clostridia|o__Clos...         -4.776491  \n",
       "k__Bacteria|p__Bacteroidetes|c__Bacteroidia|o__...          4.677076  \n",
       "k__Bacteria|p__Bacteroidetes|c__Bacteroidia|o__...          4.154169  \n",
       "k__Bacteria|p__Firmicutes|c__Firmicutes_unclass...          3.900813  \n",
       "k__Bacteria|p__Firmicutes|c__Clostridia|o__Clos...         -3.812255  \n",
       "k__Bacteria|p__Bacteroidetes|c__Bacteroidia|o__...          3.736311  \n",
       "k__Bacteria|p__Firmicutes|c__Clostridia|o__Clos...         -3.385789  \n",
       "k__Bacteria|p__Proteobacteria|c__Gammaproteobac...          3.370189  \n",
       "k__Bacteria|p__Firmicutes|c__Clostridia|o__Clos...         -3.285488  \n",
       "k__Bacteria|p__Firmicutes|c__Clostridia|o__Clos...         -3.115341  \n",
       "k__Bacteria|p__Firmicutes|c__Clostridia|o__Clos...         -2.975335  \n",
       "k__Bacteria|p__Firmicutes|c__Clostridia|o__Clos...         -2.840502  \n",
       "k__Bacteria|p__Bacteroidetes|c__Bacteroidia|o__...          2.827165  \n",
       "k__Bacteria|p__Actinobacteria|c__Actinobacteria...          2.819691  \n",
       "k__Bacteria|p__Firmicutes|c__Bacilli|o__Lactoba...         -2.803712  \n",
       "k__Bacteria|p__Firmicutes|c__Clostridia|o__Clos...         -2.782091  \n",
       "k__Bacteria|p__Firmicutes|c__Clostridia|o__Clos...         -2.768635  \n",
       "k__Bacteria|p__Firmicutes|c__Clostridia|o__Clos...         -2.753817  \n",
       "k__Bacteria|p__Firmicutes|c__Clostridia|o__Clos...         -2.699730  "
      ]
     },
     "execution_count": 418,
     "metadata": {},
     "output_type": "execute_result"
    }
   ],
   "source": [
    "logit_results_mmc_no_hpn.sort_values('Logit pval').head(20)"
   ]
  },
  {
   "cell_type": "code",
   "execution_count": 417,
   "metadata": {
    "ExecuteTime": {
     "end_time": "2020-10-19T06:45:38.271039Z",
     "start_time": "2020-10-19T06:45:37.808431Z"
    }
   },
   "outputs": [
    {
     "data": {
      "text/plain": [
       "20"
      ]
     },
     "execution_count": 417,
     "metadata": {},
     "output_type": "execute_result"
    }
   ],
   "source": [
    "logit_results_mmc_no_hpn.dropna().shape\n",
    "(logit_results_mmc_no_hpn['Logit qval']<0.1).sum()"
   ]
  },
  {
   "cell_type": "code",
   "execution_count": 414,
   "metadata": {
    "ExecuteTime": {
     "end_time": "2020-10-19T06:42:29.221770Z",
     "start_time": "2020-10-19T06:42:28.621927Z"
    }
   },
   "outputs": [],
   "source": [
    "logit_results_mmc_no_hpn.to_csv(os.path.join(curr_dir, 'logit_results_mmc_no_hpn+dys.csv'))"
   ]
  },
  {
   "cell_type": "markdown",
   "metadata": {},
   "source": [
    "## metacardis replication"
   ]
  },
  {
   "cell_type": "code",
   "execution_count": 419,
   "metadata": {
    "ExecuteTime": {
     "end_time": "2020-10-19T06:51:54.174804Z",
     "start_time": "2020-10-19T06:51:49.627386Z"
    }
   },
   "outputs": [
    {
     "name": "stdout",
     "output_type": "stream",
     "text": [
      "{'hub.serum_absolute.v1.samples.r', 'hub.serum_tmao.v1.samples.r', 'hub.lipo.samples.v3.r', 'hub.urine_annotated.samples.v2.r'}\n"
     ]
    },
    {
     "data": {
      "text/plain": [
       "IHD372     269\n",
       "HC275      225\n",
       "MMC269     188\n",
       "UMCC222    159\n",
       "Name: Group, dtype: int64"
      ]
     },
     "execution_count": 419,
     "metadata": {},
     "output_type": "execute_result"
    }
   ],
   "source": [
    "metacardis_dir = os.path.join('MetaCardis')\n",
    "metacardis_X_path = os.path.join(metacardis_dir, 'dataframes', 'mb_diet_covariates_drugs_group.csv')\n",
    "metacardis_metabolomics_path = os.path.join(metacardis_dir, 'metabolomics', 'robust_zs_metabolomics/proc_metabolomics_clipped.csv')\n",
    "metacardis_X = pd.read_csv(metacardis_X_path, index_col=0)\n",
    "metacardis_metadata_path = os.path.join(metacardis_dir, 'metabolomics', 'metadata', 'hub.metadata_reduced.samples.v10.r')\n",
    "metacardis_X = metacardis_X.merge(pd.read_csv(metacardis_metadata_path, sep='\\t', index_col=0)[['PATGROUPFINAL_C']], on='SampleID', how='left')\n",
    "metacardis_X_age_bmi = metacardis_X[['AGE', 'BMI_C', 'Group']].copy()\n",
    "metacardis_metabolomics = pd.read_csv(metacardis_metabolomics_path, index_col=0)\n",
    "print (set([s.split('___')[0] for s in metacardis_metabolomics.columns]))\n",
    "metacardis_serum_metabolomics = metacardis_metabolomics.loc[:, ['urine' not in s.split('___')[0] for s in metacardis_metabolomics.columns]].dropna()\n",
    "# metacardis_serum_metabolomics = metacardis_metabolomics.filter(regex='hub.lipo.samples.v3.r')\n",
    "full_index = list(set(metacardis_serum_metabolomics.index).intersection(set(metacardis_X_age_bmi.index)))\n",
    "metacardis_serum_metabolomics, metacardis_X_age_bmi = metacardis_serum_metabolomics.loc[full_index].astype(float), metacardis_X_age_bmi.loc[full_index]\n",
    "metacardis_serum_metabolomics.index.names = ['SampleID']\n",
    "metacardis_X_age_bmi.Group.value_counts()"
   ]
  },
  {
   "cell_type": "code",
   "execution_count": 421,
   "metadata": {
    "ExecuteTime": {
     "end_time": "2020-10-19T08:12:13.272365Z",
     "start_time": "2020-10-19T08:12:12.140977Z"
    },
    "scrolled": true
   },
   "outputs": [
    {
     "name": "stdout",
     "output_type": "stream",
     "text": [
      "sSGB__4540 HC275 9961.0 0.26628472852839213\n",
      "sSGB__4540 MMC269 -7507.0 0.11132113259738002\n",
      "sSGB__4540 UMCC222 -7902.0 0.4260863584054201\n",
      "\n",
      "sSGB__4780 HC275 8922.0 0.01986435742496288\n",
      "sSGB__4780 MMC269 -7396.0 0.05520148101630925\n",
      "sSGB__4780 UMCC222 -7100.0 0.044623225806767454\n",
      "\n",
      "sSGB__1785 HC275 10116.0 0.31299011977442015\n",
      "sSGB__1785 MMC269 8196.0 0.43569024458149996\n",
      "sSGB__1785 UMCC222 -7919.0 0.4240077592569216\n",
      "\n",
      "sSGB__1786 HC275 10332.0 0.42992161931523626\n",
      "sSGB__1786 MMC269 7685.0 0.14327088328337778\n",
      "sSGB__1786 UMCC222 7718.0 0.2874246628518259\n",
      "\n",
      "sSGB__15089 HC275 -10143.0 0.3470775097655681\n",
      "sSGB__15089 MMC269 -7948.0 0.2980154326409209\n",
      "sSGB__15089 UMCC222 -7480.0 0.1901126360104562\n",
      "\n",
      "sSGB__4868 HC275 9721.5 0.17080884570328891\n",
      "sSGB__4868 MMC269 8195.0 0.44304267164283107\n",
      "sSGB__4868 UMCC222 7445.5 0.17127752270779517\n",
      "\n",
      "sSGB__1790 HC275 10029.5 0.2958257605052904\n",
      "sSGB__1790 MMC269 7152.5 0.03815182021419614\n",
      "sSGB__1790 UMCC222 -7998.0 0.48745435563942247\n",
      "\n",
      "sSGB__15340 HC275 10204.0 0.3763005692915339\n",
      "sSGB__15340 MMC269 -6965.0 0.01793626310193839\n",
      "sSGB__15340 UMCC222 -6322.0 0.0026848638985784773\n",
      "\n",
      "sSGB__10068 HC275 -9687.0 0.14592928018727358\n",
      "sSGB__10068 MMC269 5817.5 4.3437826186477465e-05\n",
      "sSGB__10068 UMCC222 7509.5 0.19603473272143795\n",
      "\n",
      "sSGB__4828 HC275 -9468.0 0.09808319946713989\n",
      "sSGB__4828 MMC269 -7270.5 0.04909429716269912\n",
      "sSGB__4828 UMCC222 -6623.0 0.008923172010432984\n",
      "\n",
      "sSGB__14992 HC275 9952.0 0.2544241239636002\n",
      "sSGB__14992 MMC269 7664.0 0.15568342835318383\n",
      "sSGB__14992 UMCC222 7104.0 0.0637972880252831\n",
      "\n",
      "sSGB__4712 HC275 7927.0 0.00056674268953517\n",
      "sSGB__4712 MMC269 7659.0 0.15538611669788294\n",
      "sSGB__4712 UMCC222 7000.0 0.045403246687292544\n",
      "\n",
      "sSGB__4951 HC275 9882.0 0.23212963274614812\n",
      "sSGB__4951 MMC269 7786.0 0.21549134285978916\n",
      "sSGB__4951 UMCC222 6853.0 0.02919699775580422\n",
      "\n",
      "sSGB__1934 HC275 -9583.5 0.13429765817729833\n",
      "sSGB__1934 MMC269 7175.0 0.04118571712747335\n",
      "sSGB__1934 UMCC222 -7812.0 0.370093035170332\n",
      "\n",
      "sSGB__17256 HC275 -10226.5 0.3371076563195422\n",
      "sSGB__17256 MMC269 7918.5 0.2168304635768592\n",
      "sSGB__17256 UMCC222 7554.0 0.15540568651755238\n",
      "\n",
      "sSGB__8002 HC275 9287.0 0.05544848687742594\n",
      "sSGB__8002 MMC269 7770.0 0.1875945552951105\n",
      "sSGB__8002 UMCC222 7764.0 0.3238284663352027\n",
      "\n",
      "sSGB__4957 HC275 9119.0 0.0033993184327875364\n",
      "sSGB__4957 MMC269 7782.0 0.06440722800707069\n",
      "sSGB__4957 UMCC222 7875.0 0.2970295632186843\n",
      "\n",
      "sSGB__4914 HC275 10133.0 0.3429946023586301\n",
      "sSGB__4914 MMC269 -7170.0 0.04037429293580704\n",
      "sSGB__4914 UMCC222 -7122.0 0.0742579298674035\n",
      "\n",
      "sSGB__6148 HC275 -10077.0 0.1515814441745189\n",
      "sSGB__6148 MMC269 -8137.0 0.3234030376220417\n",
      "sSGB__6148 UMCC222 7882.0 0.34667105110504204\n",
      "\n",
      "sSGB__4771 HC275 10085.0 0.31499279200682373\n",
      "sSGB__4771 MMC269 -6778.0 0.005002284177230786\n",
      "sSGB__4771 UMCC222 -6257.0 0.0009574135012919364\n",
      "\n"
     ]
    }
   ],
   "source": [
    "# for k in logit_results.sort_values('matched Logit pval').head(20).index:\n",
    "for k in logit_results_mmc_no_hpn.sort_values('Logit pval').head(20).index:\n",
    "    kk = k.split('|')[-1]\n",
    "    for gr in ['HC275', 'MMC269', 'UMCC222']:\n",
    "        t, p = directed_mannwhitneyu(metacardis_X[metacardis_X['PATGROUPFINAL_C']=='4'].filter(regex=kk).iloc[:, 0].dropna(), \n",
    "                      metacardis_X[metacardis_X['Group']==gr].filter(regex=kk).iloc[:, 0].dropna())\n",
    "#         t, p = directed_mannwhitneyu(metacardis_X[metacardis_X['Group']=='IHD372'].filter(regex=kk).iloc[:, 0].dropna(), \n",
    "#                       metacardis_X[metacardis_X['Group']==gr].filter(regex=kk).iloc[:, 0].dropna())\n",
    "        print (kk, gr, t, p)\n",
    "    print ()"
   ]
  },
  {
   "cell_type": "code",
   "execution_count": 353,
   "metadata": {
    "ExecuteTime": {
     "end_time": "2020-07-08T06:26:22.960106Z",
     "start_time": "2020-07-08T06:26:22.640625Z"
    }
   },
   "outputs": [
    {
     "data": {
      "text/plain": [
       "(-7902.0, 0.4260863584054201)"
      ]
     },
     "execution_count": 353,
     "metadata": {},
     "output_type": "execute_result"
    },
    {
     "data": {
      "image/png": "[encoded data removed]",
      "text/plain": [
       "<Figure size 432x288 with 1 Axes>"
      ]
     },
     "metadata": {
      "needs_background": "light"
     },
     "output_type": "display_data"
    }
   ],
   "source": [
    "k = 'sSGB__4540'\n",
    "plt.hist([metacardis_X[metacardis_X['PATGROUPFINAL_C']=='4'].filter(regex=k).apply(np.log10).iloc[:, 0], \n",
    "          metacardis_X[metacardis_X['Group']=='UMCC222'].filter(regex=k).apply(np.log10).iloc[:, 0]])\n",
    "directed_mannwhitneyu(metacardis_X[metacardis_X['PATGROUPFINAL_C']=='4'].filter(regex=k).iloc[:, 0].dropna(), \n",
    "          metacardis_X[metacardis_X['Group']=='UMCC222'].filter(regex=k).iloc[:, 0].dropna())\n",
    "# metacardis_X_age_bmi\n",
    "# metacardis_X"
   ]
  }
 ],
 "metadata": {
  "kernelspec": {
   "display_name": "Python 3",
   "language": "python",
   "name": "python3"
  },
  "language_info": {
   "codemirror_mode": {
    "name": "ipython",
    "version": 3
   },
   "file_extension": ".py",
   "mimetype": "text/x-python",
   "name": "python",
   "nbconvert_exporter": "python",
   "pygments_lexer": "ipython3",
   "version": "3.7.4"
  },
  "toc": {
   "nav_menu": {},
   "number_sections": true,
   "sideBar": true,
   "skip_h1_title": false,
   "toc_cell": false,
   "toc_position": {
    "height": "663.95px",
    "left": "0px",
    "right": "1708px",
    "top": "111.05px",
    "width": "212px"
   },
   "toc_section_display": "block",
   "toc_window_display": true
  }
 },
 "nbformat": 4,
 "nbformat_minor": 2
}
