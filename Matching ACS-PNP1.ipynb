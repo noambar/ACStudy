{
 "cells": [
  {
   "cell_type": "markdown",
   "metadata": {},
   "source": [
    "# Setup"
   ]
  },
  {
   "cell_type": "code",
   "execution_count": 1,
   "metadata": {
    "ExecuteTime": {
     "end_time": "2021-04-25T09:42:42.440630Z",
     "start_time": "2021-04-25T09:42:36.118456Z"
    }
   },
   "outputs": [],
   "source": [
    "%load_ext autoreload\n",
    "%autoreload 2\n",
    "%matplotlib inline\n",
    "\n",
    "from Matching import *\n",
    "\n",
    "curr_dir = mkdirifnotexists(os.path.join('Matching'))"
   ]
  },
  {
   "cell_type": "markdown",
   "metadata": {},
   "source": [
    "# Load data"
   ]
  },
  {
   "cell_type": "code",
   "execution_count": 4,
   "metadata": {
    "ExecuteTime": {
     "end_time": "2020-12-15T10:10:55.990259Z",
     "start_time": "2020-12-15T10:10:54.197508Z"
    }
   },
   "outputs": [],
   "source": [
    "acs_data = pd.read_csv('data/ACS_full_data.csv', index_col=0)\n",
    "pnp_data = pd.read_csv('data/pnp1_full_data.csv', index_col='RegistrationCode')\n",
    "\n",
    "acs_data['ACS sample'], pnp_data['ACS sample'] = 1, 0\n",
    "\n",
    "pnp_data.index = pnp_data.index.astype(str)\n",
    "acs_data.index = acs_data.index.astype(str)"
   ]
  },
  {
   "cell_type": "markdown",
   "metadata": {},
   "source": [
    "# Matching"
   ]
  },
  {
   "cell_type": "code",
   "execution_count": 19,
   "metadata": {
    "ExecuteTime": {
     "end_time": "2020-12-15T10:16:48.072268Z",
     "start_time": "2020-12-15T10:16:47.976475Z"
    }
   },
   "outputs": [],
   "source": [
    "matching_dir = 'Matching'\n",
    "pnp_acs_matching_dir = os.path.join('Matching', 'PNP1-ACS_matching')\n",
    "mkdirifnotexists(pnp_acs_matching_dir)"
   ]
  },
  {
   "cell_type": "code",
   "execution_count": 7,
   "metadata": {
    "ExecuteTime": {
     "end_time": "2020-12-15T10:11:24.616866Z",
     "start_time": "2020-12-15T10:11:24.195054Z"
    }
   },
   "outputs": [
    {
     "name": "stdout",
     "output_type": "stream",
     "text": [
      "(985, 3478) (202, 3455)\n",
      "(985, 4440) (202, 4417)\n",
      "(471, 4440) (156, 4417)\n"
     ]
    }
   ],
   "source": [
    "print (pnp_data.shape, acs_data.shape)\n",
    "pnp_data_metabolon = pd.read_csv('data/pnp_data_metabolon.csv')\n",
    "acs_data_metabolon = pd.read_csv('data/acs_data_metabolon.csv')\n",
    "print (pnp_data_metabolon.shape, acs_data_metabolon.shape)\n",
    "pnp_data_metabolon_full = pnp_data_metabolon.dropna(subset=['100000010', 'Age', 'gender'])\n",
    "acs_data_metabolon_full = acs_data_metabolon.dropna(subset=['100000010', 'Age', 'gender'])\n",
    "print (pnp_data_metabolon_full.shape, acs_data_metabolon_full.shape)"
   ]
  },
  {
   "cell_type": "markdown",
   "metadata": {},
   "source": [
    "## microbiome No HPN+Dys"
   ]
  },
  {
   "cell_type": "code",
   "execution_count": 21,
   "metadata": {
    "ExecuteTime": {
     "end_time": "2020-12-15T10:22:09.563341Z",
     "start_time": "2020-12-15T10:22:09.296806Z"
    }
   },
   "outputs": [],
   "source": [
    "acs_data.loc[:, 'DM'] = (acs_data.loc[:, 'Glucose Disorder: DM1']==1) | \\\n",
    "                                    (acs_data.loc[:, 'Glucose Disorder: DM2']==1) | \\\n",
    "                                    (acs_data.loc[:, 'HbA1C']>6.4)"
   ]
  },
  {
   "cell_type": "code",
   "execution_count": 22,
   "metadata": {
    "ExecuteTime": {
     "end_time": "2020-12-15T10:22:10.858167Z",
     "start_time": "2020-12-15T10:22:10.728065Z"
    }
   },
   "outputs": [
    {
     "name": "stdout",
     "output_type": "stream",
     "text": [
      "(985, 3478) (202, 3456)\n",
      "(284, 5) (191, 5)\n"
     ]
    }
   ],
   "source": [
    "cols_to_match_on = {'gender':'binary', 'Age':'cont', 'bmi':'cont', 'DM':'binary', 'smoke_tobacco_now':'binary'}\n",
    "\n",
    "print (pnp_data.shape, acs_data.shape)\n",
    "pnp_data_nextera = pnp_data[(pnp_data.Nextera=='True') & (pnp_data.IsGenotek == 0)].dropna(subset=[pnp_data.filter(regex='k__').columns[0], 'Age', 'gender'])[cols_to_match_on.keys()]\n",
    "acs_data_nextera = acs_data.dropna(subset=[acs_data.filter(regex='k__').columns[0], 'Age', 'gender'])[cols_to_match_on.keys()]\n",
    "pnp_data_nextera = pnp_data_nextera[pnp_data_nextera.Age>30]\n",
    "acs_data_nextera = acs_data_nextera[acs_data_nextera.Age<75]\n",
    "print (pnp_data_nextera.shape, acs_data_nextera.shape)"
   ]
  },
  {
   "cell_type": "code",
   "execution_count": 23,
   "metadata": {
    "ExecuteTime": {
     "end_time": "2020-12-15T10:22:13.732479Z",
     "start_time": "2020-12-15T10:22:13.647675Z"
    }
   },
   "outputs": [
    {
     "data": {
      "text/html": [
       "<div>\n",
       "<style scoped>\n",
       "    .dataframe tbody tr th:only-of-type {\n",
       "        vertical-align: middle;\n",
       "    }\n",
       "\n",
       "    .dataframe tbody tr th {\n",
       "        vertical-align: top;\n",
       "    }\n",
       "\n",
       "    .dataframe thead th {\n",
       "        text-align: right;\n",
       "    }\n",
       "</style>\n",
       "<table border=\"1\" class=\"dataframe\">\n",
       "  <thead>\n",
       "    <tr style=\"text-align: right;\">\n",
       "      <th></th>\n",
       "      <th>gender</th>\n",
       "      <th>Age</th>\n",
       "      <th>bmi</th>\n",
       "      <th>DM</th>\n",
       "      <th>smoke_tobacco_now</th>\n",
       "      <th>ACS sample</th>\n",
       "    </tr>\n",
       "    <tr>\n",
       "      <th>RegistrationCode</th>\n",
       "      <th></th>\n",
       "      <th></th>\n",
       "      <th></th>\n",
       "      <th></th>\n",
       "      <th></th>\n",
       "      <th></th>\n",
       "    </tr>\n",
       "  </thead>\n",
       "  <tbody>\n",
       "    <tr>\n",
       "      <th>10260</th>\n",
       "      <td>0.0</td>\n",
       "      <td>45.410959</td>\n",
       "      <td>25.593737</td>\n",
       "      <td>False</td>\n",
       "      <td>0.0</td>\n",
       "      <td>0</td>\n",
       "    </tr>\n",
       "    <tr>\n",
       "      <th>102855</th>\n",
       "      <td>0.0</td>\n",
       "      <td>37.926027</td>\n",
       "      <td>22.265625</td>\n",
       "      <td>False</td>\n",
       "      <td>1.0</td>\n",
       "      <td>0</td>\n",
       "    </tr>\n",
       "    <tr>\n",
       "      <th>107014</th>\n",
       "      <td>0.0</td>\n",
       "      <td>60.704110</td>\n",
       "      <td>23.191095</td>\n",
       "      <td>False</td>\n",
       "      <td>0.0</td>\n",
       "      <td>0</td>\n",
       "    </tr>\n",
       "    <tr>\n",
       "      <th>110706</th>\n",
       "      <td>1.0</td>\n",
       "      <td>45.701370</td>\n",
       "      <td>32.449973</td>\n",
       "      <td>False</td>\n",
       "      <td>0.0</td>\n",
       "      <td>0</td>\n",
       "    </tr>\n",
       "    <tr>\n",
       "      <th>112871</th>\n",
       "      <td>0.0</td>\n",
       "      <td>33.895890</td>\n",
       "      <td>18.206645</td>\n",
       "      <td>False</td>\n",
       "      <td>0.0</td>\n",
       "      <td>0</td>\n",
       "    </tr>\n",
       "    <tr>\n",
       "      <th>...</th>\n",
       "      <td>...</td>\n",
       "      <td>...</td>\n",
       "      <td>...</td>\n",
       "      <td>...</td>\n",
       "      <td>...</td>\n",
       "      <td>...</td>\n",
       "    </tr>\n",
       "    <tr>\n",
       "      <th>3770343</th>\n",
       "      <td>1.0</td>\n",
       "      <td>68.632877</td>\n",
       "      <td>27.041644</td>\n",
       "      <td>False</td>\n",
       "      <td>0.0</td>\n",
       "      <td>1</td>\n",
       "    </tr>\n",
       "    <tr>\n",
       "      <th>3445026</th>\n",
       "      <td>1.0</td>\n",
       "      <td>67.967123</td>\n",
       "      <td>34.198557</td>\n",
       "      <td>False</td>\n",
       "      <td>0.0</td>\n",
       "      <td>1</td>\n",
       "    </tr>\n",
       "    <tr>\n",
       "      <th>3025867</th>\n",
       "      <td>1.0</td>\n",
       "      <td>69.191781</td>\n",
       "      <td>28.400548</td>\n",
       "      <td>True</td>\n",
       "      <td>0.0</td>\n",
       "      <td>1</td>\n",
       "    </tr>\n",
       "    <tr>\n",
       "      <th>3889402</th>\n",
       "      <td>1.0</td>\n",
       "      <td>69.136986</td>\n",
       "      <td>30.083829</td>\n",
       "      <td>False</td>\n",
       "      <td>0.0</td>\n",
       "      <td>1</td>\n",
       "    </tr>\n",
       "    <tr>\n",
       "      <th>3652207</th>\n",
       "      <td>0.0</td>\n",
       "      <td>44.000000</td>\n",
       "      <td>33.792470</td>\n",
       "      <td>False</td>\n",
       "      <td>0.0</td>\n",
       "      <td>1</td>\n",
       "    </tr>\n",
       "  </tbody>\n",
       "</table>\n",
       "<p>459 rows × 6 columns</p>\n",
       "</div>"
      ],
      "text/plain": [
       "                  gender        Age        bmi     DM  smoke_tobacco_now  \\\n",
       "RegistrationCode                                                           \n",
       "10260                0.0  45.410959  25.593737  False                0.0   \n",
       "102855               0.0  37.926027  22.265625  False                1.0   \n",
       "107014               0.0  60.704110  23.191095  False                0.0   \n",
       "110706               1.0  45.701370  32.449973  False                0.0   \n",
       "112871               0.0  33.895890  18.206645  False                0.0   \n",
       "...                  ...        ...        ...    ...                ...   \n",
       "3770343              1.0  68.632877  27.041644  False                0.0   \n",
       "3445026              1.0  67.967123  34.198557  False                0.0   \n",
       "3025867              1.0  69.191781  28.400548   True                0.0   \n",
       "3889402              1.0  69.136986  30.083829  False                0.0   \n",
       "3652207              0.0  44.000000  33.792470  False                0.0   \n",
       "\n",
       "                  ACS sample  \n",
       "RegistrationCode              \n",
       "10260                      0  \n",
       "102855                     0  \n",
       "107014                     0  \n",
       "110706                     0  \n",
       "112871                     0  \n",
       "...                      ...  \n",
       "3770343                    1  \n",
       "3445026                    1  \n",
       "3025867                    1  \n",
       "3889402                    1  \n",
       "3652207                    1  \n",
       "\n",
       "[459 rows x 6 columns]"
      ]
     },
     "execution_count": 23,
     "metadata": {},
     "output_type": "execute_result"
    }
   ],
   "source": [
    "temp_acs = acs_data_nextera[cols_to_match_on.keys()].dropna().copy()\n",
    "temp_pnp = pnp_data_nextera[cols_to_match_on.keys()].dropna().copy()\n",
    "\n",
    "temp_acs['ACS sample'] = 1\n",
    "temp_pnp['ACS sample'] = 0\n",
    "\n",
    "\n",
    "data_before_matching = pd.concat((temp_pnp, temp_acs)).copy()\n",
    "data_before_matching"
   ]
  },
  {
   "cell_type": "code",
   "execution_count": 24,
   "metadata": {
    "ExecuteTime": {
     "end_time": "2020-12-15T10:22:19.265551Z",
     "start_time": "2020-12-15T10:22:18.857469Z"
    },
    "collapsed": true
   },
   "outputs": [
    {
     "ename": "AttributeError",
     "evalue": "'Rectangle' object has no property 'normed'",
     "output_type": "error",
     "traceback": [
      "\u001b[0;31m---------------------------------------------------------------------------\u001b[0m",
      "\u001b[0;31mAttributeError\u001b[0m                            Traceback (most recent call last)",
      "\u001b[0;32m<ipython-input-24-9ae18d880df5>\u001b[0m in \u001b[0;36m<module>\u001b[0;34m\u001b[0m\n\u001b[1;32m      7\u001b[0m plot_pscores(data_before_matching_and_propensity, TX_col='ACS sample', pscore_col='propensity', \n\u001b[1;32m      8\u001b[0m              \u001b[0mTX_values\u001b[0m\u001b[0;34m=\u001b[0m\u001b[0;34m[\u001b[0m\u001b[0;36m0\u001b[0m\u001b[0;34m,\u001b[0m\u001b[0;36m1\u001b[0m\u001b[0;34m]\u001b[0m\u001b[0;34m,\u001b[0m \u001b[0mTX_labels\u001b[0m\u001b[0;34m=\u001b[0m\u001b[0;34m[\u001b[0m\u001b[0;34m'Healthy'\u001b[0m\u001b[0;34m,\u001b[0m \u001b[0;34m'ACS'\u001b[0m\u001b[0;34m]\u001b[0m\u001b[0;34m,\u001b[0m\u001b[0;34m\u001b[0m\u001b[0;34m\u001b[0m\u001b[0m\n\u001b[0;32m----> 9\u001b[0;31m              hist=True, normed=False, bin_resolution=0.25)\n\u001b[0m",
      "\u001b[0;32m~/workspace/metabolon/ACSPaper/Matching.py\u001b[0m in \u001b[0;36mplot_pscores\u001b[0;34m(data_df, TX_col, pscore_col, TX_values, TX_labels, ax, hist, normed, bin_resolution, labelsize, tick_labelsize, title, palette, **kwargs)\u001b[0m\n\u001b[1;32m     67\u001b[0m     ax.hist([pscores0, pscores1],\n\u001b[1;32m     68\u001b[0m             \u001b[0mlabel\u001b[0m\u001b[0;34m=\u001b[0m\u001b[0;34m[\u001b[0m\u001b[0;34m'%s N=(%0.1d)'\u001b[0m \u001b[0;34m%\u001b[0m \u001b[0;34m(\u001b[0m\u001b[0mTX_labels\u001b[0m\u001b[0;34m[\u001b[0m\u001b[0;36m0\u001b[0m\u001b[0;34m]\u001b[0m\u001b[0;34m,\u001b[0m \u001b[0mN_0\u001b[0m\u001b[0;34m)\u001b[0m\u001b[0;34m,\u001b[0m \u001b[0;34m'%s N=(%0.1d)'\u001b[0m \u001b[0;34m%\u001b[0m \u001b[0;34m(\u001b[0m\u001b[0mTX_labels\u001b[0m\u001b[0;34m[\u001b[0m\u001b[0;36m1\u001b[0m\u001b[0;34m]\u001b[0m\u001b[0;34m,\u001b[0m \u001b[0mN_1\u001b[0m\u001b[0;34m)\u001b[0m\u001b[0;34m]\u001b[0m\u001b[0;34m,\u001b[0m\u001b[0;34m\u001b[0m\u001b[0;34m\u001b[0m\u001b[0m\n\u001b[0;32m---> 69\u001b[0;31m             bins=bins, normed=normed, **kwargs)\n\u001b[0m\u001b[1;32m     70\u001b[0m \u001b[0;34m\u001b[0m\u001b[0m\n\u001b[1;32m     71\u001b[0m     \u001b[0max\u001b[0m\u001b[0;34m.\u001b[0m\u001b[0mlegend\u001b[0m\u001b[0;34m(\u001b[0m\u001b[0mloc\u001b[0m\u001b[0;34m=\u001b[0m\u001b[0;34m'best'\u001b[0m\u001b[0;34m,\u001b[0m \u001b[0mfontsize\u001b[0m\u001b[0;34m=\u001b[0m\u001b[0mtick_labelsize\u001b[0m\u001b[0;34m)\u001b[0m\u001b[0;34m\u001b[0m\u001b[0;34m\u001b[0m\u001b[0m\n",
      "\u001b[0;32m/usr/wisdom/python-3.7.4/lib/python3.7/site-packages/matplotlib/__init__.py\u001b[0m in \u001b[0;36minner\u001b[0;34m(ax, data, *args, **kwargs)\u001b[0m\n\u001b[1;32m   1445\u001b[0m     \u001b[0;32mdef\u001b[0m \u001b[0minner\u001b[0m\u001b[0;34m(\u001b[0m\u001b[0max\u001b[0m\u001b[0;34m,\u001b[0m \u001b[0;34m*\u001b[0m\u001b[0margs\u001b[0m\u001b[0;34m,\u001b[0m \u001b[0mdata\u001b[0m\u001b[0;34m=\u001b[0m\u001b[0;32mNone\u001b[0m\u001b[0;34m,\u001b[0m \u001b[0;34m**\u001b[0m\u001b[0mkwargs\u001b[0m\u001b[0;34m)\u001b[0m\u001b[0;34m:\u001b[0m\u001b[0;34m\u001b[0m\u001b[0;34m\u001b[0m\u001b[0m\n\u001b[1;32m   1446\u001b[0m         \u001b[0;32mif\u001b[0m \u001b[0mdata\u001b[0m \u001b[0;32mis\u001b[0m \u001b[0;32mNone\u001b[0m\u001b[0;34m:\u001b[0m\u001b[0;34m\u001b[0m\u001b[0;34m\u001b[0m\u001b[0m\n\u001b[0;32m-> 1447\u001b[0;31m             \u001b[0;32mreturn\u001b[0m \u001b[0mfunc\u001b[0m\u001b[0;34m(\u001b[0m\u001b[0max\u001b[0m\u001b[0;34m,\u001b[0m \u001b[0;34m*\u001b[0m\u001b[0mmap\u001b[0m\u001b[0;34m(\u001b[0m\u001b[0msanitize_sequence\u001b[0m\u001b[0;34m,\u001b[0m \u001b[0margs\u001b[0m\u001b[0;34m)\u001b[0m\u001b[0;34m,\u001b[0m \u001b[0;34m**\u001b[0m\u001b[0mkwargs\u001b[0m\u001b[0;34m)\u001b[0m\u001b[0;34m\u001b[0m\u001b[0;34m\u001b[0m\u001b[0m\n\u001b[0m\u001b[1;32m   1448\u001b[0m \u001b[0;34m\u001b[0m\u001b[0m\n\u001b[1;32m   1449\u001b[0m         \u001b[0mbound\u001b[0m \u001b[0;34m=\u001b[0m \u001b[0mnew_sig\u001b[0m\u001b[0;34m.\u001b[0m\u001b[0mbind\u001b[0m\u001b[0;34m(\u001b[0m\u001b[0max\u001b[0m\u001b[0;34m,\u001b[0m \u001b[0;34m*\u001b[0m\u001b[0margs\u001b[0m\u001b[0;34m,\u001b[0m \u001b[0;34m**\u001b[0m\u001b[0mkwargs\u001b[0m\u001b[0;34m)\u001b[0m\u001b[0;34m\u001b[0m\u001b[0;34m\u001b[0m\u001b[0m\n",
      "\u001b[0;32m/usr/wisdom/python-3.7.4/lib/python3.7/site-packages/matplotlib/axes/_axes.py\u001b[0m in \u001b[0;36mhist\u001b[0;34m(self, x, bins, range, density, weights, cumulative, bottom, histtype, align, orientation, rwidth, log, color, label, stacked, **kwargs)\u001b[0m\n\u001b[1;32m   6813\u001b[0m             \u001b[0;32mif\u001b[0m \u001b[0mpatch\u001b[0m\u001b[0;34m:\u001b[0m\u001b[0;34m\u001b[0m\u001b[0;34m\u001b[0m\u001b[0m\n\u001b[1;32m   6814\u001b[0m                 \u001b[0mp\u001b[0m \u001b[0;34m=\u001b[0m \u001b[0mpatch\u001b[0m\u001b[0;34m[\u001b[0m\u001b[0;36m0\u001b[0m\u001b[0;34m]\u001b[0m\u001b[0;34m\u001b[0m\u001b[0;34m\u001b[0m\u001b[0m\n\u001b[0;32m-> 6815\u001b[0;31m                 \u001b[0mp\u001b[0m\u001b[0;34m.\u001b[0m\u001b[0mupdate\u001b[0m\u001b[0;34m(\u001b[0m\u001b[0mkwargs\u001b[0m\u001b[0;34m)\u001b[0m\u001b[0;34m\u001b[0m\u001b[0;34m\u001b[0m\u001b[0m\n\u001b[0m\u001b[1;32m   6816\u001b[0m                 \u001b[0;32mif\u001b[0m \u001b[0mlbl\u001b[0m \u001b[0;32mis\u001b[0m \u001b[0;32mnot\u001b[0m \u001b[0;32mNone\u001b[0m\u001b[0;34m:\u001b[0m\u001b[0;34m\u001b[0m\u001b[0;34m\u001b[0m\u001b[0m\n\u001b[1;32m   6817\u001b[0m                     \u001b[0mp\u001b[0m\u001b[0;34m.\u001b[0m\u001b[0mset_label\u001b[0m\u001b[0;34m(\u001b[0m\u001b[0mlbl\u001b[0m\u001b[0;34m)\u001b[0m\u001b[0;34m\u001b[0m\u001b[0;34m\u001b[0m\u001b[0m\n",
      "\u001b[0;32m/usr/wisdom/python-3.7.4/lib/python3.7/site-packages/matplotlib/artist.py\u001b[0m in \u001b[0;36mupdate\u001b[0;34m(self, props)\u001b[0m\n\u001b[1;32m    994\u001b[0m                     \u001b[0mfunc\u001b[0m \u001b[0;34m=\u001b[0m \u001b[0mgetattr\u001b[0m\u001b[0;34m(\u001b[0m\u001b[0mself\u001b[0m\u001b[0;34m,\u001b[0m \u001b[0;34mf\"set_{k}\"\u001b[0m\u001b[0;34m,\u001b[0m \u001b[0;32mNone\u001b[0m\u001b[0;34m)\u001b[0m\u001b[0;34m\u001b[0m\u001b[0;34m\u001b[0m\u001b[0m\n\u001b[1;32m    995\u001b[0m                     \u001b[0;32mif\u001b[0m \u001b[0;32mnot\u001b[0m \u001b[0mcallable\u001b[0m\u001b[0;34m(\u001b[0m\u001b[0mfunc\u001b[0m\u001b[0;34m)\u001b[0m\u001b[0;34m:\u001b[0m\u001b[0;34m\u001b[0m\u001b[0;34m\u001b[0m\u001b[0m\n\u001b[0;32m--> 996\u001b[0;31m                         raise AttributeError(f\"{type(self).__name__!r} object \"\n\u001b[0m\u001b[1;32m    997\u001b[0m                                              f\"has no property {k!r}\")\n\u001b[1;32m    998\u001b[0m                     \u001b[0mret\u001b[0m\u001b[0;34m.\u001b[0m\u001b[0mappend\u001b[0m\u001b[0;34m(\u001b[0m\u001b[0mfunc\u001b[0m\u001b[0;34m(\u001b[0m\u001b[0mv\u001b[0m\u001b[0;34m)\u001b[0m\u001b[0;34m)\u001b[0m\u001b[0;34m\u001b[0m\u001b[0;34m\u001b[0m\u001b[0m\n",
      "\u001b[0;31mAttributeError\u001b[0m: 'Rectangle' object has no property 'normed'"
     ]
    },
    {
     "data": {
      "image/png": "[encoded data removed]",
      "text/plain": [
       "<Figure size 576x360 with 1 Axes>"
      ]
     },
     "metadata": {
      "needs_background": "light"
     },
     "output_type": "display_data"
    }
   ],
   "source": [
    "ps_model, pscores = calc_propensity_score_sklearn(data_before_matching, \n",
    "                                                  ps_cols=data_before_matching.drop('ACS sample', axis=1).columns, \n",
    "                                                  TX_col='ACS sample', model=LogisticRegression(), CV=False)\n",
    "data_before_matching_and_propensity = data_before_matching.copy()\n",
    "data_before_matching_and_propensity['propensity'] = pscores\n",
    "\n",
    "plot_pscores(data_before_matching_and_propensity, TX_col='ACS sample', pscore_col='propensity', \n",
    "             TX_values=[0,1], TX_labels=['Healthy', 'ACS'],\n",
    "             hist=True, normed=False, bin_resolution=0.25)"
   ]
  },
  {
   "cell_type": "code",
   "execution_count": 25,
   "metadata": {
    "ExecuteTime": {
     "end_time": "2020-12-15T10:22:26.112558Z",
     "start_time": "2020-12-15T10:22:24.455771Z"
    }
   },
   "outputs": [
    {
     "name": "stderr",
     "output_type": "stream",
     "text": [
      "/usr/wisdom/python-3.7.4/lib/python3.7/site-packages/ipykernel_launcher.py:5: TqdmDeprecationWarning: This function will be removed in tqdm==5.0.0\n",
      "Please use `tqdm.notebook.tqdm` instead of `tqdm.tqdm_notebook`\n",
      "  \"\"\"\n"
     ]
    },
    {
     "data": {
      "application/vnd.jupyter.widget-view+json": {
       "model_id": "4e300d4ff67340fdb92255293c7c0ec0",
       "version_major": 2,
       "version_minor": 0
      },
      "text/plain": [
       "HBox(children=(FloatProgress(value=0.0, max=4.0), HTML(value='')))"
      ]
     },
     "metadata": {},
     "output_type": "display_data"
    },
    {
     "name": "stdout",
     "output_type": "stream",
     "text": [
      "1 (64, 8) (64, 8)\n",
      "2 (44, 8) (87, 8)\n",
      "3 (37, 8) (107, 8)\n",
      "4 (32, 8) (121, 8)\n",
      "\n"
     ]
    },
    {
     "data": {
      "text/html": [
       "<div>\n",
       "<style scoped>\n",
       "    .dataframe tbody tr th:only-of-type {\n",
       "        vertical-align: middle;\n",
       "    }\n",
       "\n",
       "    .dataframe tbody tr th {\n",
       "        vertical-align: top;\n",
       "    }\n",
       "\n",
       "    .dataframe thead th {\n",
       "        text-align: right;\n",
       "    }\n",
       "</style>\n",
       "<table border=\"1\" class=\"dataframe\">\n",
       "  <thead>\n",
       "    <tr style=\"text-align: right;\">\n",
       "      <th></th>\n",
       "      <th>Number of ACS</th>\n",
       "      <th>Number of Healthy</th>\n",
       "    </tr>\n",
       "  </thead>\n",
       "  <tbody>\n",
       "    <tr>\n",
       "      <th>1</th>\n",
       "      <td>64</td>\n",
       "      <td>64</td>\n",
       "    </tr>\n",
       "    <tr>\n",
       "      <th>2</th>\n",
       "      <td>44</td>\n",
       "      <td>87</td>\n",
       "    </tr>\n",
       "    <tr>\n",
       "      <th>3</th>\n",
       "      <td>37</td>\n",
       "      <td>107</td>\n",
       "    </tr>\n",
       "    <tr>\n",
       "      <th>4</th>\n",
       "      <td>32</td>\n",
       "      <td>121</td>\n",
       "    </tr>\n",
       "  </tbody>\n",
       "</table>\n",
       "</div>"
      ],
      "text/plain": [
       "  Number of ACS Number of Healthy\n",
       "1            64                64\n",
       "2            44                87\n",
       "3            37               107\n",
       "4            32               121"
      ]
     },
     "execution_count": 25,
     "metadata": {},
     "output_type": "execute_result"
    }
   ],
   "source": [
    "n_matches_max = 4\n",
    "\n",
    "matching_n_df = pd.DataFrame(index=range(1, n_matches_max+1), columns=['Number of ACS', 'Number of Healthy'])\n",
    "matched_dic = {}\n",
    "for n_matches in tqdm_notebook(range(1, n_matches_max+1)):\n",
    "    matched_dic[n_matches] = {}\n",
    "    X_matched = find_propensity_score_matches(data_before_matching_and_propensity, TX_col='ACS sample', pscore_col='propensity',\n",
    "                                              TX_values=[0,1], caliper=0.3, distance='linear', n_matches=n_matches, random_seed=1)\n",
    "    matched_cases = X_matched[(X_matched['ACS sample'] == 1) & (X_matched['matched_control_idx'])]\n",
    "    matched_control = X_matched[(X_matched['ACS sample'] == 0) & (X_matched['matched_control_idx'])]\n",
    "    matched_dic[n_matches]['X_matched'] = X_matched\n",
    "    matched_dic[n_matches]['matched_cases'] = matched_cases\n",
    "    matched_dic[n_matches]['matched_control'] = matched_control\n",
    "    print (n_matches, matched_cases.shape, matched_control.shape)\n",
    "    matching_n_df.loc[n_matches, :] = [matched_cases.shape[0], matched_control.shape[0]]\n",
    "matching_n_df"
   ]
  },
  {
   "cell_type": "code",
   "execution_count": 27,
   "metadata": {
    "ExecuteTime": {
     "end_time": "2020-12-15T10:22:56.227829Z",
     "start_time": "2020-12-15T10:22:52.932386Z"
    }
   },
   "outputs": [
    {
     "name": "stdout",
     "output_type": "stream",
     "text": [
      "gender\n"
     ]
    },
    {
     "data": {
      "image/png": "[encoded data removed]",
      "text/plain": [
       "<Figure size 432x288 with 1 Axes>"
      ]
     },
     "metadata": {
      "needs_background": "light"
     },
     "output_type": "display_data"
    },
    {
     "data": {
      "image/png": "[encoded data removed]",
      "text/plain": [
       "<Figure size 432x288 with 1 Axes>"
      ]
     },
     "metadata": {
      "needs_background": "light"
     },
     "output_type": "display_data"
    },
    {
     "name": "stdout",
     "output_type": "stream",
     "text": [
      "(64, 8) (64, 8)\n",
      "1.2583354388890575\n",
      "0.1729803522776138\n",
      "MannwhitneyuResult(statistic=1888.0, pvalue=0.16651347208292072)\n",
      "Age\n"
     ]
    },
    {
     "data": {
      "image/png": "[encoded data removed]",
      "text/plain": [
       "<Figure size 432x288 with 1 Axes>"
      ]
     },
     "metadata": {
      "needs_background": "light"
     },
     "output_type": "display_data"
    },
    {
     "data": {
      "image/png": "[encoded data removed]",
      "text/plain": [
       "<Figure size 432x288 with 1 Axes>"
      ]
     },
     "metadata": {
      "needs_background": "light"
     },
     "output_type": "display_data"
    },
    {
     "name": "stdout",
     "output_type": "stream",
     "text": [
      "(64, 8) (64, 8)\n",
      "4.477201337874265\n",
      "-0.26137745760170106\n",
      "MannwhitneyuResult(statistic=1905.0, pvalue=0.24853754201902029)\n",
      "bmi\n"
     ]
    },
    {
     "data": {
      "image/png": "[encoded data removed]",
      "text/plain": [
       "<Figure size 432x288 with 1 Axes>"
      ]
     },
     "metadata": {
      "needs_background": "light"
     },
     "output_type": "display_data"
    },
    {
     "data": {
      "image/png": "[encoded data removed]",
      "text/plain": [
       "<Figure size 432x288 with 1 Axes>"
      ]
     },
     "metadata": {
      "needs_background": "light"
     },
     "output_type": "display_data"
    },
    {
     "name": "stdout",
     "output_type": "stream",
     "text": [
      "(64, 8) (64, 8)\n",
      "0.3000481631662238\n",
      "0.16687999626504613\n",
      "MannwhitneyuResult(statistic=1954.0, pvalue=0.327947391456449)\n",
      "DM\n"
     ]
    },
    {
     "data": {
      "image/png": "[encoded data removed]",
      "text/plain": [
       "<Figure size 432x288 with 1 Axes>"
      ]
     },
     "metadata": {
      "needs_background": "light"
     },
     "output_type": "display_data"
    },
    {
     "data": {
      "image/png": "[encoded data removed]",
      "text/plain": [
       "<Figure size 432x288 with 1 Axes>"
      ]
     },
     "metadata": {
      "needs_background": "light"
     },
     "output_type": "display_data"
    },
    {
     "name": "stdout",
     "output_type": "stream",
     "text": [
      "(64, 8) (64, 8)\n",
      "0.7969405841218401\n",
      "0.0899842541331695\n",
      "MannwhitneyuResult(statistic=1984.0, pvalue=0.30763475667881124)\n",
      "smoke_tobacco_now\n"
     ]
    },
    {
     "data": {
      "image/png": "[encoded data removed]",
      "text/plain": [
       "<Figure size 432x288 with 1 Axes>"
      ]
     },
     "metadata": {
      "needs_background": "light"
     },
     "output_type": "display_data"
    },
    {
     "data": {
      "image/png": "[encoded data removed]",
      "text/plain": [
       "<Figure size 432x288 with 1 Axes>"
      ]
     },
     "metadata": {
      "needs_background": "light"
     },
     "output_type": "display_data"
    },
    {
     "name": "stdout",
     "output_type": "stream",
     "text": [
      "(64, 8) (64, 8)\n",
      "0.5846024031599185\n",
      "0.0357256796484452\n",
      "MannwhitneyuResult(statistic=2016.0, pvalue=0.4214728503376818)\n"
     ]
    }
   ],
   "source": [
    "i=1\n",
    "matched_control, matched_cases = matched_dic[i]['matched_control'], matched_dic[i]['matched_cases']\n",
    "\n",
    "for c in cols_to_match_on:\n",
    "    print (c)\n",
    "    plt.hist([temp_pnp[c].astype(float), temp_acs[c].astype(float)], bins=20)#, normed=True)\n",
    "    plt.show()\n",
    "    plt.hist([matched_control[c].astype(float), matched_cases[c].astype(float)], bins=20)#, normed=True)\n",
    "    plt.show()\n",
    "    print (matched_control.shape, matched_cases.shape)\n",
    "    if cols_to_match_on[c] == 'binary':\n",
    "        print (dichotomous_standadized_difference(temp_pnp[c].astype(int), temp_acs[c].astype(int)))\n",
    "        print (dichotomous_standadized_difference(matched_control[c].astype(int), matched_cases[c].astype(int)))\n",
    "    elif cols_to_match_on[c] == 'cont':\n",
    "        print (continuous_standadized_difference(temp_pnp[c], temp_acs[c]))\n",
    "        print (continuous_standadized_difference(matched_control[c], matched_cases[c]))\n",
    "    print (mannwhitneyu(matched_control[c], matched_cases[c]))"
   ]
  },
  {
   "cell_type": "code",
   "execution_count": 28,
   "metadata": {
    "ExecuteTime": {
     "end_time": "2020-12-15T10:23:07.142216Z",
     "start_time": "2020-12-15T10:23:06.833125Z"
    }
   },
   "outputs": [
    {
     "data": {
      "text/plain": [
       "<AxesSubplot:xlabel='Standardized differences'>"
      ]
     },
     "execution_count": 28,
     "metadata": {},
     "output_type": "execute_result"
    },
    {
     "data": {
      "image/png": "[encoded data removed]",
      "text/plain": [
       "<Figure size 504x288 with 1 Axes>"
      ]
     },
     "metadata": {
      "needs_background": "light"
     },
     "output_type": "display_data"
    }
   ],
   "source": [
    "smd_df = pd.DataFrame(index=cols_to_match_on, columns=['matched samples', 'unmatched samples'])\n",
    "for c in cols_to_match_on:\n",
    "    if cols_to_match_on[c] == 'binary':\n",
    "        smd_df.loc[c, 'unmatched samples'] = dichotomous_standadized_difference(temp_pnp[c], temp_acs[c])\n",
    "        smd_df.loc[c, 'matched samples'] = dichotomous_standadized_difference(matched_control[c], matched_cases[c])\n",
    "    elif cols_to_match_on[c] == 'cont':\n",
    "        smd_df.loc[c, 'unmatched samples'] = continuous_standadized_difference(temp_pnp[c], temp_acs[c])\n",
    "        smd_df.loc[c, 'matched samples'] = continuous_standadized_difference(matched_control[c], matched_cases[c])\n",
    "    \n",
    "plot_SMD_before_after_matching(smd_df, figsize=(7,4)) # ['BMI', 'Sex', 'Age']\n",
    "# plt.savefig(os.path.join(d2_acs_matching_dir, 'D2_RegistrationCode.png'), dpi=200)"
   ]
  },
  {
   "cell_type": "code",
   "execution_count": 30,
   "metadata": {
    "ExecuteTime": {
     "end_time": "2020-12-15T10:23:26.253975Z",
     "start_time": "2020-12-15T10:23:26.189520Z"
    }
   },
   "outputs": [],
   "source": [
    "smd_df.to_csv(os.path.join(pnp_acs_matching_dir, 'PNP1-ACS_microbiome_age+sex+bmi+DM+smoking_1:1_SMD.csv'))"
   ]
  },
  {
   "cell_type": "code",
   "execution_count": 328,
   "metadata": {
    "ExecuteTime": {
     "end_time": "2020-10-19T06:30:04.941357Z",
     "start_time": "2020-10-19T06:30:04.440478Z"
    }
   },
   "outputs": [],
   "source": [
    "pd.concat((matched_dic[1]['matched_control'], matched_dic[1]['matched_cases']), axis=0, sort=False).to_csv(os.path.join(pnp_acs_matching_dir, 'PNP1-ACS_microbiome_age+sex+bmi+DM+smoking_1:1.csv'))"
   ]
  },
  {
   "cell_type": "markdown",
   "metadata": {},
   "source": [
    "## No HPN+Dyslipidemia"
   ]
  },
  {
   "cell_type": "code",
   "execution_count": 9,
   "metadata": {
    "ExecuteTime": {
     "end_time": "2020-12-15T10:12:49.860973Z",
     "start_time": "2020-12-15T10:12:49.785318Z"
    }
   },
   "outputs": [
    {
     "name": "stderr",
     "output_type": "stream",
     "text": [
      "/usr/wisdom/python-3.7.4/lib/python3.7/site-packages/pandas/core/indexing.py:1596: SettingWithCopyWarning: \n",
      "A value is trying to be set on a copy of a slice from a DataFrame.\n",
      "Try using .loc[row_indexer,col_indexer] = value instead\n",
      "\n",
      "See the caveats in the documentation: https://pandas.pydata.org/pandas-docs/stable/user_guide/indexing.html#returning-a-view-versus-a-copy\n",
      "  self.obj[key] = _infer_fill_value(value)\n",
      "/usr/wisdom/python-3.7.4/lib/python3.7/site-packages/pandas/core/indexing.py:1743: SettingWithCopyWarning: \n",
      "A value is trying to be set on a copy of a slice from a DataFrame.\n",
      "Try using .loc[row_indexer,col_indexer] = value instead\n",
      "\n",
      "See the caveats in the documentation: https://pandas.pydata.org/pandas-docs/stable/user_guide/indexing.html#returning-a-view-versus-a-copy\n",
      "  isetter(ilocs[0], value)\n"
     ]
    }
   ],
   "source": [
    "acs_data_metabolon_full.loc[:, 'DM'] = (acs_data_metabolon_full.loc[:, 'Glucose Disorder: DM1']==1) | \\\n",
    "                                                                (acs_data_metabolon_full.loc[:, 'Glucose Disorder: DM2']==1) | \\\n",
    "                                                                (acs_data_metabolon_full.loc[:, 'HbA1C']>6.4)"
   ]
  },
  {
   "cell_type": "code",
   "execution_count": 10,
   "metadata": {
    "ExecuteTime": {
     "end_time": "2020-12-15T10:12:57.865816Z",
     "start_time": "2020-12-15T10:12:57.783970Z"
    }
   },
   "outputs": [
    {
     "name": "stderr",
     "output_type": "stream",
     "text": [
      "/usr/wisdom/python-3.7.4/lib/python3.7/site-packages/ipykernel_launcher.py:1: SettingWithCopyWarning: \n",
      "A value is trying to be set on a copy of a slice from a DataFrame.\n",
      "Try using .loc[row_indexer,col_indexer] = value instead\n",
      "\n",
      "See the caveats in the documentation: https://pandas.pydata.org/pandas-docs/stable/user_guide/indexing.html#returning-a-view-versus-a-copy\n",
      "  \"\"\"Entry point for launching an IPython kernel.\n"
     ]
    }
   ],
   "source": [
    "acs_data_metabolon_full['Dyslipidemia'] = acs_data_metabolon_full['Dyslipidemia_asin_PNP']"
   ]
  },
  {
   "cell_type": "code",
   "execution_count": 11,
   "metadata": {
    "ExecuteTime": {
     "end_time": "2020-12-15T10:13:01.424403Z",
     "start_time": "2020-12-15T10:13:01.302088Z"
    }
   },
   "outputs": [
    {
     "data": {
      "text/html": [
       "<div>\n",
       "<style scoped>\n",
       "    .dataframe tbody tr th:only-of-type {\n",
       "        vertical-align: middle;\n",
       "    }\n",
       "\n",
       "    .dataframe tbody tr th {\n",
       "        vertical-align: top;\n",
       "    }\n",
       "\n",
       "    .dataframe thead th {\n",
       "        text-align: right;\n",
       "    }\n",
       "</style>\n",
       "<table border=\"1\" class=\"dataframe\">\n",
       "  <thead>\n",
       "    <tr style=\"text-align: right;\">\n",
       "      <th></th>\n",
       "      <th>gender</th>\n",
       "      <th>Age</th>\n",
       "      <th>bmi</th>\n",
       "      <th>DM</th>\n",
       "      <th>smoke_tobacco_now</th>\n",
       "      <th>ACS sample</th>\n",
       "    </tr>\n",
       "    <tr>\n",
       "      <th>RegistrationCode</th>\n",
       "      <th></th>\n",
       "      <th></th>\n",
       "      <th></th>\n",
       "      <th></th>\n",
       "      <th></th>\n",
       "      <th></th>\n",
       "    </tr>\n",
       "  </thead>\n",
       "  <tbody>\n",
       "    <tr>\n",
       "      <th>10260</th>\n",
       "      <td>0.0</td>\n",
       "      <td>45.410959</td>\n",
       "      <td>25.593737</td>\n",
       "      <td>False</td>\n",
       "      <td>0.0</td>\n",
       "      <td>0</td>\n",
       "    </tr>\n",
       "    <tr>\n",
       "      <th>103543</th>\n",
       "      <td>0.0</td>\n",
       "      <td>60.008219</td>\n",
       "      <td>23.805402</td>\n",
       "      <td>False</td>\n",
       "      <td>0.0</td>\n",
       "      <td>0</td>\n",
       "    </tr>\n",
       "    <tr>\n",
       "      <th>105043</th>\n",
       "      <td>1.0</td>\n",
       "      <td>58.386301</td>\n",
       "      <td>34.018913</td>\n",
       "      <td>True</td>\n",
       "      <td>0.0</td>\n",
       "      <td>0</td>\n",
       "    </tr>\n",
       "    <tr>\n",
       "      <th>107014</th>\n",
       "      <td>0.0</td>\n",
       "      <td>60.704110</td>\n",
       "      <td>23.191095</td>\n",
       "      <td>False</td>\n",
       "      <td>0.0</td>\n",
       "      <td>0</td>\n",
       "    </tr>\n",
       "    <tr>\n",
       "      <th>109179</th>\n",
       "      <td>1.0</td>\n",
       "      <td>68.219178</td>\n",
       "      <td>26.573129</td>\n",
       "      <td>False</td>\n",
       "      <td>0.0</td>\n",
       "      <td>0</td>\n",
       "    </tr>\n",
       "    <tr>\n",
       "      <th>...</th>\n",
       "      <td>...</td>\n",
       "      <td>...</td>\n",
       "      <td>...</td>\n",
       "      <td>...</td>\n",
       "      <td>...</td>\n",
       "      <td>...</td>\n",
       "    </tr>\n",
       "    <tr>\n",
       "      <th>3693158</th>\n",
       "      <td>1.0</td>\n",
       "      <td>54.284932</td>\n",
       "      <td>24.489796</td>\n",
       "      <td>False</td>\n",
       "      <td>1.0</td>\n",
       "      <td>1</td>\n",
       "    </tr>\n",
       "    <tr>\n",
       "      <th>3005299</th>\n",
       "      <td>1.0</td>\n",
       "      <td>67.194521</td>\n",
       "      <td>26.573129</td>\n",
       "      <td>True</td>\n",
       "      <td>0.0</td>\n",
       "      <td>1</td>\n",
       "    </tr>\n",
       "    <tr>\n",
       "      <th>3624698</th>\n",
       "      <td>1.0</td>\n",
       "      <td>62.589041</td>\n",
       "      <td>36.419753</td>\n",
       "      <td>True</td>\n",
       "      <td>0.0</td>\n",
       "      <td>1</td>\n",
       "    </tr>\n",
       "    <tr>\n",
       "      <th>3982076</th>\n",
       "      <td>1.0</td>\n",
       "      <td>52.956164</td>\n",
       "      <td>33.308985</td>\n",
       "      <td>True</td>\n",
       "      <td>0.0</td>\n",
       "      <td>1</td>\n",
       "    </tr>\n",
       "    <tr>\n",
       "      <th>3652207</th>\n",
       "      <td>0.0</td>\n",
       "      <td>44.000000</td>\n",
       "      <td>33.792470</td>\n",
       "      <td>False</td>\n",
       "      <td>0.0</td>\n",
       "      <td>1</td>\n",
       "    </tr>\n",
       "  </tbody>\n",
       "</table>\n",
       "<p>603 rows × 6 columns</p>\n",
       "</div>"
      ],
      "text/plain": [
       "                  gender        Age        bmi     DM  smoke_tobacco_now  \\\n",
       "RegistrationCode                                                           \n",
       "10260                0.0  45.410959  25.593737  False                0.0   \n",
       "103543               0.0  60.008219  23.805402  False                0.0   \n",
       "105043               1.0  58.386301  34.018913   True                0.0   \n",
       "107014               0.0  60.704110  23.191095  False                0.0   \n",
       "109179               1.0  68.219178  26.573129  False                0.0   \n",
       "...                  ...        ...        ...    ...                ...   \n",
       "3693158              1.0  54.284932  24.489796  False                1.0   \n",
       "3005299              1.0  67.194521  26.573129   True                0.0   \n",
       "3624698              1.0  62.589041  36.419753   True                0.0   \n",
       "3982076              1.0  52.956164  33.308985   True                0.0   \n",
       "3652207              0.0  44.000000  33.792470  False                0.0   \n",
       "\n",
       "                  ACS sample  \n",
       "RegistrationCode              \n",
       "10260                      0  \n",
       "103543                     0  \n",
       "105043                     0  \n",
       "107014                     0  \n",
       "109179                     0  \n",
       "...                      ...  \n",
       "3693158                    1  \n",
       "3005299                    1  \n",
       "3624698                    1  \n",
       "3982076                    1  \n",
       "3652207                    1  \n",
       "\n",
       "[603 rows x 6 columns]"
      ]
     },
     "execution_count": 11,
     "metadata": {},
     "output_type": "execute_result"
    }
   ],
   "source": [
    "cols_to_match_on = {'gender':'binary', 'Age':'cont', 'bmi':'cont', 'DM':'binary', 'smoke_tobacco_now':'binary'}\n",
    "temp_pnp = pnp_data_metabolon_full.loc[:, cols_to_match_on.keys()].dropna().copy()\n",
    "\n",
    "temp_acs = acs_data_metabolon_full.loc[:, cols_to_match_on.keys()].dropna().copy()\n",
    "\n",
    "temp_acs['ACS sample'] = 1\n",
    "temp_pnp['ACS sample'] = 0\n",
    "\n",
    "\n",
    "data_before_matching = pd.concat((temp_pnp, temp_acs)).copy()\n",
    "data_before_matching"
   ]
  },
  {
   "cell_type": "code",
   "execution_count": 12,
   "metadata": {
    "ExecuteTime": {
     "end_time": "2020-12-15T10:13:09.196039Z",
     "start_time": "2020-12-15T10:13:08.723167Z"
    },
    "collapsed": true
   },
   "outputs": [
    {
     "ename": "AttributeError",
     "evalue": "'Rectangle' object has no property 'normed'",
     "output_type": "error",
     "traceback": [
      "\u001b[0;31m---------------------------------------------------------------------------\u001b[0m",
      "\u001b[0;31mAttributeError\u001b[0m                            Traceback (most recent call last)",
      "\u001b[0;32m<ipython-input-12-c5ab71cfa8f6>\u001b[0m in \u001b[0;36m<module>\u001b[0;34m\u001b[0m\n\u001b[1;32m      7\u001b[0m plot_pscores(data_before_matching_and_propensity, TX_col='ACS sample', pscore_col='propensity', \n\u001b[1;32m      8\u001b[0m              \u001b[0mTX_values\u001b[0m\u001b[0;34m=\u001b[0m\u001b[0;34m[\u001b[0m\u001b[0;36m0\u001b[0m\u001b[0;34m,\u001b[0m\u001b[0;36m1\u001b[0m\u001b[0;34m]\u001b[0m\u001b[0;34m,\u001b[0m \u001b[0mTX_labels\u001b[0m\u001b[0;34m=\u001b[0m\u001b[0;34m[\u001b[0m\u001b[0;34m'Healthy'\u001b[0m\u001b[0;34m,\u001b[0m \u001b[0;34m'ACS'\u001b[0m\u001b[0;34m]\u001b[0m\u001b[0;34m,\u001b[0m\u001b[0;34m\u001b[0m\u001b[0;34m\u001b[0m\u001b[0m\n\u001b[0;32m----> 9\u001b[0;31m              hist=True, normed=False, bin_resolution=0.1)\n\u001b[0m",
      "\u001b[0;32m~/workspace/metabolon/ACSPaper/Matching.py\u001b[0m in \u001b[0;36mplot_pscores\u001b[0;34m(data_df, TX_col, pscore_col, TX_values, TX_labels, ax, hist, normed, bin_resolution, labelsize, tick_labelsize, title, palette, **kwargs)\u001b[0m\n\u001b[1;32m     67\u001b[0m     ax.hist([pscores0, pscores1],\n\u001b[1;32m     68\u001b[0m             \u001b[0mlabel\u001b[0m\u001b[0;34m=\u001b[0m\u001b[0;34m[\u001b[0m\u001b[0;34m'%s N=(%0.1d)'\u001b[0m \u001b[0;34m%\u001b[0m \u001b[0;34m(\u001b[0m\u001b[0mTX_labels\u001b[0m\u001b[0;34m[\u001b[0m\u001b[0;36m0\u001b[0m\u001b[0;34m]\u001b[0m\u001b[0;34m,\u001b[0m \u001b[0mN_0\u001b[0m\u001b[0;34m)\u001b[0m\u001b[0;34m,\u001b[0m \u001b[0;34m'%s N=(%0.1d)'\u001b[0m \u001b[0;34m%\u001b[0m \u001b[0;34m(\u001b[0m\u001b[0mTX_labels\u001b[0m\u001b[0;34m[\u001b[0m\u001b[0;36m1\u001b[0m\u001b[0;34m]\u001b[0m\u001b[0;34m,\u001b[0m \u001b[0mN_1\u001b[0m\u001b[0;34m)\u001b[0m\u001b[0;34m]\u001b[0m\u001b[0;34m,\u001b[0m\u001b[0;34m\u001b[0m\u001b[0;34m\u001b[0m\u001b[0m\n\u001b[0;32m---> 69\u001b[0;31m             bins=bins, normed=normed, **kwargs)\n\u001b[0m\u001b[1;32m     70\u001b[0m \u001b[0;34m\u001b[0m\u001b[0m\n\u001b[1;32m     71\u001b[0m     \u001b[0max\u001b[0m\u001b[0;34m.\u001b[0m\u001b[0mlegend\u001b[0m\u001b[0;34m(\u001b[0m\u001b[0mloc\u001b[0m\u001b[0;34m=\u001b[0m\u001b[0;34m'best'\u001b[0m\u001b[0;34m,\u001b[0m \u001b[0mfontsize\u001b[0m\u001b[0;34m=\u001b[0m\u001b[0mtick_labelsize\u001b[0m\u001b[0;34m)\u001b[0m\u001b[0;34m\u001b[0m\u001b[0;34m\u001b[0m\u001b[0m\n",
      "\u001b[0;32m/usr/wisdom/python-3.7.4/lib/python3.7/site-packages/matplotlib/__init__.py\u001b[0m in \u001b[0;36minner\u001b[0;34m(ax, data, *args, **kwargs)\u001b[0m\n\u001b[1;32m   1445\u001b[0m     \u001b[0;32mdef\u001b[0m \u001b[0minner\u001b[0m\u001b[0;34m(\u001b[0m\u001b[0max\u001b[0m\u001b[0;34m,\u001b[0m \u001b[0;34m*\u001b[0m\u001b[0margs\u001b[0m\u001b[0;34m,\u001b[0m \u001b[0mdata\u001b[0m\u001b[0;34m=\u001b[0m\u001b[0;32mNone\u001b[0m\u001b[0;34m,\u001b[0m \u001b[0;34m**\u001b[0m\u001b[0mkwargs\u001b[0m\u001b[0;34m)\u001b[0m\u001b[0;34m:\u001b[0m\u001b[0;34m\u001b[0m\u001b[0;34m\u001b[0m\u001b[0m\n\u001b[1;32m   1446\u001b[0m         \u001b[0;32mif\u001b[0m \u001b[0mdata\u001b[0m \u001b[0;32mis\u001b[0m \u001b[0;32mNone\u001b[0m\u001b[0;34m:\u001b[0m\u001b[0;34m\u001b[0m\u001b[0;34m\u001b[0m\u001b[0m\n\u001b[0;32m-> 1447\u001b[0;31m             \u001b[0;32mreturn\u001b[0m \u001b[0mfunc\u001b[0m\u001b[0;34m(\u001b[0m\u001b[0max\u001b[0m\u001b[0;34m,\u001b[0m \u001b[0;34m*\u001b[0m\u001b[0mmap\u001b[0m\u001b[0;34m(\u001b[0m\u001b[0msanitize_sequence\u001b[0m\u001b[0;34m,\u001b[0m \u001b[0margs\u001b[0m\u001b[0;34m)\u001b[0m\u001b[0;34m,\u001b[0m \u001b[0;34m**\u001b[0m\u001b[0mkwargs\u001b[0m\u001b[0;34m)\u001b[0m\u001b[0;34m\u001b[0m\u001b[0;34m\u001b[0m\u001b[0m\n\u001b[0m\u001b[1;32m   1448\u001b[0m \u001b[0;34m\u001b[0m\u001b[0m\n\u001b[1;32m   1449\u001b[0m         \u001b[0mbound\u001b[0m \u001b[0;34m=\u001b[0m \u001b[0mnew_sig\u001b[0m\u001b[0;34m.\u001b[0m\u001b[0mbind\u001b[0m\u001b[0;34m(\u001b[0m\u001b[0max\u001b[0m\u001b[0;34m,\u001b[0m \u001b[0;34m*\u001b[0m\u001b[0margs\u001b[0m\u001b[0;34m,\u001b[0m \u001b[0;34m**\u001b[0m\u001b[0mkwargs\u001b[0m\u001b[0;34m)\u001b[0m\u001b[0;34m\u001b[0m\u001b[0;34m\u001b[0m\u001b[0m\n",
      "\u001b[0;32m/usr/wisdom/python-3.7.4/lib/python3.7/site-packages/matplotlib/axes/_axes.py\u001b[0m in \u001b[0;36mhist\u001b[0;34m(self, x, bins, range, density, weights, cumulative, bottom, histtype, align, orientation, rwidth, log, color, label, stacked, **kwargs)\u001b[0m\n\u001b[1;32m   6813\u001b[0m             \u001b[0;32mif\u001b[0m \u001b[0mpatch\u001b[0m\u001b[0;34m:\u001b[0m\u001b[0;34m\u001b[0m\u001b[0;34m\u001b[0m\u001b[0m\n\u001b[1;32m   6814\u001b[0m                 \u001b[0mp\u001b[0m \u001b[0;34m=\u001b[0m \u001b[0mpatch\u001b[0m\u001b[0;34m[\u001b[0m\u001b[0;36m0\u001b[0m\u001b[0;34m]\u001b[0m\u001b[0;34m\u001b[0m\u001b[0;34m\u001b[0m\u001b[0m\n\u001b[0;32m-> 6815\u001b[0;31m                 \u001b[0mp\u001b[0m\u001b[0;34m.\u001b[0m\u001b[0mupdate\u001b[0m\u001b[0;34m(\u001b[0m\u001b[0mkwargs\u001b[0m\u001b[0;34m)\u001b[0m\u001b[0;34m\u001b[0m\u001b[0;34m\u001b[0m\u001b[0m\n\u001b[0m\u001b[1;32m   6816\u001b[0m                 \u001b[0;32mif\u001b[0m \u001b[0mlbl\u001b[0m \u001b[0;32mis\u001b[0m \u001b[0;32mnot\u001b[0m \u001b[0;32mNone\u001b[0m\u001b[0;34m:\u001b[0m\u001b[0;34m\u001b[0m\u001b[0;34m\u001b[0m\u001b[0m\n\u001b[1;32m   6817\u001b[0m                     \u001b[0mp\u001b[0m\u001b[0;34m.\u001b[0m\u001b[0mset_label\u001b[0m\u001b[0;34m(\u001b[0m\u001b[0mlbl\u001b[0m\u001b[0;34m)\u001b[0m\u001b[0;34m\u001b[0m\u001b[0;34m\u001b[0m\u001b[0m\n",
      "\u001b[0;32m/usr/wisdom/python-3.7.4/lib/python3.7/site-packages/matplotlib/artist.py\u001b[0m in \u001b[0;36mupdate\u001b[0;34m(self, props)\u001b[0m\n\u001b[1;32m    994\u001b[0m                     \u001b[0mfunc\u001b[0m \u001b[0;34m=\u001b[0m \u001b[0mgetattr\u001b[0m\u001b[0;34m(\u001b[0m\u001b[0mself\u001b[0m\u001b[0;34m,\u001b[0m \u001b[0;34mf\"set_{k}\"\u001b[0m\u001b[0;34m,\u001b[0m \u001b[0;32mNone\u001b[0m\u001b[0;34m)\u001b[0m\u001b[0;34m\u001b[0m\u001b[0;34m\u001b[0m\u001b[0m\n\u001b[1;32m    995\u001b[0m                     \u001b[0;32mif\u001b[0m \u001b[0;32mnot\u001b[0m \u001b[0mcallable\u001b[0m\u001b[0;34m(\u001b[0m\u001b[0mfunc\u001b[0m\u001b[0;34m)\u001b[0m\u001b[0;34m:\u001b[0m\u001b[0;34m\u001b[0m\u001b[0;34m\u001b[0m\u001b[0m\n\u001b[0;32m--> 996\u001b[0;31m                         raise AttributeError(f\"{type(self).__name__!r} object \"\n\u001b[0m\u001b[1;32m    997\u001b[0m                                              f\"has no property {k!r}\")\n\u001b[1;32m    998\u001b[0m                     \u001b[0mret\u001b[0m\u001b[0;34m.\u001b[0m\u001b[0mappend\u001b[0m\u001b[0;34m(\u001b[0m\u001b[0mfunc\u001b[0m\u001b[0;34m(\u001b[0m\u001b[0mv\u001b[0m\u001b[0;34m)\u001b[0m\u001b[0;34m)\u001b[0m\u001b[0;34m\u001b[0m\u001b[0;34m\u001b[0m\u001b[0m\n",
      "\u001b[0;31mAttributeError\u001b[0m: 'Rectangle' object has no property 'normed'"
     ]
    },
    {
     "data": {
      "image/png": "[encoded data removed]",
      "text/plain": [
       "<Figure size 576x360 with 1 Axes>"
      ]
     },
     "metadata": {
      "needs_background": "light"
     },
     "output_type": "display_data"
    }
   ],
   "source": [
    "ps_model, pscores = calc_propensity_score_sklearn(data_before_matching, \n",
    "                                                  ps_cols=data_before_matching.drop('ACS sample', axis=1).columns, \n",
    "                                                  TX_col='ACS sample', model=LogisticRegression(), CV=False)\n",
    "data_before_matching_and_propensity = data_before_matching.copy()\n",
    "data_before_matching_and_propensity['propensity'] = pscores\n",
    "\n",
    "plot_pscores(data_before_matching_and_propensity, TX_col='ACS sample', pscore_col='propensity', \n",
    "             TX_values=[0,1], TX_labels=['Healthy', 'ACS'],\n",
    "             hist=True, normed=False, bin_resolution=0.1)"
   ]
  },
  {
   "cell_type": "code",
   "execution_count": 13,
   "metadata": {
    "ExecuteTime": {
     "end_time": "2020-12-15T10:13:43.027601Z",
     "start_time": "2020-12-15T10:13:41.074590Z"
    }
   },
   "outputs": [
    {
     "name": "stderr",
     "output_type": "stream",
     "text": [
      "/usr/wisdom/python-3.7.4/lib/python3.7/site-packages/ipykernel_launcher.py:5: TqdmDeprecationWarning: This function will be removed in tqdm==5.0.0\n",
      "Please use `tqdm.notebook.tqdm` instead of `tqdm.tqdm_notebook`\n",
      "  \"\"\"\n"
     ]
    },
    {
     "data": {
      "application/vnd.jupyter.widget-view+json": {
       "model_id": "2f44bdf0527442509cf76cdca8e61454",
       "version_major": 2,
       "version_minor": 0
      },
      "text/plain": [
       "HBox(children=(FloatProgress(value=0.0, max=3.0), HTML(value='')))"
      ]
     },
     "metadata": {},
     "output_type": "display_data"
    },
    {
     "name": "stdout",
     "output_type": "stream",
     "text": [
      "1 (83, 8) (83, 8)\n",
      "2 (58, 8) (111, 8)\n",
      "3 (46, 8) (133, 8)\n",
      "\n"
     ]
    },
    {
     "data": {
      "text/html": [
       "<div>\n",
       "<style scoped>\n",
       "    .dataframe tbody tr th:only-of-type {\n",
       "        vertical-align: middle;\n",
       "    }\n",
       "\n",
       "    .dataframe tbody tr th {\n",
       "        vertical-align: top;\n",
       "    }\n",
       "\n",
       "    .dataframe thead th {\n",
       "        text-align: right;\n",
       "    }\n",
       "</style>\n",
       "<table border=\"1\" class=\"dataframe\">\n",
       "  <thead>\n",
       "    <tr style=\"text-align: right;\">\n",
       "      <th></th>\n",
       "      <th>Number of ACS</th>\n",
       "      <th>Number of Healthy</th>\n",
       "    </tr>\n",
       "  </thead>\n",
       "  <tbody>\n",
       "    <tr>\n",
       "      <th>1</th>\n",
       "      <td>83</td>\n",
       "      <td>83</td>\n",
       "    </tr>\n",
       "    <tr>\n",
       "      <th>2</th>\n",
       "      <td>58</td>\n",
       "      <td>111</td>\n",
       "    </tr>\n",
       "    <tr>\n",
       "      <th>3</th>\n",
       "      <td>46</td>\n",
       "      <td>133</td>\n",
       "    </tr>\n",
       "  </tbody>\n",
       "</table>\n",
       "</div>"
      ],
      "text/plain": [
       "  Number of ACS Number of Healthy\n",
       "1            83                83\n",
       "2            58               111\n",
       "3            46               133"
      ]
     },
     "execution_count": 13,
     "metadata": {},
     "output_type": "execute_result"
    }
   ],
   "source": [
    "n_matches_max = 3\n",
    "\n",
    "matching_n_df = pd.DataFrame(index=range(1, n_matches_max+1), columns=['Number of ACS', 'Number of Healthy'])\n",
    "matched_dic = {}\n",
    "for n_matches in tqdm_notebook(range(1, n_matches_max+1)):\n",
    "    matched_dic[n_matches] = {}\n",
    "    X_matched = find_propensity_score_matches(data_before_matching_and_propensity, TX_col='ACS sample', pscore_col='propensity',\n",
    "                                              TX_values=[0,1], caliper=0.4, distance='linear', n_matches=n_matches, random_seed=2)\n",
    "    matched_cases = X_matched[(X_matched['ACS sample'] == 1) & (X_matched['matched_control_idx'])]\n",
    "    matched_control = X_matched[(X_matched['ACS sample'] == 0) & (X_matched['matched_control_idx'])]\n",
    "    matched_dic[n_matches]['X_matched'] = X_matched\n",
    "    matched_dic[n_matches]['matched_cases'] = matched_cases\n",
    "    matched_dic[n_matches]['matched_control'] = matched_control\n",
    "    print (n_matches, matched_cases.shape, matched_control.shape)\n",
    "    matching_n_df.loc[n_matches, :] = [matched_cases.shape[0], matched_control.shape[0]]\n",
    "matching_n_df"
   ]
  },
  {
   "cell_type": "code",
   "execution_count": 15,
   "metadata": {
    "ExecuteTime": {
     "end_time": "2020-12-15T10:14:39.452774Z",
     "start_time": "2020-12-15T10:14:36.441180Z"
    },
    "scrolled": true
   },
   "outputs": [
    {
     "name": "stdout",
     "output_type": "stream",
     "text": [
      "gender\n"
     ]
    },
    {
     "data": {
      "image/png": "[encoded data removed]",
      "text/plain": [
       "<Figure size 432x288 with 1 Axes>"
      ]
     },
     "metadata": {
      "needs_background": "light"
     },
     "output_type": "display_data"
    },
    {
     "data": {
      "image/png": "[encoded data removed]",
      "text/plain": [
       "<Figure size 432x288 with 1 Axes>"
      ]
     },
     "metadata": {
      "needs_background": "light"
     },
     "output_type": "display_data"
    },
    {
     "name": "stdout",
     "output_type": "stream",
     "text": [
      "(83, 8) (83, 8)\n",
      "1.2324358893048337\n",
      "0.0\n",
      "MannwhitneyuResult(statistic=3444.5, pvalue=0.4990783900919022)\n",
      "Age\n"
     ]
    },
    {
     "data": {
      "image/png": "[encoded data removed]",
      "text/plain": [
       "<Figure size 432x288 with 1 Axes>"
      ]
     },
     "metadata": {
      "needs_background": "light"
     },
     "output_type": "display_data"
    },
    {
     "data": {
      "image/png": "[encoded data removed]",
      "text/plain": [
       "<Figure size 432x288 with 1 Axes>"
      ]
     },
     "metadata": {
      "needs_background": "light"
     },
     "output_type": "display_data"
    },
    {
     "name": "stdout",
     "output_type": "stream",
     "text": [
      "(83, 8) (83, 8)\n",
      "4.875318158056946\n",
      "0.13399771134445587\n",
      "MannwhitneyuResult(statistic=3334.0, pvalue=0.36119702998485237)\n",
      "bmi\n"
     ]
    },
    {
     "data": {
      "image/png": "[encoded data removed]",
      "text/plain": [
       "<Figure size 432x288 with 1 Axes>"
      ]
     },
     "metadata": {
      "needs_background": "light"
     },
     "output_type": "display_data"
    },
    {
     "data": {
      "image/png": "[encoded data removed]",
      "text/plain": [
       "<Figure size 432x288 with 1 Axes>"
      ]
     },
     "metadata": {
      "needs_background": "light"
     },
     "output_type": "display_data"
    },
    {
     "name": "stdout",
     "output_type": "stream",
     "text": [
      "(83, 8) (83, 8)\n",
      "0.5745031404680303\n",
      "0.1716223630857561\n",
      "MannwhitneyuResult(statistic=3228.0, pvalue=0.24270674609970444)\n",
      "DM\n"
     ]
    },
    {
     "data": {
      "image/png": "[encoded data removed]",
      "text/plain": [
       "<Figure size 432x288 with 1 Axes>"
      ]
     },
     "metadata": {
      "needs_background": "light"
     },
     "output_type": "display_data"
    },
    {
     "data": {
      "image/png": "[encoded data removed]",
      "text/plain": [
       "<Figure size 432x288 with 1 Axes>"
      ]
     },
     "metadata": {
      "needs_background": "light"
     },
     "output_type": "display_data"
    },
    {
     "name": "stdout",
     "output_type": "stream",
     "text": [
      "(83, 8) (83, 8)\n",
      "0.7826076589245038\n",
      "0.06438227799796503\n",
      "MannwhitneyuResult(statistic=3361.5, pvalue=0.3406100023243921)\n",
      "smoke_tobacco_now\n"
     ]
    },
    {
     "data": {
      "image/png": "[encoded data removed]",
      "text/plain": [
       "<Figure size 432x288 with 1 Axes>"
      ]
     },
     "metadata": {
      "needs_background": "light"
     },
     "output_type": "display_data"
    },
    {
     "data": {
      "image/png": "[encoded data removed]",
      "text/plain": [
       "<Figure size 432x288 with 1 Axes>"
      ]
     },
     "metadata": {
      "needs_background": "light"
     },
     "output_type": "display_data"
    },
    {
     "name": "stdout",
     "output_type": "stream",
     "text": [
      "(83, 8) (83, 8)\n",
      "0.5220636508386026\n",
      "0.18870163911673174\n",
      "MannwhitneyuResult(statistic=3195.5, pvalue=0.11426066234302079)\n"
     ]
    }
   ],
   "source": [
    "i=1\n",
    "matched_control, matched_cases = matched_dic[i]['matched_control'], matched_dic[i]['matched_cases']\n",
    "\n",
    "for c in cols_to_match_on:\n",
    "    print (c)\n",
    "    plt.hist([temp_pnp[c].astype(float), temp_acs[c].astype(float)], bins=20)#, normed=True)\n",
    "    plt.show()\n",
    "    plt.hist([matched_control[c].astype(float), matched_cases[c].astype(float)], bins=20)#, normed=True)\n",
    "    plt.show()\n",
    "    print (matched_control.shape, matched_cases.shape)\n",
    "    if cols_to_match_on[c] == 'binary':\n",
    "        print (dichotomous_standadized_difference(temp_pnp[c].astype(int), temp_acs[c].astype(int)))\n",
    "        print (dichotomous_standadized_difference(matched_control[c].astype(int), matched_cases[c].astype(int)))\n",
    "    elif cols_to_match_on[c] == 'cont':\n",
    "        print (continuous_standadized_difference(temp_pnp[c], temp_acs[c]))\n",
    "        print (continuous_standadized_difference(matched_control[c], matched_cases[c]))\n",
    "    print (mannwhitneyu(matched_control[c], matched_cases[c]))"
   ]
  },
  {
   "cell_type": "code",
   "execution_count": 16,
   "metadata": {
    "ExecuteTime": {
     "end_time": "2020-12-15T10:15:06.344523Z",
     "start_time": "2020-12-15T10:15:05.392109Z"
    }
   },
   "outputs": [
    {
     "data": {
      "text/plain": [
       "<AxesSubplot:xlabel='Standardized differences'>"
      ]
     },
     "execution_count": 16,
     "metadata": {},
     "output_type": "execute_result"
    },
    {
     "data": {
      "image/png": "[encoded data removed]",
      "text/plain": [
       "<Figure size 504x288 with 1 Axes>"
      ]
     },
     "metadata": {
      "needs_background": "light"
     },
     "output_type": "display_data"
    }
   ],
   "source": [
    "smd_df = pd.DataFrame(index=cols_to_match_on, columns=['matched samples', 'unmatched samples'])\n",
    "for c in cols_to_match_on:\n",
    "    if cols_to_match_on[c] == 'binary':\n",
    "        smd_df.loc[c, 'unmatched samples'] = dichotomous_standadized_difference(temp_pnp[c], temp_acs[c])\n",
    "        smd_df.loc[c, 'matched samples'] = dichotomous_standadized_difference(matched_control[c], matched_cases[c])\n",
    "    elif cols_to_match_on[c] == 'cont':\n",
    "        smd_df.loc[c, 'unmatched samples'] = continuous_standadized_difference(temp_pnp[c], temp_acs[c])\n",
    "        smd_df.loc[c, 'matched samples'] = continuous_standadized_difference(matched_control[c], matched_cases[c])\n",
    "    \n",
    "plot_SMD_before_after_matching(smd_df, figsize=(7,4)) # ['BMI', 'Sex', 'Age']\n",
    "# plt.savefig(os.path.join(d2_acs_matching_dir, 'D2_RegistrationCode.png'), dpi=200)"
   ]
  },
  {
   "cell_type": "code",
   "execution_count": 20,
   "metadata": {
    "ExecuteTime": {
     "end_time": "2020-12-15T10:16:59.604681Z",
     "start_time": "2020-12-15T10:16:59.477193Z"
    }
   },
   "outputs": [],
   "source": [
    "smd_df.to_csv(os.path.join(pnp_acs_matching_dir, 'PNP1-ACS_metabolon_age+sex+bmi+DM+smoking_1:1_SMD.csv'))"
   ]
  },
  {
   "cell_type": "code",
   "execution_count": 268,
   "metadata": {
    "ExecuteTime": {
     "end_time": "2020-10-04T08:33:18.278765Z",
     "start_time": "2020-10-04T08:33:17.783962Z"
    }
   },
   "outputs": [],
   "source": [
    "pd.concat((matched_dic[1]['matched_control'], matched_dic[1]['matched_cases']), axis=0, sort=False).to_csv(os.path.join(pnp_acs_matching_dir, 'PNP1-ACS_metabolon_age+sex+bmi+DM+smoking_1:1.csv'))"
   ]
  }
 ],
 "metadata": {
  "kernelspec": {
   "display_name": "Python 3",
   "language": "python",
   "name": "python3"
  },
  "language_info": {
   "codemirror_mode": {
    "name": "ipython",
    "version": 3
   },
   "file_extension": ".py",
   "mimetype": "text/x-python",
   "name": "python",
   "nbconvert_exporter": "python",
   "pygments_lexer": "ipython3",
   "version": "3.7.4"
  },
  "toc": {
   "nav_menu": {},
   "number_sections": true,
   "sideBar": true,
   "skip_h1_title": false,
   "toc_cell": false,
   "toc_position": {
    "height": "663.95px",
    "left": "0px",
    "right": "1388px",
    "top": "111.05px",
    "width": "212px"
   },
   "toc_section_display": "block",
   "toc_window_display": true
  }
 },
 "nbformat": 4,
 "nbformat_minor": 2
}
