{
 "cells": [
  {
   "cell_type": "code",
   "execution_count": null,
   "metadata": {},
   "outputs": [],
   "source": []
  },
  {
   "cell_type": "code",
   "execution_count": 1,
   "metadata": {
    "ExecuteTime": {
     "end_time": "2021-05-20T16:43:02.288631Z",
     "start_time": "2021-05-20T16:42:55.038810Z"
    }
   },
   "outputs": [],
   "source": [
    "%load_ext autoreload\n",
    "%autoreload 2\n",
    "%matplotlib inline\n",
    "\n",
    "from MetabolomicsPaper.GeneralHelperFunctions import *\n",
    "\n",
    "paper_dir = '/net/mraid08/export/jafar/Microbiome/Analyses/Noamba/Cardio/ACS_study/v2/'\n",
    "curr_dir = os.path.join(paper_dir, 'EGA')\n",
    "make_dir_if_not_exists(curr_dir)\n",
    "os.chdir(paper_dir)"
   ]
  },
  {
   "cell_type": "code",
   "execution_count": 34,
   "metadata": {
    "ExecuteTime": {
     "end_time": "2021-05-20T17:10:46.330397Z",
     "start_time": "2021-05-20T17:10:44.289487Z"
    }
   },
   "outputs": [
    {
     "name": "stderr",
     "output_type": "stream",
     "text": [
      "/usr/wisdom/python-3.7.4/lib/python3.7/site-packages/IPython/core/interactiveshell.py:3147: DtypeWarning: Columns (43) have mixed types.Specify dtype option on import or set low_memory=False.\n",
      "  interactivity=interactivity, compiler=compiler, result=result)\n"
     ]
    }
   ],
   "source": [
    "acs_full_data = pd.read_csv(os.path.join('data', 'ACS_full_data.csv'), index_col=0)\n",
    "# total number of non-ACS\n",
    "pnp1_full_data = pd.read_csv(os.path.join('data', 'pnp1_full_data.csv'), index_col=1)"
   ]
  },
  {
   "cell_type": "markdown",
   "metadata": {},
   "source": [
    "# metabolon"
   ]
  },
  {
   "cell_type": "code",
   "execution_count": 2,
   "metadata": {
    "ExecuteTime": {
     "end_time": "2021-05-20T16:43:21.810249Z",
     "start_time": "2021-05-20T16:43:21.656302Z"
    }
   },
   "outputs": [],
   "source": [
    "from LabData.DataLoaders.MetabolonLoader import MetabolonLoader"
   ]
  },
  {
   "cell_type": "code",
   "execution_count": 3,
   "metadata": {
    "ExecuteTime": {
     "end_time": "2021-05-20T16:43:57.049468Z",
     "start_time": "2021-05-20T16:43:56.535210Z"
    }
   },
   "outputs": [],
   "source": [
    "ms_data = MetabolonLoader().get_data(metabolon_runs=['Metabolon_MAY2018'])"
   ]
  },
  {
   "cell_type": "code",
   "execution_count": 30,
   "metadata": {
    "ExecuteTime": {
     "end_time": "2021-05-20T16:58:34.707571Z",
     "start_time": "2021-05-20T16:58:33.715746Z"
    }
   },
   "outputs": [],
   "source": [
    "acs_pnp1_anchor = ms_data.df_metadata[ms_data.df_metadata.StudyTypeID != 5].index\n",
    "ms_data.df_metadata.RegistrationCode.fillna(ms_data.df_metadata.CLIENT_IDENTIFIER, inplace=True)\n",
    "df = ms_data.df.loc[acs_pnp1_anchor].dropna(how='all', axis=1).copy()\n",
    "df.index = ms_data.df_metadata.loc[acs_pnp1_anchor, 'RegistrationCode'].values\n",
    "df.index.names = ['RegistrationCode']\n",
    "df_metadata = ms_data.df_metadata.loc[acs_pnp1_anchor].set_index('RegistrationCode').copy()\n",
    "df_metadata.drop(['BARCODE', 'CLIENT_IDENTIFIER', 'COMMENT', 'SAMPLE_ID', 'SAMPLE_NAME', 'metabolon_run'], axis=1, inplace=True)\n",
    "df_metadata.replace({'StudyTypeID':{8: 'ACS', 1:'non-ACS'}}, inplace=True) \n",
    "metabolites = ms_data.metabolites.loc[df.columns].drop(['metabolon_run', 'metabolon_run_id'], axis=1)\n",
    "\n",
    "df.to_csv(os.path.join(curr_dir, 'metabolon_data_may18.csv'))\n",
    "df_metadata.to_csv(os.path.join(curr_dir, 'metabolon_metadata_may18.csv'))\n",
    "metabolites.to_csv(os.path.join(curr_dir, 'metabolon_metabolites_may18.csv'))"
   ]
  },
  {
   "cell_type": "markdown",
   "metadata": {},
   "source": [
    "# nightingale"
   ]
  },
  {
   "cell_type": "code",
   "execution_count": 31,
   "metadata": {
    "ExecuteTime": {
     "end_time": "2021-05-20T17:09:52.462521Z",
     "start_time": "2021-05-20T17:09:51.402979Z"
    }
   },
   "outputs": [],
   "source": [
    "from LabData.DataLoaders.NightingaleLoader import NightingaleLoader\n",
    "\n",
    "ntg = NightingaleLoader().get_data()"
   ]
  },
  {
   "cell_type": "code",
   "execution_count": 42,
   "metadata": {
    "ExecuteTime": {
     "end_time": "2021-05-20T17:13:55.906542Z",
     "start_time": "2021-05-20T17:13:54.722318Z"
    }
   },
   "outputs": [],
   "source": [
    "pd.concat((pnp1_full_data, acs_full_data), axis=0).loc[:, ntg.metabolites.index].dropna(how='all', axis=0).to_csv(os.path.join(curr_dir, 'nightingale_data.csv'))\n",
    "ntg.metabolites.drop(['nightingale_run', 'nightingale_run_id'], axis=1).to_csv(os.path.join(curr_dir, 'nightingale_metabolites.csv'))"
   ]
  },
  {
   "cell_type": "markdown",
   "metadata": {},
   "source": [
    "# ACS clinical data"
   ]
  },
  {
   "cell_type": "code",
   "execution_count": 58,
   "metadata": {
    "ExecuteTime": {
     "end_time": "2021-05-20T17:27:11.023012Z",
     "start_time": "2021-05-20T17:27:10.855620Z"
    }
   },
   "outputs": [],
   "source": [
    "medical_db_path = '../data/ACS_Medical_database_17.04.2020_legend.csv'\n",
    "acs_data_legend = pd.read_csv(medical_db_path, index_col=0).drop(['ID', 'Timestamp', 'Date of Birth'], axis=1).dropna(how='all', axis=0).dropna(how='all', axis=1)\n",
    "acs_data_legend.to_csv(os.path.join(curr_dir, 'acs_data_legend.csv'))\n",
    "acs_full_data.iloc[:, :237].drop(['ID', 'Timestamp', 'Date of Birth'], axis=1).dropna(how='all', axis=0).to_csv(os.path.join(curr_dir, 'acs_data_for_EGA.csv'))"
   ]
  },
  {
   "cell_type": "markdown",
   "metadata": {},
   "source": [
    "# Healthy clinical data"
   ]
  },
  {
   "cell_type": "code",
   "execution_count": 68,
   "metadata": {
    "ExecuteTime": {
     "end_time": "2021-05-23T06:46:54.480403Z",
     "start_time": "2021-05-23T06:46:53.839918Z"
    }
   },
   "outputs": [],
   "source": [
    "diagnosis_by_drugs = pd.read_excel(os.path.join('../data', 'pnp_drugs-diagnosis.xls'), 'Diagnosis')"
   ]
  },
  {
   "cell_type": "code",
   "execution_count": 69,
   "metadata": {
    "ExecuteTime": {
     "end_time": "2021-05-23T06:47:04.875679Z",
     "start_time": "2021-05-23T06:47:04.723719Z"
    }
   },
   "outputs": [],
   "source": [
    "pnp1_full_data.loc[:, 'treatment for DM'] = pnp1_full_data.reindex(diagnosis_by_drugs['DM'].dropna(), axis=1).any(1)\n",
    "pnp1_full_data.loc[:, 'treatment for Hypertension'] = pnp1_full_data.reindex(diagnosis_by_drugs['Hypertension'].dropna(), axis=1).any(1)\n",
    "pnp1_full_data.loc[:, 'treatment for Dyslipidemia'] = pnp1_full_data.reindex(diagnosis_by_drugs['Dyslipidemia'].dropna(), axis=1).any(1)"
   ]
  },
  {
   "cell_type": "code",
   "execution_count": 76,
   "metadata": {
    "ExecuteTime": {
     "end_time": "2021-05-23T06:49:38.853940Z",
     "start_time": "2021-05-23T06:49:38.680827Z"
    }
   },
   "outputs": [],
   "source": [
    "cols = ['Age', 'gender', 'bmi', 'smoke_tobacco_now', 'DM', 'pre-diabetes', 'Dyslipidemia', 'Hypertension', 'bt__hba1c', 'LDL_nightingale_friedewald', \n",
    "        'treatment for DM', 'treatment for Hypertension', 'treatment for Dyslipidemia', 'FD']\n",
    "pnp1_full_data[cols].to_csv(os.path.join(curr_dir, 'pnp1_clinical_data.csv'))"
   ]
  },
  {
   "cell_type": "code",
   "execution_count": null,
   "metadata": {},
   "outputs": [],
   "source": []
  }
 ],
 "metadata": {
  "kernelspec": {
   "display_name": "Python 3",
   "language": "python",
   "name": "python3"
  },
  "language_info": {
   "codemirror_mode": {
    "name": "ipython",
    "version": 3
   },
   "file_extension": ".py",
   "mimetype": "text/x-python",
   "name": "python",
   "nbconvert_exporter": "python",
   "pygments_lexer": "ipython3",
   "version": "3.7.4"
  },
  "toc": {
   "nav_menu": {},
   "number_sections": true,
   "sideBar": true,
   "skip_h1_title": false,
   "toc_cell": false,
   "toc_position": {},
   "toc_section_display": "block",
   "toc_window_display": true
  }
 },
 "nbformat": 4,
 "nbformat_minor": 4
}
