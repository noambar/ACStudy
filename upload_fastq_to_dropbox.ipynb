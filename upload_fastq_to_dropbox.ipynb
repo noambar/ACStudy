{
 "cells": [
  {
   "cell_type": "code",
   "execution_count": 1,
   "metadata": {
    "ExecuteTime": {
     "end_time": "2021-05-13T19:41:56.985132Z",
     "start_time": "2021-05-13T19:41:48.723414Z"
    }
   },
   "outputs": [],
   "source": [
    "%load_ext autoreload\n",
    "%autoreload 2\n",
    "%matplotlib inline\n",
    "\n",
    "from MetabolomicsPaper.GeneralHelperFunctions import *\n",
    "from ACSPaper.ACSPaperUtils import *\n",
    "from sklearn.metrics import roc_curve, auc\n",
    "import shap\n",
    "from sklearn.model_selection import train_test_split\n",
    "\n",
    "paper_dir = '/net/mraid08/export/jafar/Microbiome/Analyses/Noamba/Cardio/ACS_study/v2/'\n",
    "curr_dir = os.path.join(paper_dir, 'fastqs_to_dropbox')\n",
    "make_dir_if_not_exists(curr_dir)\n",
    "os.chdir(paper_dir)"
   ]
  },
  {
   "cell_type": "code",
   "execution_count": 2,
   "metadata": {
    "ExecuteTime": {
     "end_time": "2021-05-13T19:42:13.681842Z",
     "start_time": "2021-05-13T19:42:13.478910Z"
    }
   },
   "outputs": [],
   "source": [
    "acs_mb_full_phyla = pd.read_csv(os.path.join('../TaxaComposition', 'acs_mb_full_phyla.csv'), index_col=0)\n",
    "pnp_mb_full_phyla = pd.read_csv(os.path.join('../TaxaComposition', 'pnp_mb_full_phyla.csv'), index_col=0)"
   ]
  },
  {
   "cell_type": "code",
   "execution_count": 5,
   "metadata": {
    "ExecuteTime": {
     "end_time": "2021-05-13T19:46:45.653547Z",
     "start_time": "2021-05-13T19:46:41.945879Z"
    }
   },
   "outputs": [
    {
     "name": "stderr",
     "output_type": "stream",
     "text": [
      "Columns (43) have mixed types.Specify dtype option on import or set low_memory=False.\n"
     ]
    }
   ],
   "source": [
    "# total number of ACS\n",
    "acs_full_data = pd.read_csv(os.path.join('data', 'ACS_full_data.csv'), index_col=0)\n",
    "# total number of non-ACS\n",
    "pnp1_full_data = pd.read_csv(os.path.join('data', 'pnp1_full_data.csv'), index_col=1)"
   ]
  },
  {
   "cell_type": "code",
   "execution_count": 8,
   "metadata": {
    "ExecuteTime": {
     "end_time": "2021-05-13T19:47:21.271873Z",
     "start_time": "2021-05-13T19:47:21.194834Z"
    }
   },
   "outputs": [],
   "source": [
    "pnp_mb = pnp1_full_data[(pnp1_full_data.Nextera=='True') & (pnp1_full_data.IsGenotek == 0)].dropna(subset=[pnp1_full_data.filter(regex='k__').columns[0]])\n",
    "acs_mb = acs_full_data.dropna(subset=[acs_full_data.filter(regex='k__').columns[0]])"
   ]
  },
  {
   "cell_type": "code",
   "execution_count": 14,
   "metadata": {
    "ExecuteTime": {
     "end_time": "2021-05-13T19:52:02.611705Z",
     "start_time": "2021-05-13T19:52:02.566260Z"
    }
   },
   "outputs": [
    {
     "data": {
      "text/plain": [
       "RegistrationCode\n",
       "3705508    FD2423\n",
       "3401349    FD2424\n",
       "3697558    FD2425\n",
       "3485604    FD2427\n",
       "3434612    FD2428\n",
       "            ...  \n",
       "3103104    FD3820\n",
       "3139022    FD3821\n",
       "3889402    FD3822\n",
       "3025867    FD3823\n",
       "3713651    FD3824\n",
       "Name: FD, Length: 199, dtype: object"
      ]
     },
     "execution_count": 14,
     "metadata": {},
     "output_type": "execute_result"
    }
   ],
   "source": [
    "pnp_mb['FD'].sort_values()\n",
    "acs_mb['FD'].sort_values()"
   ]
  },
  {
   "cell_type": "code",
   "execution_count": 27,
   "metadata": {
    "ExecuteTime": {
     "end_time": "2021-05-13T20:01:29.688558Z",
     "start_time": "2021-05-13T20:01:29.401177Z"
    }
   },
   "outputs": [],
   "source": [
    "novaseq = '/net/mraid08/export/genie/LabData/Data/MBPipeline/NovaSeq/tmp2/UNT/' \n",
    "hanson = '/net/mraid08/export/genie/LabData/Data/MBPipeline/Hanson/tmp2/UNT/'\n",
    "pnp_files = []\n",
    "acs_files = []\n",
    "\n",
    "d = novaseq\n",
    "files = [f for f in os.listdir(d) if 'FD' in f]\n",
    "# pnp_files += [os.path.join(d, f) for f in files if 'FD' + f.split('FD')[1].split('_')[0] in pnp_mb['FD']]\n",
    "acs_files += [os.path.join(d, f) for f in files if ('FD' + f.split('FD')[1].split('.fastq')[0].split('_')[0]) in acs_mb['FD'].values]\n",
    "\n",
    "d = hanson\n",
    "files = [f for f in os.listdir(d) if 'FD' in f]\n",
    "pnp_files += [os.path.join(d, f) for f in files if ('FD' + f.split('FD')[1].split('.fastq')[0]) in pnp_mb['FD'].values]\n",
    "acs_files += [os.path.join(d, f) for f in files if ('FD' + f.split('FD')[1].split('.fastq')[0]) in acs_mb['FD'].values]\n",
    "# os.listdir()\n",
    "# "
   ]
  },
  {
   "cell_type": "code",
   "execution_count": 39,
   "metadata": {
    "ExecuteTime": {
     "end_time": "2021-05-20T06:46:39.437246Z",
     "start_time": "2021-05-20T06:46:39.239090Z"
    }
   },
   "outputs": [
    {
     "name": "stderr",
     "output_type": "stream",
     "text": [
      "\n",
      "A value is trying to be set on a copy of a slice from a DataFrame.\n",
      "Try using .loc[row_indexer,col_indexer] = value instead\n",
      "\n",
      "See the caveats in the documentation: https://pandas.pydata.org/pandas-docs/stable/user_guide/indexing.html#returning-a-view-versus-a-copy\n"
     ]
    }
   ],
   "source": [
    "pnp_mb['ACS sample'] = False\n",
    "acs_mb['ACS sample'] = True\n",
    "pd.concat((pnp_mb[['FD', 'ACS sample']], acs_mb[['FD', 'ACS sample']]), axis=0).to_csv(os.path.join(paper_dir, 'data', 'RegID-FD.csv'))\n"
   ]
  },
  {
   "cell_type": "code",
   "execution_count": 33,
   "metadata": {
    "ExecuteTime": {
     "end_time": "2021-05-13T22:26:41.345081Z",
     "start_time": "2021-05-13T20:04:26.346262Z"
    }
   },
   "outputs": [
    {
     "name": "stderr",
     "output_type": "stream",
     "text": [
      "This function will be removed in tqdm==5.0.0\n",
      "Please use `tqdm.notebook.tqdm` instead of `tqdm.tqdm_notebook`\n"
     ]
    },
    {
     "data": {
      "application/vnd.jupyter.widget-view+json": {
       "model_id": "9fef5bfe360b4d6ba66a043d4e92f101",
       "version_major": 2,
       "version_minor": 0
      },
      "text/plain": [
       "HBox(children=(FloatProgress(value=0.0, max=540.0), HTML(value='')))"
      ]
     },
     "metadata": {},
     "output_type": "display_data"
    },
    {
     "name": "stdout",
     "output_type": "stream",
     "text": [
      "\n"
     ]
    }
   ],
   "source": [
    "import shutil\n",
    "for f in tqdm_notebook(pnp_files+acs_files):\n",
    "    shutil.copyfile(f, os.path.join(curr_dir, os.path.basename(f)))"
   ]
  },
  {
   "cell_type": "code",
   "execution_count": 40,
   "metadata": {
    "ExecuteTime": {
     "end_time": "2021-05-20T18:53:36.193266Z",
     "start_time": "2021-05-20T18:16:22.305139Z"
    }
   },
   "outputs": [
    {
     "name": "stderr",
     "output_type": "stream",
     "text": [
      "This function will be removed in tqdm==5.0.0\n",
      "Please use `tqdm.notebook.tqdm` instead of `tqdm.tqdm_notebook`\n"
     ]
    },
    {
     "data": {
      "application/vnd.jupyter.widget-view+json": {
       "model_id": "7223290e914c43b49d7581ff9f272aad",
       "version_major": 2,
       "version_minor": 0
      },
      "text/plain": [
       "HBox(children=(FloatProgress(value=0.0, max=199.0), HTML(value='')))"
      ]
     },
     "metadata": {},
     "output_type": "display_data"
    },
    {
     "name": "stdout",
     "output_type": "stream",
     "text": [
      "\n"
     ]
    }
   ],
   "source": [
    "import shutil\n",
    "for f in tqdm_notebook(acs_files):\n",
    "    shutil.copyfile(f, os.path.join(curr_dir, os.path.basename(f)))"
   ]
  },
  {
   "cell_type": "code",
   "execution_count": 32,
   "metadata": {
    "ExecuteTime": {
     "end_time": "2021-05-13T20:04:15.915331Z",
     "start_time": "2021-05-13T20:04:15.218407Z"
    }
   },
   "outputs": [
    {
     "data": {
      "text/plain": [
       "'210867_FD1694.fastq.gz'"
      ]
     },
     "execution_count": 32,
     "metadata": {},
     "output_type": "execute_result"
    }
   ],
   "source": [
    "os.path.basename(pnp_files[0])"
   ]
  },
  {
   "cell_type": "code",
   "execution_count": 30,
   "metadata": {
    "ExecuteTime": {
     "end_time": "2021-05-13T20:01:43.188425Z",
     "start_time": "2021-05-13T20:01:43.139944Z"
    }
   },
   "outputs": [
    {
     "data": {
      "text/html": [
       "['/net/mraid08/export/genie/LabData/Data/MBPipeline/Hanson/tmp2/UNT/210867_FD1694.fastq.gz', '/net/mraid08/export/genie/LabData/Data/MBPipeline/Hanson/tmp2/UNT/921543_FD2233.fastq.gz', '/net/mraid08/export/genie/LabData/Data/MBPipeline/Hanson/tmp2/UNT/774511_FD2235.fastq.gz', '/net/mraid08/export/genie/LabData/Data/MBPipeline/Hanson/tmp2/UNT/507873_FD2181.fastq.gz', '/net/mraid08/export/genie/LabData/Data/MBPipeline/Hanson/tmp2/UNT/128161_FD2160.fastq.gz', '/net/mraid08/export/genie/LabData/Data/MBPipeline/Hanson/tmp2/UNT/876581_FD1766.fastq.gz', '/net/mraid08/export/genie/LabData/Data/MBPipeline/Hanson/tmp2/UNT/994875_FD2225.fastq.gz', '/net/mraid08/export/genie/LabData/Data/MBPipeline/Hanson/tmp2/UNT/913400_FD2128.fastq.gz', '/net/mraid08/export/genie/LabData/Data/MBPipeline/Hanson/tmp2/UNT/113719_FD1689.fastq.gz', '/net/mraid08/export/genie/LabData/Data/MBPipeline/Hanson/tmp2/UNT/44114_FD2112.fastq.gz', '/net/mraid08/export/genie/LabData/Data/MBPipeline/Hanson/tmp2/UNT/392420_FD2120.fastq.gz', '/net/mraid08/export/genie/LabData/Data/MBPipeline/Hanson/tmp2/UNT/853351_FD2053.fastq.gz', '/net/mraid08/export/genie/LabData/Data/MBPipeline/Hanson/tmp2/UNT/740046_FD1702.fastq.gz', '/net/mraid08/export/genie/LabData/Data/MBPipeline/Hanson/tmp2/UNT/120636_FD2083.fastq.gz', '/net/mraid08/export/genie/LabData/Data/MBPipeline/Hanson/tmp2/UNT/696383_FD2020.fastq.gz', '/net/mraid08/export/genie/LabData/Data/MBPipeline/Hanson/tmp2/UNT/720396_FD1980.fastq.gz', '/net/mraid08/export/genie/LabData/Data/MBPipeline/Hanson/tmp2/UNT/403931_FD2016.fastq.gz', '/net/mraid08/export/genie/LabData/Data/MBPipeline/Hanson/tmp2/UNT/200924_FD2270.fastq.gz', '/net/mraid08/export/genie/LabData/Data/MBPipeline/Hanson/tmp2/UNT/121123_FD2022.fastq.gz', '/net/mraid08/export/genie/LabData/Data/MBPipeline/Hanson/tmp2/UNT/465440_FD1995.fastq.gz', '/net/mraid08/export/genie/LabData/Data/MBPipeline/Hanson/tmp2/UNT/315302_FD1690.fastq.gz', '/net/mraid08/export/genie/LabData/Data/MBPipeline/Hanson/tmp2/UNT/465856_FD1707.fastq.gz', '/net/mraid08/export/genie/LabData/Data/MBPipeline/Hanson/tmp2/UNT/338887_FD1698.fastq.gz', '/net/mraid08/export/genie/LabData/Data/MBPipeline/Hanson/tmp2/UNT/592536_FD1973.fastq.gz', '/net/mraid08/export/genie/LabData/Data/MBPipeline/Hanson/tmp2/UNT/613001_FD2212.fastq.gz', '/net/mraid08/export/genie/LabData/Data/MBPipeline/Hanson/tmp2/UNT/298961_FD2099.fastq.gz', '/net/mraid08/export/genie/LabData/Data/MBPipeline/Hanson/tmp2/UNT/515714_FD2164.fastq.gz', '/net/mraid08/export/genie/LabData/Data/MBPipeline/Hanson/tmp2/UNT/987948_FD2117.fastq.gz', '/net/mraid08/export/genie/LabData/Data/MBPipeline/Hanson/tmp2/UNT/896645_FD2201.fastq.gz', '/net/mraid08/export/genie/LabData/Data/MBPipeline/Hanson/tmp2/UNT/928726_FD1977.fastq.gz', '/net/mraid08/export/genie/LabData/Data/MBPipeline/Hanson/tmp2/UNT/738799_FD1992.fastq.gz', '/net/mraid08/export/genie/LabData/Data/MBPipeline/Hanson/tmp2/UNT/27149_FD2152.fastq.gz', '/net/mraid08/export/genie/LabData/Data/MBPipeline/Hanson/tmp2/UNT/568087_FD2079.fastq.gz', '/net/mraid08/export/genie/LabData/Data/MBPipeline/Hanson/tmp2/UNT/738097_FD2229.fastq.gz', '/net/mraid08/export/genie/LabData/Data/MBPipeline/Hanson/tmp2/UNT/312685_FD1674.fastq.gz', '/net/mraid08/export/genie/LabData/Data/MBPipeline/Hanson/tmp2/UNT/980296_FD2211.fastq.gz', '/net/mraid08/export/genie/LabData/Data/MBPipeline/Hanson/tmp2/UNT/13060_FD2276.fastq.gz', '/net/mraid08/export/genie/LabData/Data/MBPipeline/Hanson/tmp2/UNT/148494_FD1770.fastq.gz', '/net/mraid08/export/genie/LabData/Data/MBPipeline/Hanson/tmp2/UNT/968418_FD2195.fastq.gz', '/net/mraid08/export/genie/LabData/Data/MBPipeline/Hanson/tmp2/UNT/876636_FD2239.fastq.gz', '/net/mraid08/export/genie/LabData/Data/MBPipeline/Hanson/tmp2/UNT/628035_FD2037.fastq.gz', '/net/mraid08/export/genie/LabData/Data/MBPipeline/Hanson/tmp2/UNT/927003_FD2191.fastq.gz', '/net/mraid08/export/genie/LabData/Data/MBPipeline/Hanson/tmp2/UNT/973938_FD2244.fastq.gz', '/net/mraid08/export/genie/LabData/Data/MBPipeline/Hanson/tmp2/UNT/572884_FD2203.fastq.gz', '/net/mraid08/export/genie/LabData/Data/MBPipeline/Hanson/tmp2/UNT/462009_FD1772.fastq.gz', '/net/mraid08/export/genie/LabData/Data/MBPipeline/Hanson/tmp2/UNT/215547_FD2082.fastq.gz', '/net/mraid08/export/genie/LabData/Data/MBPipeline/Hanson/tmp2/UNT/901894_FD1775.fastq.gz', '/net/mraid08/export/genie/LabData/Data/MBPipeline/Hanson/tmp2/UNT/585628_FD2091.fastq.gz', '/net/mraid08/export/genie/LabData/Data/MBPipeline/Hanson/tmp2/UNT/386439_FD2017.fastq.gz', '/net/mraid08/export/genie/LabData/Data/MBPipeline/Hanson/tmp2/UNT/382907_FD1981.fastq.gz', '/net/mraid08/export/genie/LabData/Data/MBPipeline/Hanson/tmp2/UNT/473274_FD1970.fastq.gz', '/net/mraid08/export/genie/LabData/Data/MBPipeline/Hanson/tmp2/UNT/112871_FD2033.fastq.gz', '/net/mraid08/export/genie/LabData/Data/MBPipeline/Hanson/tmp2/UNT/213604_FD2085.fastq.gz', '/net/mraid08/export/genie/LabData/Data/MBPipeline/Hanson/tmp2/UNT/76795_FD2199.fastq.gz', '/net/mraid08/export/genie/LabData/Data/MBPipeline/Hanson/tmp2/UNT/454019_FD2118.fastq.gz', '/net/mraid08/export/genie/LabData/Data/MBPipeline/Hanson/tmp2/UNT/189231_FD2127.fastq.gz', '/net/mraid08/export/genie/LabData/Data/MBPipeline/Hanson/tmp2/UNT/118977_FD1665.fastq.gz', '/net/mraid08/export/genie/LabData/Data/MBPipeline/Hanson/tmp2/UNT/831208_FD1997.fastq.gz', '/net/mraid08/export/genie/LabData/Data/MBPipeline/Hanson/tmp2/UNT/983615_FD1708.fastq.gz', '/net/mraid08/export/genie/LabData/Data/MBPipeline/Hanson/tmp2/UNT/665986_FD2232.fastq.gz', '/net/mraid08/export/genie/LabData/Data/MBPipeline/Hanson/tmp2/UNT/952515_FD1996.fastq.gz', '/net/mraid08/export/genie/LabData/Data/MBPipeline/Hanson/tmp2/UNT/205949_FD2173.fastq.gz', '/net/mraid08/export/genie/LabData/Data/MBPipeline/Hanson/tmp2/UNT/141752_FD2122.fastq.gz', '/net/mraid08/export/genie/LabData/Data/MBPipeline/Hanson/tmp2/UNT/382562_FD2153.fastq.gz', '/net/mraid08/export/genie/LabData/Data/MBPipeline/Hanson/tmp2/UNT/380551_FD1677.fastq.gz', '/net/mraid08/export/genie/LabData/Data/MBPipeline/Hanson/tmp2/UNT/263022_FD2114.fastq.gz', '/net/mraid08/export/genie/LabData/Data/MBPipeline/Hanson/tmp2/UNT/358610_FD2247.fastq.gz', '/net/mraid08/export/genie/LabData/Data/MBPipeline/Hanson/tmp2/UNT/447993_FD1705.fastq.gz', '/net/mraid08/export/genie/LabData/Data/MBPipeline/Hanson/tmp2/UNT/876388_FD2175.fastq.gz', '/net/mraid08/export/genie/LabData/Data/MBPipeline/Hanson/tmp2/UNT/437598_FD2146.fastq.gz', '/net/mraid08/export/genie/LabData/Data/MBPipeline/Hanson/tmp2/UNT/982364_FD2166.fastq.gz', '/net/mraid08/export/genie/LabData/Data/MBPipeline/Hanson/tmp2/UNT/772166_FD2007.fastq.gz', '/net/mraid08/export/genie/LabData/Data/MBPipeline/Hanson/tmp2/UNT/291893_FD2024.fastq.gz', '/net/mraid08/export/genie/LabData/Data/MBPipeline/Hanson/tmp2/UNT/395510_FD2255.fastq.gz', '/net/mraid08/export/genie/LabData/Data/MBPipeline/Hanson/tmp2/UNT/679153_FD2161.fastq.gz', '/net/mraid08/export/genie/LabData/Data/MBPipeline/Hanson/tmp2/UNT/976632_FD2111.fastq.gz', '/net/mraid08/export/genie/LabData/Data/MBPipeline/Hanson/tmp2/UNT/769069_FD2121.fastq.gz', '/net/mraid08/export/genie/LabData/Data/MBPipeline/Hanson/tmp2/UNT/836324_FD2254.fastq.gz', '/net/mraid08/export/genie/LabData/Data/MBPipeline/Hanson/tmp2/UNT/650298_FD1967.fastq.gz', '/net/mraid08/export/genie/LabData/Data/MBPipeline/Hanson/tmp2/UNT/156600_FD1976.fastq.gz', '/net/mraid08/export/genie/LabData/Data/MBPipeline/Hanson/tmp2/UNT/778813_FD2245.fastq.gz', '/net/mraid08/export/genie/LabData/Data/MBPipeline/Hanson/tmp2/UNT/301635_FD2154.fastq.gz', '/net/mraid08/export/genie/LabData/Data/MBPipeline/Hanson/tmp2/UNT/892080_FD2084.fastq.gz', '/net/mraid08/export/genie/LabData/Data/MBPipeline/Hanson/tmp2/UNT/313370_FD1682.fastq.gz', '/net/mraid08/export/genie/LabData/Data/MBPipeline/Hanson/tmp2/UNT/233750_FD1695.fastq.gz', '/net/mraid08/export/genie/LabData/Data/MBPipeline/Hanson/tmp2/UNT/744401_FD2106.fastq.gz', '/net/mraid08/export/genie/LabData/Data/MBPipeline/Hanson/tmp2/UNT/608664_FD1966.fastq.gz', '/net/mraid08/export/genie/LabData/Data/MBPipeline/Hanson/tmp2/UNT/822816_FD1673.fastq.gz', '/net/mraid08/export/genie/LabData/Data/MBPipeline/Hanson/tmp2/UNT/310386_FD1671.fastq.gz', '/net/mraid08/export/genie/LabData/Data/MBPipeline/Hanson/tmp2/UNT/118267_FD2283.fastq.gz', '/net/mraid08/export/genie/LabData/Data/MBPipeline/Hanson/tmp2/UNT/238360_FD1762.fastq.gz', '/net/mraid08/export/genie/LabData/Data/MBPipeline/Hanson/tmp2/UNT/716249_FD2149.fastq.gz', '/net/mraid08/export/genie/LabData/Data/MBPipeline/Hanson/tmp2/UNT/710879_FD2123.fastq.gz', '/net/mraid08/export/genie/LabData/Data/MBPipeline/Hanson/tmp2/UNT/886377_FD2039.fastq.gz', '/net/mraid08/export/genie/LabData/Data/MBPipeline/Hanson/tmp2/UNT/845571_FD1969.fastq.gz', '/net/mraid08/export/genie/LabData/Data/MBPipeline/Hanson/tmp2/UNT/59999_FD2080.fastq.gz', '/net/mraid08/export/genie/LabData/Data/MBPipeline/Hanson/tmp2/UNT/853979_FD1696.fastq.gz', '/net/mraid08/export/genie/LabData/Data/MBPipeline/Hanson/tmp2/UNT/286181_FD2151.fastq.gz', '/net/mraid08/export/genie/LabData/Data/MBPipeline/Hanson/tmp2/UNT/753117_FD2174.fastq.gz', '/net/mraid08/export/genie/LabData/Data/MBPipeline/Hanson/tmp2/UNT/9232_FD1975.fastq.gz', '/net/mraid08/export/genie/LabData/Data/MBPipeline/Hanson/tmp2/UNT/915236_FD2169.fastq.gz', '/net/mraid08/export/genie/LabData/Data/MBPipeline/Hanson/tmp2/UNT/918752_FD2227.fastq.gz', '/net/mraid08/export/genie/LabData/Data/MBPipeline/Hanson/tmp2/UNT/575537_FD1984.fastq.gz', '/net/mraid08/export/genie/LabData/Data/MBPipeline/Hanson/tmp2/UNT/570064_FD1776.fastq.gz', '/net/mraid08/export/genie/LabData/Data/MBPipeline/Hanson/tmp2/UNT/322778_FD2219.fastq.gz', '/net/mraid08/export/genie/LabData/Data/MBPipeline/Hanson/tmp2/UNT/839955_FD2078.fastq.gz', '/net/mraid08/export/genie/LabData/Data/MBPipeline/Hanson/tmp2/UNT/668846_FD2004.fastq.gz', '/net/mraid08/export/genie/LabData/Data/MBPipeline/Hanson/tmp2/UNT/959063_FD2274.fastq.gz', '/net/mraid08/export/genie/LabData/Data/MBPipeline/Hanson/tmp2/UNT/147945_FD1664.fastq.gz', '/net/mraid08/export/genie/LabData/Data/MBPipeline/Hanson/tmp2/UNT/246394_FD2135.fastq.gz', '/net/mraid08/export/genie/LabData/Data/MBPipeline/Hanson/tmp2/UNT/10260_FD2162.fastq.gz', '/net/mraid08/export/genie/LabData/Data/MBPipeline/Hanson/tmp2/UNT/292170_FD2560.fastq.gz', '/net/mraid08/export/genie/LabData/Data/MBPipeline/Hanson/tmp2/UNT/194880_FD1681.fastq.gz', '/net/mraid08/export/genie/LabData/Data/MBPipeline/Hanson/tmp2/UNT/751123_FD2265.fastq.gz', '/net/mraid08/export/genie/LabData/Data/MBPipeline/Hanson/tmp2/UNT/910555_FD2005.fastq.gz', '/net/mraid08/export/genie/LabData/Data/MBPipeline/Hanson/tmp2/UNT/648207_FD2028.fastq.gz', '/net/mraid08/export/genie/LabData/Data/MBPipeline/Hanson/tmp2/UNT/73708_FD2209.fastq.gz', '/net/mraid08/export/genie/LabData/Data/MBPipeline/Hanson/tmp2/UNT/240331_FD2214.fastq.gz', '/net/mraid08/export/genie/LabData/Data/MBPipeline/Hanson/tmp2/UNT/657716_FD2092.fastq.gz', '/net/mraid08/export/genie/LabData/Data/MBPipeline/Hanson/tmp2/UNT/246113_FD1672.fastq.gz', '/net/mraid08/export/genie/LabData/Data/MBPipeline/Hanson/tmp2/UNT/798029_FD2243.fastq.gz', '/net/mraid08/export/genie/LabData/Data/MBPipeline/Hanson/tmp2/UNT/714857_FD2015.fastq.gz', '/net/mraid08/export/genie/LabData/Data/MBPipeline/Hanson/tmp2/UNT/696665_FD2179.fastq.gz', '/net/mraid08/export/genie/LabData/Data/MBPipeline/Hanson/tmp2/UNT/676260_FD2171.fastq.gz', '/net/mraid08/export/genie/LabData/Data/MBPipeline/Hanson/tmp2/UNT/686559_FD2093.fastq.gz', '/net/mraid08/export/genie/LabData/Data/MBPipeline/Hanson/tmp2/UNT/122175_FD2034.fastq.gz', '/net/mraid08/export/genie/LabData/Data/MBPipeline/Hanson/tmp2/UNT/809743_FD2218.fastq.gz', '/net/mraid08/export/genie/LabData/Data/MBPipeline/Hanson/tmp2/UNT/960167_FD1688.fastq.gz', '/net/mraid08/export/genie/LabData/Data/MBPipeline/Hanson/tmp2/UNT/586592_FD2030.fastq.gz', '/net/mraid08/export/genie/LabData/Data/MBPipeline/Hanson/tmp2/UNT/173217_FD1972.fastq.gz', '/net/mraid08/export/genie/LabData/Data/MBPipeline/Hanson/tmp2/UNT/226899_FD2253.fastq.gz', '/net/mraid08/export/genie/LabData/Data/MBPipeline/Hanson/tmp2/UNT/14503_FD1991.fastq.gz', '/net/mraid08/export/genie/LabData/Data/MBPipeline/Hanson/tmp2/UNT/679672_FD2170.fastq.gz', '/net/mraid08/export/genie/LabData/Data/MBPipeline/Hanson/tmp2/UNT/16272_FD2189.fastq.gz', '/net/mraid08/export/genie/LabData/Data/MBPipeline/Hanson/tmp2/UNT/473081_FD2280.fastq.gz', '/net/mraid08/export/genie/LabData/Data/MBPipeline/Hanson/tmp2/UNT/302777_FD1710.fastq.gz', '/net/mraid08/export/genie/LabData/Data/MBPipeline/Hanson/tmp2/UNT/145276_FD2202.fastq.gz', '/net/mraid08/export/genie/LabData/Data/MBPipeline/Hanson/tmp2/UNT/511751_FD2271.fastq.gz', '/net/mraid08/export/genie/LabData/Data/MBPipeline/Hanson/tmp2/UNT/984125_FD2242.fastq.gz', '/net/mraid08/export/genie/LabData/Data/MBPipeline/Hanson/tmp2/UNT/767229_FD2192.fastq.gz', '/net/mraid08/export/genie/LabData/Data/MBPipeline/Hanson/tmp2/UNT/488394_FD2108.fastq.gz', '/net/mraid08/export/genie/LabData/Data/MBPipeline/Hanson/tmp2/UNT/97374_FD2089.fastq.gz', '/net/mraid08/export/genie/LabData/Data/MBPipeline/Hanson/tmp2/UNT/176981_FD2246.fastq.gz', '/net/mraid08/export/genie/LabData/Data/MBPipeline/Hanson/tmp2/UNT/78906_FD2074.fastq.gz', '/net/mraid08/export/genie/LabData/Data/MBPipeline/Hanson/tmp2/UNT/886445_FD2183.fastq.gz', '/net/mraid08/export/genie/LabData/Data/MBPipeline/Hanson/tmp2/UNT/212112_FD2023.fastq.gz', '/net/mraid08/export/genie/LabData/Data/MBPipeline/Hanson/tmp2/UNT/447925_FD2184.fastq.gz', '/net/mraid08/export/genie/LabData/Data/MBPipeline/Hanson/tmp2/UNT/622315_FD2210.fastq.gz', '/net/mraid08/export/genie/LabData/Data/MBPipeline/Hanson/tmp2/UNT/717229_FD2000.fastq.gz', '/net/mraid08/export/genie/LabData/Data/MBPipeline/Hanson/tmp2/UNT/126873_FD2261.fastq.gz', '/net/mraid08/export/genie/LabData/Data/MBPipeline/Hanson/tmp2/UNT/134681_FD1771.fastq.gz', '/net/mraid08/export/genie/LabData/Data/MBPipeline/Hanson/tmp2/UNT/427109_FD1765.fastq.gz', '/net/mraid08/export/genie/LabData/Data/MBPipeline/Hanson/tmp2/UNT/495816_FD2237.fastq.gz', '/net/mraid08/export/genie/LabData/Data/MBPipeline/Hanson/tmp2/UNT/259864_FD2072.fastq.gz', '/net/mraid08/export/genie/LabData/Data/MBPipeline/Hanson/tmp2/UNT/673709_FD1978.fastq.gz', '/net/mraid08/export/genie/LabData/Data/MBPipeline/Hanson/tmp2/UNT/298003_FD2148.fastq.gz', '/net/mraid08/export/genie/LabData/Data/MBPipeline/Hanson/tmp2/UNT/990858_FD1669.fastq.gz', '/net/mraid08/export/genie/LabData/Data/MBPipeline/Hanson/tmp2/UNT/292527_FD1982.fastq.gz', '/net/mraid08/export/genie/LabData/Data/MBPipeline/Hanson/tmp2/UNT/31167_FD2021.fastq.gz', '/net/mraid08/export/genie/LabData/Data/MBPipeline/Hanson/tmp2/UNT/428909_FD2144.fastq.gz', '/net/mraid08/export/genie/LabData/Data/MBPipeline/Hanson/tmp2/UNT/838013_FD1773.fastq.gz', '/net/mraid08/export/genie/LabData/Data/MBPipeline/Hanson/tmp2/UNT/791415_FD2262.fastq.gz', '/net/mraid08/export/genie/LabData/Data/MBPipeline/Hanson/tmp2/UNT/14438_FD2180.fastq.gz', '/net/mraid08/export/genie/LabData/Data/MBPipeline/Hanson/tmp2/UNT/387568_FD1974.fastq.gz', '/net/mraid08/export/genie/LabData/Data/MBPipeline/Hanson/tmp2/UNT/269338_FD2096.fastq.gz', '/net/mraid08/export/genie/LabData/Data/MBPipeline/Hanson/tmp2/UNT/976142_FD1676.fastq.gz', '/net/mraid08/export/genie/LabData/Data/MBPipeline/Hanson/tmp2/UNT/235990_FD1760.fastq.gz', '/net/mraid08/export/genie/LabData/Data/MBPipeline/Hanson/tmp2/UNT/734348_FD2190.fastq.gz', '/net/mraid08/export/genie/LabData/Data/MBPipeline/Hanson/tmp2/UNT/450561_FD2139.fastq.gz', '/net/mraid08/export/genie/LabData/Data/MBPipeline/Hanson/tmp2/UNT/5563_FD1692.fastq.gz', '/net/mraid08/export/genie/LabData/Data/MBPipeline/Hanson/tmp2/UNT/177429_FD1687.fastq.gz', '/net/mraid08/export/genie/LabData/Data/MBPipeline/Hanson/tmp2/UNT/206832_FD1999.fastq.gz', '/net/mraid08/export/genie/LabData/Data/MBPipeline/Hanson/tmp2/UNT/127686_FD2126.fastq.gz', '/net/mraid08/export/genie/LabData/Data/MBPipeline/Hanson/tmp2/UNT/188687_FD2193.fastq.gz', '/net/mraid08/export/genie/LabData/Data/MBPipeline/Hanson/tmp2/UNT/465047_FD2035.fastq.gz', '/net/mraid08/export/genie/LabData/Data/MBPipeline/Hanson/tmp2/UNT/595162_FD2187.fastq.gz', '/net/mraid08/export/genie/LabData/Data/MBPipeline/Hanson/tmp2/UNT/735006_FD2196.fastq.gz', '/net/mraid08/export/genie/LabData/Data/MBPipeline/Hanson/tmp2/UNT/31879_FD1774.fastq.gz', '/net/mraid08/export/genie/LabData/Data/MBPipeline/Hanson/tmp2/UNT/31711_FD2221.fastq.gz', '/net/mraid08/export/genie/LabData/Data/MBPipeline/Hanson/tmp2/UNT/134713_FD2222.fastq.gz', '/net/mraid08/export/genie/LabData/Data/MBPipeline/Hanson/tmp2/UNT/136573_FD2011.fastq.gz', '/net/mraid08/export/genie/LabData/Data/MBPipeline/Hanson/tmp2/UNT/983922_FD1763.fastq.gz', '/net/mraid08/export/genie/LabData/Data/MBPipeline/Hanson/tmp2/UNT/383645_FD2281.fastq.gz', '/net/mraid08/export/genie/LabData/Data/MBPipeline/Hanson/tmp2/UNT/875939_FD1968.fastq.gz', '/net/mraid08/export/genie/LabData/Data/MBPipeline/Hanson/tmp2/UNT/258169_FD1679.fastq.gz', '/net/mraid08/export/genie/LabData/Data/MBPipeline/Hanson/tmp2/UNT/425056_FD1990.fastq.gz', '/net/mraid08/export/genie/LabData/Data/MBPipeline/Hanson/tmp2/UNT/775470_FD2159.fastq.gz', '/net/mraid08/export/genie/LabData/Data/MBPipeline/Hanson/tmp2/UNT/209749_FD2009.fastq.gz', '/net/mraid08/export/genie/LabData/Data/MBPipeline/Hanson/tmp2/UNT/794507_FD2264.fastq.gz', '/net/mraid08/export/genie/LabData/Data/MBPipeline/Hanson/tmp2/UNT/432868_FD2197.fastq.gz', '/net/mraid08/export/genie/LabData/Data/MBPipeline/Hanson/tmp2/UNT/300385_FD2001.fastq.gz', '/net/mraid08/export/genie/LabData/Data/MBPipeline/Hanson/tmp2/UNT/490022_FD2012.fastq.gz', '/net/mraid08/export/genie/LabData/Data/MBPipeline/Hanson/tmp2/UNT/751226_FD2031.fastq.gz', '/net/mraid08/export/genie/LabData/Data/MBPipeline/Hanson/tmp2/UNT/793333_FD2241.fastq.gz', '/net/mraid08/export/genie/LabData/Data/MBPipeline/Hanson/tmp2/UNT/22435_FD2076.fastq.gz', '/net/mraid08/export/genie/LabData/Data/MBPipeline/Hanson/tmp2/UNT/394512_FD2273.fastq.gz', '/net/mraid08/export/genie/LabData/Data/MBPipeline/Hanson/tmp2/UNT/896602_FD2279.fastq.gz', '/net/mraid08/export/genie/LabData/Data/MBPipeline/Hanson/tmp2/UNT/91018_FD2177.fastq.gz', '/net/mraid08/export/genie/LabData/Data/MBPipeline/Hanson/tmp2/UNT/825381_FD2217.fastq.gz', '/net/mraid08/export/genie/LabData/Data/MBPipeline/Hanson/tmp2/UNT/863270_FD2220.fastq.gz', '/net/mraid08/export/genie/LabData/Data/MBPipeline/Hanson/tmp2/UNT/185604_FD2036.fastq.gz', '/net/mraid08/export/genie/LabData/Data/MBPipeline/Hanson/tmp2/UNT/494090_FD2158.fastq.gz', '/net/mraid08/export/genie/LabData/Data/MBPipeline/Hanson/tmp2/UNT/186325_FD1965.fastq.gz', '/net/mraid08/export/genie/LabData/Data/MBPipeline/Hanson/tmp2/UNT/563447_FD1683.fastq.gz', '/net/mraid08/export/genie/LabData/Data/MBPipeline/Hanson/tmp2/UNT/231371_FD2157.fastq.gz', '/net/mraid08/export/genie/LabData/Data/MBPipeline/Hanson/tmp2/UNT/213134_FD2081.fastq.gz', '/net/mraid08/export/genie/LabData/Data/MBPipeline/Hanson/tmp2/UNT/712917_FD2116.fastq.gz', '/net/mraid08/export/genie/LabData/Data/MBPipeline/Hanson/tmp2/UNT/824963_FD2228.fastq.gz', '/net/mraid08/export/genie/LabData/Data/MBPipeline/Hanson/tmp2/UNT/172024_FD2215.fastq.gz', '/net/mraid08/export/genie/LabData/Data/MBPipeline/Hanson/tmp2/UNT/494199_FD2258.fastq.gz', '/net/mraid08/export/genie/LabData/Data/MBPipeline/Hanson/tmp2/UNT/545959_FD2198.fastq.gz', '/net/mraid08/export/genie/LabData/Data/MBPipeline/Hanson/tmp2/UNT/640068_FD1684.fastq.gz', '/net/mraid08/export/genie/LabData/Data/MBPipeline/Hanson/tmp2/UNT/854016_FD1704.fastq.gz', '/net/mraid08/export/genie/LabData/Data/MBPipeline/Hanson/tmp2/UNT/107014_FD1693.fastq.gz', '/net/mraid08/export/genie/LabData/Data/MBPipeline/Hanson/tmp2/UNT/970394_FD2256.fastq.gz', '/net/mraid08/export/genie/LabData/Data/MBPipeline/Hanson/tmp2/UNT/33683_FD2252.fastq.gz', '/net/mraid08/export/genie/LabData/Data/MBPipeline/Hanson/tmp2/UNT/830870_FD2142.fastq.gz', '/net/mraid08/export/genie/LabData/Data/MBPipeline/Hanson/tmp2/UNT/154058_FD2107.fastq.gz', '/net/mraid08/export/genie/LabData/Data/MBPipeline/Hanson/tmp2/UNT/505393_FD1988.fastq.gz', '/net/mraid08/export/genie/LabData/Data/MBPipeline/Hanson/tmp2/UNT/600376_FD2251.fastq.gz', '/net/mraid08/export/genie/LabData/Data/MBPipeline/Hanson/tmp2/UNT/131386_FD2206.fastq.gz', '/net/mraid08/export/genie/LabData/Data/MBPipeline/Hanson/tmp2/UNT/513800_FD2006.fastq.gz', '/net/mraid08/export/genie/LabData/Data/MBPipeline/Hanson/tmp2/UNT/783100_FD2071.fastq.gz', '/net/mraid08/export/genie/LabData/Data/MBPipeline/Hanson/tmp2/UNT/452664_FD1957.fastq.gz', '/net/mraid08/export/genie/LabData/Data/MBPipeline/Hanson/tmp2/UNT/896200_FD1700.fastq.gz', '/net/mraid08/export/genie/LabData/Data/MBPipeline/Hanson/tmp2/UNT/23170_FD1761.fastq.gz', '/net/mraid08/export/genie/LabData/Data/MBPipeline/Hanson/tmp2/UNT/151995_FD1709.fastq.gz', '/net/mraid08/export/genie/LabData/Data/MBPipeline/Hanson/tmp2/UNT/244004_FD2156.fastq.gz', '/net/mraid08/export/genie/LabData/Data/MBPipeline/Hanson/tmp2/UNT/512306_FD2115.fastq.gz', '/net/mraid08/export/genie/LabData/Data/MBPipeline/Hanson/tmp2/UNT/574534_FD2090.fastq.gz', '/net/mraid08/export/genie/LabData/Data/MBPipeline/Hanson/tmp2/UNT/233870_FD1675.fastq.gz', '/net/mraid08/export/genie/LabData/Data/MBPipeline/Hanson/tmp2/UNT/29444_FD1983.fastq.gz', '/net/mraid08/export/genie/LabData/Data/MBPipeline/Hanson/tmp2/UNT/576328_FD2208.fastq.gz', '/net/mraid08/export/genie/LabData/Data/MBPipeline/Hanson/tmp2/UNT/309775_FD2087.fastq.gz', '/net/mraid08/export/genie/LabData/Data/MBPipeline/Hanson/tmp2/UNT/437762_FD2150.fastq.gz', '/net/mraid08/export/genie/LabData/Data/MBPipeline/Hanson/tmp2/UNT/625043_FD2014.fastq.gz', '/net/mraid08/export/genie/LabData/Data/MBPipeline/Hanson/tmp2/UNT/885099_FD2143.fastq.gz', '/net/mraid08/export/genie/LabData/Data/MBPipeline/Hanson/tmp2/UNT/829203_FD1979.fastq.gz', '/net/mraid08/export/genie/LabData/Data/MBPipeline/Hanson/tmp2/UNT/892458_FD1768.fastq.gz', '/net/mraid08/export/genie/LabData/Data/MBPipeline/Hanson/tmp2/UNT/517605_FD2025.fastq.gz', '/net/mraid08/export/genie/LabData/Data/MBPipeline/Hanson/tmp2/UNT/804434_FD1667.fastq.gz', '/net/mraid08/export/genie/LabData/Data/MBPipeline/Hanson/tmp2/UNT/362185_FD2077.fastq.gz', '/net/mraid08/export/genie/LabData/Data/MBPipeline/Hanson/tmp2/UNT/612014_FD2185.fastq.gz', '/net/mraid08/export/genie/LabData/Data/MBPipeline/Hanson/tmp2/UNT/816311_FD2133.fastq.gz', '/net/mraid08/export/genie/LabData/Data/MBPipeline/Hanson/tmp2/UNT/110706_FD2124.fastq.gz', '/net/mraid08/export/genie/LabData/Data/MBPipeline/Hanson/tmp2/UNT/524392_FD2167.fastq.gz', '/net/mraid08/export/genie/LabData/Data/MBPipeline/Hanson/tmp2/UNT/278425_FD2132.fastq.gz', '/net/mraid08/export/genie/LabData/Data/MBPipeline/Hanson/tmp2/UNT/659088_FD2032.fastq.gz', '/net/mraid08/export/genie/LabData/Data/MBPipeline/Hanson/tmp2/UNT/509361_FD2267.fastq.gz', '/net/mraid08/export/genie/LabData/Data/MBPipeline/Hanson/tmp2/UNT/551784_FD1998.fastq.gz', '/net/mraid08/export/genie/LabData/Data/MBPipeline/Hanson/tmp2/UNT/988824_FD2282.fastq.gz', '/net/mraid08/export/genie/LabData/Data/MBPipeline/Hanson/tmp2/UNT/573568_FD2097.fastq.gz', '/net/mraid08/export/genie/LabData/Data/MBPipeline/Hanson/tmp2/UNT/357003_FD2165.fastq.gz', '/net/mraid08/export/genie/LabData/Data/MBPipeline/Hanson/tmp2/UNT/266926_FD2263.fastq.gz', '/net/mraid08/export/genie/LabData/Data/MBPipeline/Hanson/tmp2/UNT/579217_FD1685.fastq.gz', '/net/mraid08/export/genie/LabData/Data/MBPipeline/Hanson/tmp2/UNT/534299_FD2130.fastq.gz', '/net/mraid08/export/genie/LabData/Data/MBPipeline/Hanson/tmp2/UNT/285502_FD2272.fastq.gz', '/net/mraid08/export/genie/LabData/Data/MBPipeline/Hanson/tmp2/UNT/666325_FD1686.fastq.gz', '/net/mraid08/export/genie/LabData/Data/MBPipeline/Hanson/tmp2/UNT/297099_FD2003.fastq.gz', '/net/mraid08/export/genie/LabData/Data/MBPipeline/Hanson/tmp2/UNT/879971_FD2248.fastq.gz', '/net/mraid08/export/genie/LabData/Data/MBPipeline/Hanson/tmp2/UNT/531583_FD2277.fastq.gz', '/net/mraid08/export/genie/LabData/Data/MBPipeline/Hanson/tmp2/UNT/159363_FD2216.fastq.gz', '/net/mraid08/export/genie/LabData/Data/MBPipeline/Hanson/tmp2/UNT/301591_FD2238.fastq.gz', '/net/mraid08/export/genie/LabData/Data/MBPipeline/Hanson/tmp2/UNT/768726_FD1777.fastq.gz', '/net/mraid08/export/genie/LabData/Data/MBPipeline/Hanson/tmp2/UNT/875714_FD2281.fastq.gz', '/net/mraid08/export/genie/LabData/Data/MBPipeline/Hanson/tmp2/UNT/102855_FD2104.fastq.gz', '/net/mraid08/export/genie/LabData/Data/MBPipeline/Hanson/tmp2/UNT/881600_FD1986.fastq.gz', '/net/mraid08/export/genie/LabData/Data/MBPipeline/Hanson/tmp2/UNT/632150_FD1670.fastq.gz', '/net/mraid08/export/genie/LabData/Data/MBPipeline/Hanson/tmp2/UNT/94137_FD2224.fastq.gz', '/net/mraid08/export/genie/LabData/Data/MBPipeline/Hanson/tmp2/UNT/65532_FD2013.fastq.gz', '/net/mraid08/export/genie/LabData/Data/MBPipeline/Hanson/tmp2/UNT/117735_FD2163.fastq.gz', '/net/mraid08/export/genie/LabData/Data/MBPipeline/Hanson/tmp2/UNT/894480_FD2029.fastq.gz', '/net/mraid08/export/genie/LabData/Data/MBPipeline/Hanson/tmp2/UNT/700926_FD2182.fastq.gz', '/net/mraid08/export/genie/LabData/Data/MBPipeline/Hanson/tmp2/UNT/483743_FD1767.fastq.gz', '/net/mraid08/export/genie/LabData/Data/MBPipeline/Hanson/tmp2/UNT/232275_FD2095.fastq.gz', '/net/mraid08/export/genie/LabData/Data/MBPipeline/Hanson/tmp2/UNT/773526_FD2186.fastq.gz', '/net/mraid08/export/genie/LabData/Data/MBPipeline/Hanson/tmp2/UNT/356589_FD2200.fastq.gz', '/net/mraid08/export/genie/LabData/Data/MBPipeline/Hanson/tmp2/UNT/869143_FD2268.fastq.gz', '/net/mraid08/export/genie/LabData/Data/MBPipeline/Hanson/tmp2/UNT/337374_FD2234.fastq.gz', '/net/mraid08/export/genie/LabData/Data/MBPipeline/Hanson/tmp2/UNT/835069_FD1666.fastq.gz', '/net/mraid08/export/genie/LabData/Data/MBPipeline/Hanson/tmp2/UNT/898339_FD2145.fastq.gz', '/net/mraid08/export/genie/LabData/Data/MBPipeline/Hanson/tmp2/UNT/383294_FD2088.fastq.gz', '/net/mraid08/export/genie/LabData/Data/MBPipeline/Hanson/tmp2/UNT/167084_FD2147.fastq.gz', '/net/mraid08/export/genie/LabData/Data/MBPipeline/Hanson/tmp2/UNT/789535_FD1987.fastq.gz', '/net/mraid08/export/genie/LabData/Data/MBPipeline/Hanson/tmp2/UNT/38238_FD1994.fastq.gz', '/net/mraid08/export/genie/LabData/Data/MBPipeline/Hanson/tmp2/UNT/413136_FD2231.fastq.gz', '/net/mraid08/export/genie/LabData/Data/MBPipeline/Hanson/tmp2/UNT/978471_FD2140.fastq.gz', '/net/mraid08/export/genie/LabData/Data/MBPipeline/Hanson/tmp2/UNT/801774_FD2075.fastq.gz', '/net/mraid08/export/genie/LabData/Data/MBPipeline/Hanson/tmp2/UNT/149023_FD2103.fastq.gz', '/net/mraid08/export/genie/LabData/Data/MBPipeline/Hanson/tmp2/UNT/738601_FD1769.fastq.gz', '/net/mraid08/export/genie/LabData/Data/MBPipeline/Hanson/tmp2/UNT/794868_FD2141.fastq.gz', '/net/mraid08/export/genie/LabData/Data/MBPipeline/Hanson/tmp2/UNT/470132_FD1989.fastq.gz', '/net/mraid08/export/genie/LabData/Data/MBPipeline/Hanson/tmp2/UNT/765352_FD2125.fastq.gz', '/net/mraid08/export/genie/LabData/Data/MBPipeline/Hanson/tmp2/UNT/609258_FD2260.fastq.gz', '/net/mraid08/export/genie/LabData/Data/MBPipeline/Hanson/tmp2/UNT/279690_FD2019.fastq.gz', '/net/mraid08/export/genie/LabData/Data/MBPipeline/Hanson/tmp2/UNT/388380_FD2129.fastq.gz', '/net/mraid08/export/genie/LabData/Data/MBPipeline/Hanson/tmp2/UNT/621285_FD2188.fastq.gz', '/net/mraid08/export/genie/LabData/Data/MBPipeline/Hanson/tmp2/UNT/89724_FD2131.fastq.gz', '/net/mraid08/export/genie/LabData/Data/MBPipeline/Hanson/tmp2/UNT/975553_FD2027.fastq.gz', '/net/mraid08/export/genie/LabData/Data/MBPipeline/Hanson/tmp2/UNT/543407_FD2105.fastq.gz', '/net/mraid08/export/genie/LabData/Data/MBPipeline/Hanson/tmp2/UNT/139025_FD2205.fastq.gz', '/net/mraid08/export/genie/LabData/Data/MBPipeline/Hanson/tmp2/UNT/450464_FD1668.fastq.gz', '/net/mraid08/export/genie/LabData/Data/MBPipeline/Hanson/tmp2/UNT/514717_FD1680.fastq.gz', '/net/mraid08/export/genie/LabData/Data/MBPipeline/Hanson/tmp2/UNT/220290_FD2155.fastq.gz', '/net/mraid08/export/genie/LabData/Data/MBPipeline/Hanson/tmp2/UNT/299910_FD1985.fastq.gz', '/net/mraid08/export/genie/LabData/Data/MBPipeline/Hanson/tmp2/UNT/8323_FD1678.fastq.gz', '/net/mraid08/export/genie/LabData/Data/MBPipeline/Hanson/tmp2/UNT/486795_FD2136.fastq.gz', '/net/mraid08/export/genie/LabData/Data/MBPipeline/Hanson/tmp2/UNT/603127_FD2236.fastq.gz', '/net/mraid08/export/genie/LabData/Data/MBPipeline/Hanson/tmp2/UNT/911573_FD2008.fastq.gz', '/net/mraid08/export/genie/LabData/Data/MBPipeline/Hanson/tmp2/UNT/724858_FD2240.fastq.gz', '/net/mraid08/export/genie/LabData/Data/MBPipeline/Hanson/tmp2/UNT/200731_FD2110.fastq.gz', '/net/mraid08/export/genie/LabData/Data/MBPipeline/Hanson/tmp2/UNT/318800_FD1703.fastq.gz', '/net/mraid08/export/genie/LabData/Data/MBPipeline/Hanson/tmp2/UNT/394567_FD2266.fastq.gz', '/net/mraid08/export/genie/LabData/Data/MBPipeline/Hanson/tmp2/UNT/541611_FD1964.fastq.gz', '/net/mraid08/export/genie/LabData/Data/MBPipeline/Hanson/tmp2/UNT/405347_FD1701.fastq.gz', '/net/mraid08/export/genie/LabData/Data/MBPipeline/Hanson/tmp2/UNT/854649_FD1993.fastq.gz', '/net/mraid08/export/genie/LabData/Data/MBPipeline/Hanson/tmp2/UNT/189120_FD2178.fastq.gz', '/net/mraid08/export/genie/LabData/Data/MBPipeline/Hanson/tmp2/UNT/304470_FD2119.fastq.gz', '/net/mraid08/export/genie/LabData/Data/MBPipeline/Hanson/tmp2/UNT/434033_FD2038.fastq.gz', '/net/mraid08/export/genie/LabData/Data/MBPipeline/Hanson/tmp2/UNT/641913_FD2194.fastq.gz', '/net/mraid08/export/genie/LabData/Data/MBPipeline/Hanson/tmp2/UNT/47260_FD1699.fastq.gz', '/net/mraid08/export/genie/LabData/Data/MBPipeline/Hanson/tmp2/UNT/696622_FD2176.fastq.gz', '/net/mraid08/export/genie/LabData/Data/MBPipeline/Hanson/tmp2/UNT/168329_FD2257.fastq.gz', '/net/mraid08/export/genie/LabData/Data/MBPipeline/Hanson/tmp2/UNT/300177_FD2086.fastq.gz', '/net/mraid08/export/genie/LabData/Data/MBPipeline/Hanson/tmp2/UNT/500213_FD2249.fastq.gz', '/net/mraid08/export/genie/LabData/Data/MBPipeline/Hanson/tmp2/UNT/181904_FD2226.fastq.gz', '/net/mraid08/export/genie/LabData/Data/MBPipeline/Hanson/tmp2/UNT/614435_FD2269.fastq.gz', '/net/mraid08/export/genie/LabData/Data/MBPipeline/Hanson/tmp2/UNT/772203_FD2138.fastq.gz', '/net/mraid08/export/genie/LabData/Data/MBPipeline/Hanson/tmp2/UNT/536967_FD2230.fastq.gz', '/net/mraid08/export/genie/LabData/Data/MBPipeline/Hanson/tmp2/UNT/297494_FD2010.fastq.gz', '/net/mraid08/export/genie/LabData/Data/MBPipeline/Hanson/tmp2/UNT/608989_FD1697.fastq.gz', '/net/mraid08/export/genie/LabData/Data/MBPipeline/Hanson/tmp2/UNT/122295_FD2278.fastq.gz', '/net/mraid08/export/genie/LabData/Data/MBPipeline/Hanson/tmp2/UNT/602955_FD1691.fastq.gz', '/net/mraid08/export/genie/LabData/Data/MBPipeline/Hanson/tmp2/UNT/601478_FD2100.fastq.gz', '/net/mraid08/export/genie/LabData/Data/MBPipeline/Hanson/tmp2/UNT/190310_FD2094.fastq.gz', '/net/mraid08/export/genie/LabData/Data/MBPipeline/Hanson/tmp2/UNT/177240_FD2223.fastq.gz', '/net/mraid08/export/genie/LabData/Data/MBPipeline/Hanson/tmp2/UNT/214227_FD2137.fastq.gz', '/net/mraid08/export/genie/LabData/Data/MBPipeline/Hanson/tmp2/UNT/200752_FD2275.fastq.gz', '/net/mraid08/export/genie/LabData/Data/MBPipeline/Hanson/tmp2/UNT/678210_FD2134.fastq.gz', '/net/mraid08/export/genie/LabData/Data/MBPipeline/Hanson/tmp2/UNT/516096_FD1971.fastq.gz', '/net/mraid08/export/genie/LabData/Data/MBPipeline/Hanson/tmp2/UNT/274466_FD1764.fastq.gz']"
      ],
      "text/plain": [
       "['/net/mraid08/export/genie/LabData/Data/MBPipeline/Hanson/tmp2/UNT/210867_FD1694.fastq.gz',\n",
       " '/net/mraid08/export/genie/LabData/Data/MBPipeline/Hanson/tmp2/UNT/921543_FD2233.fastq.gz',\n",
       " '/net/mraid08/export/genie/LabData/Data/MBPipeline/Hanson/tmp2/UNT/774511_FD2235.fastq.gz',\n",
       " '/net/mraid08/export/genie/LabData/Data/MBPipeline/Hanson/tmp2/UNT/507873_FD2181.fastq.gz',\n",
       " '/net/mraid08/export/genie/LabData/Data/MBPipeline/Hanson/tmp2/UNT/128161_FD2160.fastq.gz',\n",
       " '/net/mraid08/export/genie/LabData/Data/MBPipeline/Hanson/tmp2/UNT/876581_FD1766.fastq.gz',\n",
       " '/net/mraid08/export/genie/LabData/Data/MBPipeline/Hanson/tmp2/UNT/994875_FD2225.fastq.gz',\n",
       " '/net/mraid08/export/genie/LabData/Data/MBPipeline/Hanson/tmp2/UNT/913400_FD2128.fastq.gz',\n",
       " '/net/mraid08/export/genie/LabData/Data/MBPipeline/Hanson/tmp2/UNT/113719_FD1689.fastq.gz',\n",
       " '/net/mraid08/export/genie/LabData/Data/MBPipeline/Hanson/tmp2/UNT/44114_FD2112.fastq.gz',\n",
       " '/net/mraid08/export/genie/LabData/Data/MBPipeline/Hanson/tmp2/UNT/392420_FD2120.fastq.gz',\n",
       " '/net/mraid08/export/genie/LabData/Data/MBPipeline/Hanson/tmp2/UNT/853351_FD2053.fastq.gz',\n",
       " '/net/mraid08/export/genie/LabData/Data/MBPipeline/Hanson/tmp2/UNT/740046_FD1702.fastq.gz',\n",
       " '/net/mraid08/export/genie/LabData/Data/MBPipeline/Hanson/tmp2/UNT/120636_FD2083.fastq.gz',\n",
       " '/net/mraid08/export/genie/LabData/Data/MBPipeline/Hanson/tmp2/UNT/696383_FD2020.fastq.gz',\n",
       " '/net/mraid08/export/genie/LabData/Data/MBPipeline/Hanson/tmp2/UNT/720396_FD1980.fastq.gz',\n",
       " '/net/mraid08/export/genie/LabData/Data/MBPipeline/Hanson/tmp2/UNT/403931_FD2016.fastq.gz',\n",
       " '/net/mraid08/export/genie/LabData/Data/MBPipeline/Hanson/tmp2/UNT/200924_FD2270.fastq.gz',\n",
       " '/net/mraid08/export/genie/LabData/Data/MBPipeline/Hanson/tmp2/UNT/121123_FD2022.fastq.gz',\n",
       " '/net/mraid08/export/genie/LabData/Data/MBPipeline/Hanson/tmp2/UNT/465440_FD1995.fastq.gz',\n",
       " '/net/mraid08/export/genie/LabData/Data/MBPipeline/Hanson/tmp2/UNT/315302_FD1690.fastq.gz',\n",
       " '/net/mraid08/export/genie/LabData/Data/MBPipeline/Hanson/tmp2/UNT/465856_FD1707.fastq.gz',\n",
       " '/net/mraid08/export/genie/LabData/Data/MBPipeline/Hanson/tmp2/UNT/338887_FD1698.fastq.gz',\n",
       " '/net/mraid08/export/genie/LabData/Data/MBPipeline/Hanson/tmp2/UNT/592536_FD1973.fastq.gz',\n",
       " '/net/mraid08/export/genie/LabData/Data/MBPipeline/Hanson/tmp2/UNT/613001_FD2212.fastq.gz',\n",
       " '/net/mraid08/export/genie/LabData/Data/MBPipeline/Hanson/tmp2/UNT/298961_FD2099.fastq.gz',\n",
       " '/net/mraid08/export/genie/LabData/Data/MBPipeline/Hanson/tmp2/UNT/515714_FD2164.fastq.gz',\n",
       " '/net/mraid08/export/genie/LabData/Data/MBPipeline/Hanson/tmp2/UNT/987948_FD2117.fastq.gz',\n",
       " '/net/mraid08/export/genie/LabData/Data/MBPipeline/Hanson/tmp2/UNT/896645_FD2201.fastq.gz',\n",
       " '/net/mraid08/export/genie/LabData/Data/MBPipeline/Hanson/tmp2/UNT/928726_FD1977.fastq.gz',\n",
       " '/net/mraid08/export/genie/LabData/Data/MBPipeline/Hanson/tmp2/UNT/738799_FD1992.fastq.gz',\n",
       " '/net/mraid08/export/genie/LabData/Data/MBPipeline/Hanson/tmp2/UNT/27149_FD2152.fastq.gz',\n",
       " '/net/mraid08/export/genie/LabData/Data/MBPipeline/Hanson/tmp2/UNT/568087_FD2079.fastq.gz',\n",
       " '/net/mraid08/export/genie/LabData/Data/MBPipeline/Hanson/tmp2/UNT/738097_FD2229.fastq.gz',\n",
       " '/net/mraid08/export/genie/LabData/Data/MBPipeline/Hanson/tmp2/UNT/312685_FD1674.fastq.gz',\n",
       " '/net/mraid08/export/genie/LabData/Data/MBPipeline/Hanson/tmp2/UNT/980296_FD2211.fastq.gz',\n",
       " '/net/mraid08/export/genie/LabData/Data/MBPipeline/Hanson/tmp2/UNT/13060_FD2276.fastq.gz',\n",
       " '/net/mraid08/export/genie/LabData/Data/MBPipeline/Hanson/tmp2/UNT/148494_FD1770.fastq.gz',\n",
       " '/net/mraid08/export/genie/LabData/Data/MBPipeline/Hanson/tmp2/UNT/968418_FD2195.fastq.gz',\n",
       " '/net/mraid08/export/genie/LabData/Data/MBPipeline/Hanson/tmp2/UNT/876636_FD2239.fastq.gz',\n",
       " '/net/mraid08/export/genie/LabData/Data/MBPipeline/Hanson/tmp2/UNT/628035_FD2037.fastq.gz',\n",
       " '/net/mraid08/export/genie/LabData/Data/MBPipeline/Hanson/tmp2/UNT/927003_FD2191.fastq.gz',\n",
       " '/net/mraid08/export/genie/LabData/Data/MBPipeline/Hanson/tmp2/UNT/973938_FD2244.fastq.gz',\n",
       " '/net/mraid08/export/genie/LabData/Data/MBPipeline/Hanson/tmp2/UNT/572884_FD2203.fastq.gz',\n",
       " '/net/mraid08/export/genie/LabData/Data/MBPipeline/Hanson/tmp2/UNT/462009_FD1772.fastq.gz',\n",
       " '/net/mraid08/export/genie/LabData/Data/MBPipeline/Hanson/tmp2/UNT/215547_FD2082.fastq.gz',\n",
       " '/net/mraid08/export/genie/LabData/Data/MBPipeline/Hanson/tmp2/UNT/901894_FD1775.fastq.gz',\n",
       " '/net/mraid08/export/genie/LabData/Data/MBPipeline/Hanson/tmp2/UNT/585628_FD2091.fastq.gz',\n",
       " '/net/mraid08/export/genie/LabData/Data/MBPipeline/Hanson/tmp2/UNT/386439_FD2017.fastq.gz',\n",
       " '/net/mraid08/export/genie/LabData/Data/MBPipeline/Hanson/tmp2/UNT/382907_FD1981.fastq.gz',\n",
       " '/net/mraid08/export/genie/LabData/Data/MBPipeline/Hanson/tmp2/UNT/473274_FD1970.fastq.gz',\n",
       " '/net/mraid08/export/genie/LabData/Data/MBPipeline/Hanson/tmp2/UNT/112871_FD2033.fastq.gz',\n",
       " '/net/mraid08/export/genie/LabData/Data/MBPipeline/Hanson/tmp2/UNT/213604_FD2085.fastq.gz',\n",
       " '/net/mraid08/export/genie/LabData/Data/MBPipeline/Hanson/tmp2/UNT/76795_FD2199.fastq.gz',\n",
       " '/net/mraid08/export/genie/LabData/Data/MBPipeline/Hanson/tmp2/UNT/454019_FD2118.fastq.gz',\n",
       " '/net/mraid08/export/genie/LabData/Data/MBPipeline/Hanson/tmp2/UNT/189231_FD2127.fastq.gz',\n",
       " '/net/mraid08/export/genie/LabData/Data/MBPipeline/Hanson/tmp2/UNT/118977_FD1665.fastq.gz',\n",
       " '/net/mraid08/export/genie/LabData/Data/MBPipeline/Hanson/tmp2/UNT/831208_FD1997.fastq.gz',\n",
       " '/net/mraid08/export/genie/LabData/Data/MBPipeline/Hanson/tmp2/UNT/983615_FD1708.fastq.gz',\n",
       " '/net/mraid08/export/genie/LabData/Data/MBPipeline/Hanson/tmp2/UNT/665986_FD2232.fastq.gz',\n",
       " '/net/mraid08/export/genie/LabData/Data/MBPipeline/Hanson/tmp2/UNT/952515_FD1996.fastq.gz',\n",
       " '/net/mraid08/export/genie/LabData/Data/MBPipeline/Hanson/tmp2/UNT/205949_FD2173.fastq.gz',\n",
       " '/net/mraid08/export/genie/LabData/Data/MBPipeline/Hanson/tmp2/UNT/141752_FD2122.fastq.gz',\n",
       " '/net/mraid08/export/genie/LabData/Data/MBPipeline/Hanson/tmp2/UNT/382562_FD2153.fastq.gz',\n",
       " '/net/mraid08/export/genie/LabData/Data/MBPipeline/Hanson/tmp2/UNT/380551_FD1677.fastq.gz',\n",
       " '/net/mraid08/export/genie/LabData/Data/MBPipeline/Hanson/tmp2/UNT/263022_FD2114.fastq.gz',\n",
       " '/net/mraid08/export/genie/LabData/Data/MBPipeline/Hanson/tmp2/UNT/358610_FD2247.fastq.gz',\n",
       " '/net/mraid08/export/genie/LabData/Data/MBPipeline/Hanson/tmp2/UNT/447993_FD1705.fastq.gz',\n",
       " '/net/mraid08/export/genie/LabData/Data/MBPipeline/Hanson/tmp2/UNT/876388_FD2175.fastq.gz',\n",
       " '/net/mraid08/export/genie/LabData/Data/MBPipeline/Hanson/tmp2/UNT/437598_FD2146.fastq.gz',\n",
       " '/net/mraid08/export/genie/LabData/Data/MBPipeline/Hanson/tmp2/UNT/982364_FD2166.fastq.gz',\n",
       " '/net/mraid08/export/genie/LabData/Data/MBPipeline/Hanson/tmp2/UNT/772166_FD2007.fastq.gz',\n",
       " '/net/mraid08/export/genie/LabData/Data/MBPipeline/Hanson/tmp2/UNT/291893_FD2024.fastq.gz',\n",
       " '/net/mraid08/export/genie/LabData/Data/MBPipeline/Hanson/tmp2/UNT/395510_FD2255.fastq.gz',\n",
       " '/net/mraid08/export/genie/LabData/Data/MBPipeline/Hanson/tmp2/UNT/679153_FD2161.fastq.gz',\n",
       " '/net/mraid08/export/genie/LabData/Data/MBPipeline/Hanson/tmp2/UNT/976632_FD2111.fastq.gz',\n",
       " '/net/mraid08/export/genie/LabData/Data/MBPipeline/Hanson/tmp2/UNT/769069_FD2121.fastq.gz',\n",
       " '/net/mraid08/export/genie/LabData/Data/MBPipeline/Hanson/tmp2/UNT/836324_FD2254.fastq.gz',\n",
       " '/net/mraid08/export/genie/LabData/Data/MBPipeline/Hanson/tmp2/UNT/650298_FD1967.fastq.gz',\n",
       " '/net/mraid08/export/genie/LabData/Data/MBPipeline/Hanson/tmp2/UNT/156600_FD1976.fastq.gz',\n",
       " '/net/mraid08/export/genie/LabData/Data/MBPipeline/Hanson/tmp2/UNT/778813_FD2245.fastq.gz',\n",
       " '/net/mraid08/export/genie/LabData/Data/MBPipeline/Hanson/tmp2/UNT/301635_FD2154.fastq.gz',\n",
       " '/net/mraid08/export/genie/LabData/Data/MBPipeline/Hanson/tmp2/UNT/892080_FD2084.fastq.gz',\n",
       " '/net/mraid08/export/genie/LabData/Data/MBPipeline/Hanson/tmp2/UNT/313370_FD1682.fastq.gz',\n",
       " '/net/mraid08/export/genie/LabData/Data/MBPipeline/Hanson/tmp2/UNT/233750_FD1695.fastq.gz',\n",
       " '/net/mraid08/export/genie/LabData/Data/MBPipeline/Hanson/tmp2/UNT/744401_FD2106.fastq.gz',\n",
       " '/net/mraid08/export/genie/LabData/Data/MBPipeline/Hanson/tmp2/UNT/608664_FD1966.fastq.gz',\n",
       " '/net/mraid08/export/genie/LabData/Data/MBPipeline/Hanson/tmp2/UNT/822816_FD1673.fastq.gz',\n",
       " '/net/mraid08/export/genie/LabData/Data/MBPipeline/Hanson/tmp2/UNT/310386_FD1671.fastq.gz',\n",
       " '/net/mraid08/export/genie/LabData/Data/MBPipeline/Hanson/tmp2/UNT/118267_FD2283.fastq.gz',\n",
       " '/net/mraid08/export/genie/LabData/Data/MBPipeline/Hanson/tmp2/UNT/238360_FD1762.fastq.gz',\n",
       " '/net/mraid08/export/genie/LabData/Data/MBPipeline/Hanson/tmp2/UNT/716249_FD2149.fastq.gz',\n",
       " '/net/mraid08/export/genie/LabData/Data/MBPipeline/Hanson/tmp2/UNT/710879_FD2123.fastq.gz',\n",
       " '/net/mraid08/export/genie/LabData/Data/MBPipeline/Hanson/tmp2/UNT/886377_FD2039.fastq.gz',\n",
       " '/net/mraid08/export/genie/LabData/Data/MBPipeline/Hanson/tmp2/UNT/845571_FD1969.fastq.gz',\n",
       " '/net/mraid08/export/genie/LabData/Data/MBPipeline/Hanson/tmp2/UNT/59999_FD2080.fastq.gz',\n",
       " '/net/mraid08/export/genie/LabData/Data/MBPipeline/Hanson/tmp2/UNT/853979_FD1696.fastq.gz',\n",
       " '/net/mraid08/export/genie/LabData/Data/MBPipeline/Hanson/tmp2/UNT/286181_FD2151.fastq.gz',\n",
       " '/net/mraid08/export/genie/LabData/Data/MBPipeline/Hanson/tmp2/UNT/753117_FD2174.fastq.gz',\n",
       " '/net/mraid08/export/genie/LabData/Data/MBPipeline/Hanson/tmp2/UNT/9232_FD1975.fastq.gz',\n",
       " '/net/mraid08/export/genie/LabData/Data/MBPipeline/Hanson/tmp2/UNT/915236_FD2169.fastq.gz',\n",
       " '/net/mraid08/export/genie/LabData/Data/MBPipeline/Hanson/tmp2/UNT/918752_FD2227.fastq.gz',\n",
       " '/net/mraid08/export/genie/LabData/Data/MBPipeline/Hanson/tmp2/UNT/575537_FD1984.fastq.gz',\n",
       " '/net/mraid08/export/genie/LabData/Data/MBPipeline/Hanson/tmp2/UNT/570064_FD1776.fastq.gz',\n",
       " '/net/mraid08/export/genie/LabData/Data/MBPipeline/Hanson/tmp2/UNT/322778_FD2219.fastq.gz',\n",
       " '/net/mraid08/export/genie/LabData/Data/MBPipeline/Hanson/tmp2/UNT/839955_FD2078.fastq.gz',\n",
       " '/net/mraid08/export/genie/LabData/Data/MBPipeline/Hanson/tmp2/UNT/668846_FD2004.fastq.gz',\n",
       " '/net/mraid08/export/genie/LabData/Data/MBPipeline/Hanson/tmp2/UNT/959063_FD2274.fastq.gz',\n",
       " '/net/mraid08/export/genie/LabData/Data/MBPipeline/Hanson/tmp2/UNT/147945_FD1664.fastq.gz',\n",
       " '/net/mraid08/export/genie/LabData/Data/MBPipeline/Hanson/tmp2/UNT/246394_FD2135.fastq.gz',\n",
       " '/net/mraid08/export/genie/LabData/Data/MBPipeline/Hanson/tmp2/UNT/10260_FD2162.fastq.gz',\n",
       " '/net/mraid08/export/genie/LabData/Data/MBPipeline/Hanson/tmp2/UNT/292170_FD2560.fastq.gz',\n",
       " '/net/mraid08/export/genie/LabData/Data/MBPipeline/Hanson/tmp2/UNT/194880_FD1681.fastq.gz',\n",
       " '/net/mraid08/export/genie/LabData/Data/MBPipeline/Hanson/tmp2/UNT/751123_FD2265.fastq.gz',\n",
       " '/net/mraid08/export/genie/LabData/Data/MBPipeline/Hanson/tmp2/UNT/910555_FD2005.fastq.gz',\n",
       " '/net/mraid08/export/genie/LabData/Data/MBPipeline/Hanson/tmp2/UNT/648207_FD2028.fastq.gz',\n",
       " '/net/mraid08/export/genie/LabData/Data/MBPipeline/Hanson/tmp2/UNT/73708_FD2209.fastq.gz',\n",
       " '/net/mraid08/export/genie/LabData/Data/MBPipeline/Hanson/tmp2/UNT/240331_FD2214.fastq.gz',\n",
       " '/net/mraid08/export/genie/LabData/Data/MBPipeline/Hanson/tmp2/UNT/657716_FD2092.fastq.gz',\n",
       " '/net/mraid08/export/genie/LabData/Data/MBPipeline/Hanson/tmp2/UNT/246113_FD1672.fastq.gz',\n",
       " '/net/mraid08/export/genie/LabData/Data/MBPipeline/Hanson/tmp2/UNT/798029_FD2243.fastq.gz',\n",
       " '/net/mraid08/export/genie/LabData/Data/MBPipeline/Hanson/tmp2/UNT/714857_FD2015.fastq.gz',\n",
       " '/net/mraid08/export/genie/LabData/Data/MBPipeline/Hanson/tmp2/UNT/696665_FD2179.fastq.gz',\n",
       " '/net/mraid08/export/genie/LabData/Data/MBPipeline/Hanson/tmp2/UNT/676260_FD2171.fastq.gz',\n",
       " '/net/mraid08/export/genie/LabData/Data/MBPipeline/Hanson/tmp2/UNT/686559_FD2093.fastq.gz',\n",
       " '/net/mraid08/export/genie/LabData/Data/MBPipeline/Hanson/tmp2/UNT/122175_FD2034.fastq.gz',\n",
       " '/net/mraid08/export/genie/LabData/Data/MBPipeline/Hanson/tmp2/UNT/809743_FD2218.fastq.gz',\n",
       " '/net/mraid08/export/genie/LabData/Data/MBPipeline/Hanson/tmp2/UNT/960167_FD1688.fastq.gz',\n",
       " '/net/mraid08/export/genie/LabData/Data/MBPipeline/Hanson/tmp2/UNT/586592_FD2030.fastq.gz',\n",
       " '/net/mraid08/export/genie/LabData/Data/MBPipeline/Hanson/tmp2/UNT/173217_FD1972.fastq.gz',\n",
       " '/net/mraid08/export/genie/LabData/Data/MBPipeline/Hanson/tmp2/UNT/226899_FD2253.fastq.gz',\n",
       " '/net/mraid08/export/genie/LabData/Data/MBPipeline/Hanson/tmp2/UNT/14503_FD1991.fastq.gz',\n",
       " '/net/mraid08/export/genie/LabData/Data/MBPipeline/Hanson/tmp2/UNT/679672_FD2170.fastq.gz',\n",
       " '/net/mraid08/export/genie/LabData/Data/MBPipeline/Hanson/tmp2/UNT/16272_FD2189.fastq.gz',\n",
       " '/net/mraid08/export/genie/LabData/Data/MBPipeline/Hanson/tmp2/UNT/473081_FD2280.fastq.gz',\n",
       " '/net/mraid08/export/genie/LabData/Data/MBPipeline/Hanson/tmp2/UNT/302777_FD1710.fastq.gz',\n",
       " '/net/mraid08/export/genie/LabData/Data/MBPipeline/Hanson/tmp2/UNT/145276_FD2202.fastq.gz',\n",
       " '/net/mraid08/export/genie/LabData/Data/MBPipeline/Hanson/tmp2/UNT/511751_FD2271.fastq.gz',\n",
       " '/net/mraid08/export/genie/LabData/Data/MBPipeline/Hanson/tmp2/UNT/984125_FD2242.fastq.gz',\n",
       " '/net/mraid08/export/genie/LabData/Data/MBPipeline/Hanson/tmp2/UNT/767229_FD2192.fastq.gz',\n",
       " '/net/mraid08/export/genie/LabData/Data/MBPipeline/Hanson/tmp2/UNT/488394_FD2108.fastq.gz',\n",
       " '/net/mraid08/export/genie/LabData/Data/MBPipeline/Hanson/tmp2/UNT/97374_FD2089.fastq.gz',\n",
       " '/net/mraid08/export/genie/LabData/Data/MBPipeline/Hanson/tmp2/UNT/176981_FD2246.fastq.gz',\n",
       " '/net/mraid08/export/genie/LabData/Data/MBPipeline/Hanson/tmp2/UNT/78906_FD2074.fastq.gz',\n",
       " '/net/mraid08/export/genie/LabData/Data/MBPipeline/Hanson/tmp2/UNT/886445_FD2183.fastq.gz',\n",
       " '/net/mraid08/export/genie/LabData/Data/MBPipeline/Hanson/tmp2/UNT/212112_FD2023.fastq.gz',\n",
       " '/net/mraid08/export/genie/LabData/Data/MBPipeline/Hanson/tmp2/UNT/447925_FD2184.fastq.gz',\n",
       " '/net/mraid08/export/genie/LabData/Data/MBPipeline/Hanson/tmp2/UNT/622315_FD2210.fastq.gz',\n",
       " '/net/mraid08/export/genie/LabData/Data/MBPipeline/Hanson/tmp2/UNT/717229_FD2000.fastq.gz',\n",
       " '/net/mraid08/export/genie/LabData/Data/MBPipeline/Hanson/tmp2/UNT/126873_FD2261.fastq.gz',\n",
       " '/net/mraid08/export/genie/LabData/Data/MBPipeline/Hanson/tmp2/UNT/134681_FD1771.fastq.gz',\n",
       " '/net/mraid08/export/genie/LabData/Data/MBPipeline/Hanson/tmp2/UNT/427109_FD1765.fastq.gz',\n",
       " '/net/mraid08/export/genie/LabData/Data/MBPipeline/Hanson/tmp2/UNT/495816_FD2237.fastq.gz',\n",
       " '/net/mraid08/export/genie/LabData/Data/MBPipeline/Hanson/tmp2/UNT/259864_FD2072.fastq.gz',\n",
       " '/net/mraid08/export/genie/LabData/Data/MBPipeline/Hanson/tmp2/UNT/673709_FD1978.fastq.gz',\n",
       " '/net/mraid08/export/genie/LabData/Data/MBPipeline/Hanson/tmp2/UNT/298003_FD2148.fastq.gz',\n",
       " '/net/mraid08/export/genie/LabData/Data/MBPipeline/Hanson/tmp2/UNT/990858_FD1669.fastq.gz',\n",
       " '/net/mraid08/export/genie/LabData/Data/MBPipeline/Hanson/tmp2/UNT/292527_FD1982.fastq.gz',\n",
       " '/net/mraid08/export/genie/LabData/Data/MBPipeline/Hanson/tmp2/UNT/31167_FD2021.fastq.gz',\n",
       " '/net/mraid08/export/genie/LabData/Data/MBPipeline/Hanson/tmp2/UNT/428909_FD2144.fastq.gz',\n",
       " '/net/mraid08/export/genie/LabData/Data/MBPipeline/Hanson/tmp2/UNT/838013_FD1773.fastq.gz',\n",
       " '/net/mraid08/export/genie/LabData/Data/MBPipeline/Hanson/tmp2/UNT/791415_FD2262.fastq.gz',\n",
       " '/net/mraid08/export/genie/LabData/Data/MBPipeline/Hanson/tmp2/UNT/14438_FD2180.fastq.gz',\n",
       " '/net/mraid08/export/genie/LabData/Data/MBPipeline/Hanson/tmp2/UNT/387568_FD1974.fastq.gz',\n",
       " '/net/mraid08/export/genie/LabData/Data/MBPipeline/Hanson/tmp2/UNT/269338_FD2096.fastq.gz',\n",
       " '/net/mraid08/export/genie/LabData/Data/MBPipeline/Hanson/tmp2/UNT/976142_FD1676.fastq.gz',\n",
       " '/net/mraid08/export/genie/LabData/Data/MBPipeline/Hanson/tmp2/UNT/235990_FD1760.fastq.gz',\n",
       " '/net/mraid08/export/genie/LabData/Data/MBPipeline/Hanson/tmp2/UNT/734348_FD2190.fastq.gz',\n",
       " '/net/mraid08/export/genie/LabData/Data/MBPipeline/Hanson/tmp2/UNT/450561_FD2139.fastq.gz',\n",
       " '/net/mraid08/export/genie/LabData/Data/MBPipeline/Hanson/tmp2/UNT/5563_FD1692.fastq.gz',\n",
       " '/net/mraid08/export/genie/LabData/Data/MBPipeline/Hanson/tmp2/UNT/177429_FD1687.fastq.gz',\n",
       " '/net/mraid08/export/genie/LabData/Data/MBPipeline/Hanson/tmp2/UNT/206832_FD1999.fastq.gz',\n",
       " '/net/mraid08/export/genie/LabData/Data/MBPipeline/Hanson/tmp2/UNT/127686_FD2126.fastq.gz',\n",
       " '/net/mraid08/export/genie/LabData/Data/MBPipeline/Hanson/tmp2/UNT/188687_FD2193.fastq.gz',\n",
       " '/net/mraid08/export/genie/LabData/Data/MBPipeline/Hanson/tmp2/UNT/465047_FD2035.fastq.gz',\n",
       " '/net/mraid08/export/genie/LabData/Data/MBPipeline/Hanson/tmp2/UNT/595162_FD2187.fastq.gz',\n",
       " '/net/mraid08/export/genie/LabData/Data/MBPipeline/Hanson/tmp2/UNT/735006_FD2196.fastq.gz',\n",
       " '/net/mraid08/export/genie/LabData/Data/MBPipeline/Hanson/tmp2/UNT/31879_FD1774.fastq.gz',\n",
       " '/net/mraid08/export/genie/LabData/Data/MBPipeline/Hanson/tmp2/UNT/31711_FD2221.fastq.gz',\n",
       " '/net/mraid08/export/genie/LabData/Data/MBPipeline/Hanson/tmp2/UNT/134713_FD2222.fastq.gz',\n",
       " '/net/mraid08/export/genie/LabData/Data/MBPipeline/Hanson/tmp2/UNT/136573_FD2011.fastq.gz',\n",
       " '/net/mraid08/export/genie/LabData/Data/MBPipeline/Hanson/tmp2/UNT/983922_FD1763.fastq.gz',\n",
       " '/net/mraid08/export/genie/LabData/Data/MBPipeline/Hanson/tmp2/UNT/383645_FD2281.fastq.gz',\n",
       " '/net/mraid08/export/genie/LabData/Data/MBPipeline/Hanson/tmp2/UNT/875939_FD1968.fastq.gz',\n",
       " '/net/mraid08/export/genie/LabData/Data/MBPipeline/Hanson/tmp2/UNT/258169_FD1679.fastq.gz',\n",
       " '/net/mraid08/export/genie/LabData/Data/MBPipeline/Hanson/tmp2/UNT/425056_FD1990.fastq.gz',\n",
       " '/net/mraid08/export/genie/LabData/Data/MBPipeline/Hanson/tmp2/UNT/775470_FD2159.fastq.gz',\n",
       " '/net/mraid08/export/genie/LabData/Data/MBPipeline/Hanson/tmp2/UNT/209749_FD2009.fastq.gz',\n",
       " '/net/mraid08/export/genie/LabData/Data/MBPipeline/Hanson/tmp2/UNT/794507_FD2264.fastq.gz',\n",
       " '/net/mraid08/export/genie/LabData/Data/MBPipeline/Hanson/tmp2/UNT/432868_FD2197.fastq.gz',\n",
       " '/net/mraid08/export/genie/LabData/Data/MBPipeline/Hanson/tmp2/UNT/300385_FD2001.fastq.gz',\n",
       " '/net/mraid08/export/genie/LabData/Data/MBPipeline/Hanson/tmp2/UNT/490022_FD2012.fastq.gz',\n",
       " '/net/mraid08/export/genie/LabData/Data/MBPipeline/Hanson/tmp2/UNT/751226_FD2031.fastq.gz',\n",
       " '/net/mraid08/export/genie/LabData/Data/MBPipeline/Hanson/tmp2/UNT/793333_FD2241.fastq.gz',\n",
       " '/net/mraid08/export/genie/LabData/Data/MBPipeline/Hanson/tmp2/UNT/22435_FD2076.fastq.gz',\n",
       " '/net/mraid08/export/genie/LabData/Data/MBPipeline/Hanson/tmp2/UNT/394512_FD2273.fastq.gz',\n",
       " '/net/mraid08/export/genie/LabData/Data/MBPipeline/Hanson/tmp2/UNT/896602_FD2279.fastq.gz',\n",
       " '/net/mraid08/export/genie/LabData/Data/MBPipeline/Hanson/tmp2/UNT/91018_FD2177.fastq.gz',\n",
       " '/net/mraid08/export/genie/LabData/Data/MBPipeline/Hanson/tmp2/UNT/825381_FD2217.fastq.gz',\n",
       " '/net/mraid08/export/genie/LabData/Data/MBPipeline/Hanson/tmp2/UNT/863270_FD2220.fastq.gz',\n",
       " '/net/mraid08/export/genie/LabData/Data/MBPipeline/Hanson/tmp2/UNT/185604_FD2036.fastq.gz',\n",
       " '/net/mraid08/export/genie/LabData/Data/MBPipeline/Hanson/tmp2/UNT/494090_FD2158.fastq.gz',\n",
       " '/net/mraid08/export/genie/LabData/Data/MBPipeline/Hanson/tmp2/UNT/186325_FD1965.fastq.gz',\n",
       " '/net/mraid08/export/genie/LabData/Data/MBPipeline/Hanson/tmp2/UNT/563447_FD1683.fastq.gz',\n",
       " '/net/mraid08/export/genie/LabData/Data/MBPipeline/Hanson/tmp2/UNT/231371_FD2157.fastq.gz',\n",
       " '/net/mraid08/export/genie/LabData/Data/MBPipeline/Hanson/tmp2/UNT/213134_FD2081.fastq.gz',\n",
       " '/net/mraid08/export/genie/LabData/Data/MBPipeline/Hanson/tmp2/UNT/712917_FD2116.fastq.gz',\n",
       " '/net/mraid08/export/genie/LabData/Data/MBPipeline/Hanson/tmp2/UNT/824963_FD2228.fastq.gz',\n",
       " '/net/mraid08/export/genie/LabData/Data/MBPipeline/Hanson/tmp2/UNT/172024_FD2215.fastq.gz',\n",
       " '/net/mraid08/export/genie/LabData/Data/MBPipeline/Hanson/tmp2/UNT/494199_FD2258.fastq.gz',\n",
       " '/net/mraid08/export/genie/LabData/Data/MBPipeline/Hanson/tmp2/UNT/545959_FD2198.fastq.gz',\n",
       " '/net/mraid08/export/genie/LabData/Data/MBPipeline/Hanson/tmp2/UNT/640068_FD1684.fastq.gz',\n",
       " '/net/mraid08/export/genie/LabData/Data/MBPipeline/Hanson/tmp2/UNT/854016_FD1704.fastq.gz',\n",
       " '/net/mraid08/export/genie/LabData/Data/MBPipeline/Hanson/tmp2/UNT/107014_FD1693.fastq.gz',\n",
       " '/net/mraid08/export/genie/LabData/Data/MBPipeline/Hanson/tmp2/UNT/970394_FD2256.fastq.gz',\n",
       " '/net/mraid08/export/genie/LabData/Data/MBPipeline/Hanson/tmp2/UNT/33683_FD2252.fastq.gz',\n",
       " '/net/mraid08/export/genie/LabData/Data/MBPipeline/Hanson/tmp2/UNT/830870_FD2142.fastq.gz',\n",
       " '/net/mraid08/export/genie/LabData/Data/MBPipeline/Hanson/tmp2/UNT/154058_FD2107.fastq.gz',\n",
       " '/net/mraid08/export/genie/LabData/Data/MBPipeline/Hanson/tmp2/UNT/505393_FD1988.fastq.gz',\n",
       " '/net/mraid08/export/genie/LabData/Data/MBPipeline/Hanson/tmp2/UNT/600376_FD2251.fastq.gz',\n",
       " '/net/mraid08/export/genie/LabData/Data/MBPipeline/Hanson/tmp2/UNT/131386_FD2206.fastq.gz',\n",
       " '/net/mraid08/export/genie/LabData/Data/MBPipeline/Hanson/tmp2/UNT/513800_FD2006.fastq.gz',\n",
       " '/net/mraid08/export/genie/LabData/Data/MBPipeline/Hanson/tmp2/UNT/783100_FD2071.fastq.gz',\n",
       " '/net/mraid08/export/genie/LabData/Data/MBPipeline/Hanson/tmp2/UNT/452664_FD1957.fastq.gz',\n",
       " '/net/mraid08/export/genie/LabData/Data/MBPipeline/Hanson/tmp2/UNT/896200_FD1700.fastq.gz',\n",
       " '/net/mraid08/export/genie/LabData/Data/MBPipeline/Hanson/tmp2/UNT/23170_FD1761.fastq.gz',\n",
       " '/net/mraid08/export/genie/LabData/Data/MBPipeline/Hanson/tmp2/UNT/151995_FD1709.fastq.gz',\n",
       " '/net/mraid08/export/genie/LabData/Data/MBPipeline/Hanson/tmp2/UNT/244004_FD2156.fastq.gz',\n",
       " '/net/mraid08/export/genie/LabData/Data/MBPipeline/Hanson/tmp2/UNT/512306_FD2115.fastq.gz',\n",
       " '/net/mraid08/export/genie/LabData/Data/MBPipeline/Hanson/tmp2/UNT/574534_FD2090.fastq.gz',\n",
       " '/net/mraid08/export/genie/LabData/Data/MBPipeline/Hanson/tmp2/UNT/233870_FD1675.fastq.gz',\n",
       " '/net/mraid08/export/genie/LabData/Data/MBPipeline/Hanson/tmp2/UNT/29444_FD1983.fastq.gz',\n",
       " '/net/mraid08/export/genie/LabData/Data/MBPipeline/Hanson/tmp2/UNT/576328_FD2208.fastq.gz',\n",
       " '/net/mraid08/export/genie/LabData/Data/MBPipeline/Hanson/tmp2/UNT/309775_FD2087.fastq.gz',\n",
       " '/net/mraid08/export/genie/LabData/Data/MBPipeline/Hanson/tmp2/UNT/437762_FD2150.fastq.gz',\n",
       " '/net/mraid08/export/genie/LabData/Data/MBPipeline/Hanson/tmp2/UNT/625043_FD2014.fastq.gz',\n",
       " '/net/mraid08/export/genie/LabData/Data/MBPipeline/Hanson/tmp2/UNT/885099_FD2143.fastq.gz',\n",
       " '/net/mraid08/export/genie/LabData/Data/MBPipeline/Hanson/tmp2/UNT/829203_FD1979.fastq.gz',\n",
       " '/net/mraid08/export/genie/LabData/Data/MBPipeline/Hanson/tmp2/UNT/892458_FD1768.fastq.gz',\n",
       " '/net/mraid08/export/genie/LabData/Data/MBPipeline/Hanson/tmp2/UNT/517605_FD2025.fastq.gz',\n",
       " '/net/mraid08/export/genie/LabData/Data/MBPipeline/Hanson/tmp2/UNT/804434_FD1667.fastq.gz',\n",
       " '/net/mraid08/export/genie/LabData/Data/MBPipeline/Hanson/tmp2/UNT/362185_FD2077.fastq.gz',\n",
       " '/net/mraid08/export/genie/LabData/Data/MBPipeline/Hanson/tmp2/UNT/612014_FD2185.fastq.gz',\n",
       " '/net/mraid08/export/genie/LabData/Data/MBPipeline/Hanson/tmp2/UNT/816311_FD2133.fastq.gz',\n",
       " '/net/mraid08/export/genie/LabData/Data/MBPipeline/Hanson/tmp2/UNT/110706_FD2124.fastq.gz',\n",
       " '/net/mraid08/export/genie/LabData/Data/MBPipeline/Hanson/tmp2/UNT/524392_FD2167.fastq.gz',\n",
       " '/net/mraid08/export/genie/LabData/Data/MBPipeline/Hanson/tmp2/UNT/278425_FD2132.fastq.gz',\n",
       " '/net/mraid08/export/genie/LabData/Data/MBPipeline/Hanson/tmp2/UNT/659088_FD2032.fastq.gz',\n",
       " '/net/mraid08/export/genie/LabData/Data/MBPipeline/Hanson/tmp2/UNT/509361_FD2267.fastq.gz',\n",
       " '/net/mraid08/export/genie/LabData/Data/MBPipeline/Hanson/tmp2/UNT/551784_FD1998.fastq.gz',\n",
       " '/net/mraid08/export/genie/LabData/Data/MBPipeline/Hanson/tmp2/UNT/988824_FD2282.fastq.gz',\n",
       " '/net/mraid08/export/genie/LabData/Data/MBPipeline/Hanson/tmp2/UNT/573568_FD2097.fastq.gz',\n",
       " '/net/mraid08/export/genie/LabData/Data/MBPipeline/Hanson/tmp2/UNT/357003_FD2165.fastq.gz',\n",
       " '/net/mraid08/export/genie/LabData/Data/MBPipeline/Hanson/tmp2/UNT/266926_FD2263.fastq.gz',\n",
       " '/net/mraid08/export/genie/LabData/Data/MBPipeline/Hanson/tmp2/UNT/579217_FD1685.fastq.gz',\n",
       " '/net/mraid08/export/genie/LabData/Data/MBPipeline/Hanson/tmp2/UNT/534299_FD2130.fastq.gz',\n",
       " '/net/mraid08/export/genie/LabData/Data/MBPipeline/Hanson/tmp2/UNT/285502_FD2272.fastq.gz',\n",
       " '/net/mraid08/export/genie/LabData/Data/MBPipeline/Hanson/tmp2/UNT/666325_FD1686.fastq.gz',\n",
       " '/net/mraid08/export/genie/LabData/Data/MBPipeline/Hanson/tmp2/UNT/297099_FD2003.fastq.gz',\n",
       " '/net/mraid08/export/genie/LabData/Data/MBPipeline/Hanson/tmp2/UNT/879971_FD2248.fastq.gz',\n",
       " '/net/mraid08/export/genie/LabData/Data/MBPipeline/Hanson/tmp2/UNT/531583_FD2277.fastq.gz',\n",
       " '/net/mraid08/export/genie/LabData/Data/MBPipeline/Hanson/tmp2/UNT/159363_FD2216.fastq.gz',\n",
       " '/net/mraid08/export/genie/LabData/Data/MBPipeline/Hanson/tmp2/UNT/301591_FD2238.fastq.gz',\n",
       " '/net/mraid08/export/genie/LabData/Data/MBPipeline/Hanson/tmp2/UNT/768726_FD1777.fastq.gz',\n",
       " '/net/mraid08/export/genie/LabData/Data/MBPipeline/Hanson/tmp2/UNT/875714_FD2281.fastq.gz',\n",
       " '/net/mraid08/export/genie/LabData/Data/MBPipeline/Hanson/tmp2/UNT/102855_FD2104.fastq.gz',\n",
       " '/net/mraid08/export/genie/LabData/Data/MBPipeline/Hanson/tmp2/UNT/881600_FD1986.fastq.gz',\n",
       " '/net/mraid08/export/genie/LabData/Data/MBPipeline/Hanson/tmp2/UNT/632150_FD1670.fastq.gz',\n",
       " '/net/mraid08/export/genie/LabData/Data/MBPipeline/Hanson/tmp2/UNT/94137_FD2224.fastq.gz',\n",
       " '/net/mraid08/export/genie/LabData/Data/MBPipeline/Hanson/tmp2/UNT/65532_FD2013.fastq.gz',\n",
       " '/net/mraid08/export/genie/LabData/Data/MBPipeline/Hanson/tmp2/UNT/117735_FD2163.fastq.gz',\n",
       " '/net/mraid08/export/genie/LabData/Data/MBPipeline/Hanson/tmp2/UNT/894480_FD2029.fastq.gz',\n",
       " '/net/mraid08/export/genie/LabData/Data/MBPipeline/Hanson/tmp2/UNT/700926_FD2182.fastq.gz',\n",
       " '/net/mraid08/export/genie/LabData/Data/MBPipeline/Hanson/tmp2/UNT/483743_FD1767.fastq.gz',\n",
       " '/net/mraid08/export/genie/LabData/Data/MBPipeline/Hanson/tmp2/UNT/232275_FD2095.fastq.gz',\n",
       " '/net/mraid08/export/genie/LabData/Data/MBPipeline/Hanson/tmp2/UNT/773526_FD2186.fastq.gz',\n",
       " '/net/mraid08/export/genie/LabData/Data/MBPipeline/Hanson/tmp2/UNT/356589_FD2200.fastq.gz',\n",
       " '/net/mraid08/export/genie/LabData/Data/MBPipeline/Hanson/tmp2/UNT/869143_FD2268.fastq.gz',\n",
       " '/net/mraid08/export/genie/LabData/Data/MBPipeline/Hanson/tmp2/UNT/337374_FD2234.fastq.gz',\n",
       " '/net/mraid08/export/genie/LabData/Data/MBPipeline/Hanson/tmp2/UNT/835069_FD1666.fastq.gz',\n",
       " '/net/mraid08/export/genie/LabData/Data/MBPipeline/Hanson/tmp2/UNT/898339_FD2145.fastq.gz',\n",
       " '/net/mraid08/export/genie/LabData/Data/MBPipeline/Hanson/tmp2/UNT/383294_FD2088.fastq.gz',\n",
       " '/net/mraid08/export/genie/LabData/Data/MBPipeline/Hanson/tmp2/UNT/167084_FD2147.fastq.gz',\n",
       " '/net/mraid08/export/genie/LabData/Data/MBPipeline/Hanson/tmp2/UNT/789535_FD1987.fastq.gz',\n",
       " '/net/mraid08/export/genie/LabData/Data/MBPipeline/Hanson/tmp2/UNT/38238_FD1994.fastq.gz',\n",
       " '/net/mraid08/export/genie/LabData/Data/MBPipeline/Hanson/tmp2/UNT/413136_FD2231.fastq.gz',\n",
       " '/net/mraid08/export/genie/LabData/Data/MBPipeline/Hanson/tmp2/UNT/978471_FD2140.fastq.gz',\n",
       " '/net/mraid08/export/genie/LabData/Data/MBPipeline/Hanson/tmp2/UNT/801774_FD2075.fastq.gz',\n",
       " '/net/mraid08/export/genie/LabData/Data/MBPipeline/Hanson/tmp2/UNT/149023_FD2103.fastq.gz',\n",
       " '/net/mraid08/export/genie/LabData/Data/MBPipeline/Hanson/tmp2/UNT/738601_FD1769.fastq.gz',\n",
       " '/net/mraid08/export/genie/LabData/Data/MBPipeline/Hanson/tmp2/UNT/794868_FD2141.fastq.gz',\n",
       " '/net/mraid08/export/genie/LabData/Data/MBPipeline/Hanson/tmp2/UNT/470132_FD1989.fastq.gz',\n",
       " '/net/mraid08/export/genie/LabData/Data/MBPipeline/Hanson/tmp2/UNT/765352_FD2125.fastq.gz',\n",
       " '/net/mraid08/export/genie/LabData/Data/MBPipeline/Hanson/tmp2/UNT/609258_FD2260.fastq.gz',\n",
       " '/net/mraid08/export/genie/LabData/Data/MBPipeline/Hanson/tmp2/UNT/279690_FD2019.fastq.gz',\n",
       " '/net/mraid08/export/genie/LabData/Data/MBPipeline/Hanson/tmp2/UNT/388380_FD2129.fastq.gz',\n",
       " '/net/mraid08/export/genie/LabData/Data/MBPipeline/Hanson/tmp2/UNT/621285_FD2188.fastq.gz',\n",
       " '/net/mraid08/export/genie/LabData/Data/MBPipeline/Hanson/tmp2/UNT/89724_FD2131.fastq.gz',\n",
       " '/net/mraid08/export/genie/LabData/Data/MBPipeline/Hanson/tmp2/UNT/975553_FD2027.fastq.gz',\n",
       " '/net/mraid08/export/genie/LabData/Data/MBPipeline/Hanson/tmp2/UNT/543407_FD2105.fastq.gz',\n",
       " '/net/mraid08/export/genie/LabData/Data/MBPipeline/Hanson/tmp2/UNT/139025_FD2205.fastq.gz',\n",
       " '/net/mraid08/export/genie/LabData/Data/MBPipeline/Hanson/tmp2/UNT/450464_FD1668.fastq.gz',\n",
       " '/net/mraid08/export/genie/LabData/Data/MBPipeline/Hanson/tmp2/UNT/514717_FD1680.fastq.gz',\n",
       " '/net/mraid08/export/genie/LabData/Data/MBPipeline/Hanson/tmp2/UNT/220290_FD2155.fastq.gz',\n",
       " '/net/mraid08/export/genie/LabData/Data/MBPipeline/Hanson/tmp2/UNT/299910_FD1985.fastq.gz',\n",
       " '/net/mraid08/export/genie/LabData/Data/MBPipeline/Hanson/tmp2/UNT/8323_FD1678.fastq.gz',\n",
       " '/net/mraid08/export/genie/LabData/Data/MBPipeline/Hanson/tmp2/UNT/486795_FD2136.fastq.gz',\n",
       " '/net/mraid08/export/genie/LabData/Data/MBPipeline/Hanson/tmp2/UNT/603127_FD2236.fastq.gz',\n",
       " '/net/mraid08/export/genie/LabData/Data/MBPipeline/Hanson/tmp2/UNT/911573_FD2008.fastq.gz',\n",
       " '/net/mraid08/export/genie/LabData/Data/MBPipeline/Hanson/tmp2/UNT/724858_FD2240.fastq.gz',\n",
       " '/net/mraid08/export/genie/LabData/Data/MBPipeline/Hanson/tmp2/UNT/200731_FD2110.fastq.gz',\n",
       " '/net/mraid08/export/genie/LabData/Data/MBPipeline/Hanson/tmp2/UNT/318800_FD1703.fastq.gz',\n",
       " '/net/mraid08/export/genie/LabData/Data/MBPipeline/Hanson/tmp2/UNT/394567_FD2266.fastq.gz',\n",
       " '/net/mraid08/export/genie/LabData/Data/MBPipeline/Hanson/tmp2/UNT/541611_FD1964.fastq.gz',\n",
       " '/net/mraid08/export/genie/LabData/Data/MBPipeline/Hanson/tmp2/UNT/405347_FD1701.fastq.gz',\n",
       " '/net/mraid08/export/genie/LabData/Data/MBPipeline/Hanson/tmp2/UNT/854649_FD1993.fastq.gz',\n",
       " '/net/mraid08/export/genie/LabData/Data/MBPipeline/Hanson/tmp2/UNT/189120_FD2178.fastq.gz',\n",
       " '/net/mraid08/export/genie/LabData/Data/MBPipeline/Hanson/tmp2/UNT/304470_FD2119.fastq.gz',\n",
       " '/net/mraid08/export/genie/LabData/Data/MBPipeline/Hanson/tmp2/UNT/434033_FD2038.fastq.gz',\n",
       " '/net/mraid08/export/genie/LabData/Data/MBPipeline/Hanson/tmp2/UNT/641913_FD2194.fastq.gz',\n",
       " '/net/mraid08/export/genie/LabData/Data/MBPipeline/Hanson/tmp2/UNT/47260_FD1699.fastq.gz',\n",
       " '/net/mraid08/export/genie/LabData/Data/MBPipeline/Hanson/tmp2/UNT/696622_FD2176.fastq.gz',\n",
       " '/net/mraid08/export/genie/LabData/Data/MBPipeline/Hanson/tmp2/UNT/168329_FD2257.fastq.gz',\n",
       " '/net/mraid08/export/genie/LabData/Data/MBPipeline/Hanson/tmp2/UNT/300177_FD2086.fastq.gz',\n",
       " '/net/mraid08/export/genie/LabData/Data/MBPipeline/Hanson/tmp2/UNT/500213_FD2249.fastq.gz',\n",
       " '/net/mraid08/export/genie/LabData/Data/MBPipeline/Hanson/tmp2/UNT/181904_FD2226.fastq.gz',\n",
       " '/net/mraid08/export/genie/LabData/Data/MBPipeline/Hanson/tmp2/UNT/614435_FD2269.fastq.gz',\n",
       " '/net/mraid08/export/genie/LabData/Data/MBPipeline/Hanson/tmp2/UNT/772203_FD2138.fastq.gz',\n",
       " '/net/mraid08/export/genie/LabData/Data/MBPipeline/Hanson/tmp2/UNT/536967_FD2230.fastq.gz',\n",
       " '/net/mraid08/export/genie/LabData/Data/MBPipeline/Hanson/tmp2/UNT/297494_FD2010.fastq.gz',\n",
       " '/net/mraid08/export/genie/LabData/Data/MBPipeline/Hanson/tmp2/UNT/608989_FD1697.fastq.gz',\n",
       " '/net/mraid08/export/genie/LabData/Data/MBPipeline/Hanson/tmp2/UNT/122295_FD2278.fastq.gz',\n",
       " '/net/mraid08/export/genie/LabData/Data/MBPipeline/Hanson/tmp2/UNT/602955_FD1691.fastq.gz',\n",
       " '/net/mraid08/export/genie/LabData/Data/MBPipeline/Hanson/tmp2/UNT/601478_FD2100.fastq.gz',\n",
       " '/net/mraid08/export/genie/LabData/Data/MBPipeline/Hanson/tmp2/UNT/190310_FD2094.fastq.gz',\n",
       " '/net/mraid08/export/genie/LabData/Data/MBPipeline/Hanson/tmp2/UNT/177240_FD2223.fastq.gz',\n",
       " '/net/mraid08/export/genie/LabData/Data/MBPipeline/Hanson/tmp2/UNT/214227_FD2137.fastq.gz',\n",
       " '/net/mraid08/export/genie/LabData/Data/MBPipeline/Hanson/tmp2/UNT/200752_FD2275.fastq.gz',\n",
       " '/net/mraid08/export/genie/LabData/Data/MBPipeline/Hanson/tmp2/UNT/678210_FD2134.fastq.gz',\n",
       " '/net/mraid08/export/genie/LabData/Data/MBPipeline/Hanson/tmp2/UNT/516096_FD1971.fastq.gz',\n",
       " '/net/mraid08/export/genie/LabData/Data/MBPipeline/Hanson/tmp2/UNT/274466_FD1764.fastq.gz']"
      ]
     },
     "execution_count": 30,
     "metadata": {},
     "output_type": "execute_result"
    }
   ],
   "source": [
    "pnp_files"
   ]
  },
  {
   "cell_type": "code",
   "execution_count": null,
   "metadata": {},
   "outputs": [],
   "source": []
  }
 ],
 "metadata": {
  "kernelspec": {
   "display_name": "Python 3",
   "language": "python",
   "name": "python3"
  },
  "language_info": {
   "codemirror_mode": {
    "name": "ipython",
    "version": 3
   },
   "file_extension": ".py",
   "mimetype": "text/x-python",
   "name": "python",
   "nbconvert_exporter": "python",
   "pygments_lexer": "ipython3",
   "version": "3.7.4"
  },
  "toc": {
   "nav_menu": {},
   "number_sections": true,
   "sideBar": true,
   "skip_h1_title": false,
   "toc_cell": false,
   "toc_position": {},
   "toc_section_display": "block",
   "toc_window_display": false
  }
 },
 "nbformat": 4,
 "nbformat_minor": 4
}
