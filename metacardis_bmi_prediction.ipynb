{
 "cells": [
  {
   "cell_type": "markdown",
   "metadata": {},
   "source": [
    "# setup"
   ]
  },
  {
   "cell_type": "code",
   "execution_count": 2,
   "metadata": {
    "ExecuteTime": {
     "end_time": "2021-06-17T10:41:29.419680Z",
     "start_time": "2021-06-17T10:41:21.667491Z"
    }
   },
   "outputs": [],
   "source": [
    "%load_ext autoreload\n",
    "%autoreload 2\n",
    "%matplotlib inline\n",
    "\n",
    "from MetabolomicsPaper.GeneralHelperFunctions import *\n",
    "# from ACSPaper.Matching import *\n",
    "from ACSPaper.ACSPaperUtils import *\n",
    "from sklearn.metrics import roc_curve, auc\n",
    "import shap\n",
    "from sklearn.model_selection import train_test_split\n",
    "from statsmodels.regression.linear_model import OLS\n",
    "\n",
    "paper_dir = '/net/mraid08/export/jafar/Microbiome/Analyses/Noamba/Cardio/ACS_study/v2/'\n",
    "curr_dir = os.path.join(paper_dir, 'metacardis_metabolomics_model_of_bmi')\n",
    "make_dir_if_not_exists(curr_dir)\n",
    "os.chdir(paper_dir)"
   ]
  },
  {
   "cell_type": "code",
   "execution_count": 4,
   "metadata": {
    "ExecuteTime": {
     "end_time": "2021-06-17T10:41:29.539117Z",
     "start_time": "2021-06-17T10:41:29.483275Z"
    }
   },
   "outputs": [],
   "source": [
    "learning_rate = [0.1, 0.05, 0.02, 0.015, 0.01, 0.0075, 0.005, 0.002, 0.001, 0.0005, 0.0001]\n",
    "num_leaves = range(2, 35)\n",
    "max_depth = [-1, 2, 3, 4, 5, 10, 20, 40, 50]\n",
    "min_data_in_leaf = range(1, 45, 2)\n",
    "feature_fraction = [i / 10. for i in range(2, 11)]  # [1] when using dummy variables\n",
    "metric = ['l2']\n",
    "early_stopping_rounds = [None]\n",
    "# early_stopping_rounds = [10, 20, 50]\n",
    "num_threads = [1]\n",
    "verbose = [-1]\n",
    "silent = [True]\n",
    "n_estimators = range(100, 500, 50)\n",
    "bagging_fraction = [i / 10. for i in range(2, 11)]\n",
    "bagging_freq = [0, 1, 2]\n",
    "lambda_l1 = [0, 0.001, 0.005, 0.01, 0.1]\n",
    "\n",
    "# Lasso params\n",
    "alpha = [1e-6, 5e-6, 1e-5, 5e-5, 1e-4, 5e-4, 1e-3, 5e-3, 1e-2, 0.02, 0.05, 0.1, 0.2, 0.3, 0.4, 0.5, 0.6, 0.7, 0.8, 1]\n",
    "\n",
    "\n",
    "lightgbm_rscv_space = {'learning_rate': learning_rate, 'max_depth': max_depth,\n",
    "                       'feature_fraction': feature_fraction, 'num_leaves': num_leaves,\n",
    "                       'min_data_in_leaf': min_data_in_leaf, 'metric': metric,\n",
    "                       'early_stopping_rounds': early_stopping_rounds, 'n_estimators': n_estimators,\n",
    "                       'bagging_fraction': bagging_fraction, 'bagging_freq': bagging_freq,\n",
    "                       'num_threads': num_threads, 'verbose': verbose, 'silent': silent, 'lambda_l1': lambda_l1}"
   ]
  },
  {
   "cell_type": "markdown",
   "metadata": {},
   "source": [
    "# load data"
   ]
  },
  {
   "cell_type": "code",
   "execution_count": 70,
   "metadata": {
    "ExecuteTime": {
     "end_time": "2021-06-20T07:32:19.311066Z",
     "start_time": "2021-06-20T07:32:19.236901Z"
    },
    "collapsed": true
   },
   "outputs": [
    {
     "data": {
      "text/html": [
       "<div>\n",
       "<style scoped>\n",
       "    .dataframe tbody tr th:only-of-type {\n",
       "        vertical-align: middle;\n",
       "    }\n",
       "\n",
       "    .dataframe tbody tr th {\n",
       "        vertical-align: top;\n",
       "    }\n",
       "\n",
       "    .dataframe thead th {\n",
       "        text-align: right;\n",
       "    }\n",
       "</style>\n",
       "<table border=\"1\" class=\"dataframe\">\n",
       "  <thead>\n",
       "    <tr style=\"text-align: right;\">\n",
       "      <th></th>\n",
       "      <th>BIOCHEMICAL</th>\n",
       "      <th>Logit coef</th>\n",
       "      <th>Logit pval</th>\n",
       "      <th>Logit 0.025</th>\n",
       "      <th>Logit 0.975</th>\n",
       "      <th>directional pval</th>\n",
       "      <th>Enriched in ACS</th>\n",
       "      <th>Logit qval</th>\n",
       "      <th>CHEMICAL_ID</th>\n",
       "    </tr>\n",
       "  </thead>\n",
       "  <tbody>\n",
       "    <tr>\n",
       "      <th>0</th>\n",
       "      <td>cysteine s-sulfate</td>\n",
       "      <td>-2.943906</td>\n",
       "      <td>1.050314e-12</td>\n",
       "      <td>0.023427</td>\n",
       "      <td>0.118369</td>\n",
       "      <td>-11.978681</td>\n",
       "      <td>False</td>\n",
       "      <td>6.143040e-10</td>\n",
       "      <td>100000808</td>\n",
       "    </tr>\n",
       "    <tr>\n",
       "      <th>1</th>\n",
       "      <td>ferulic acid 4-sulfate</td>\n",
       "      <td>-0.752640</td>\n",
       "      <td>1.624564e-12</td>\n",
       "      <td>0.382326</td>\n",
       "      <td>0.580540</td>\n",
       "      <td>-11.789263</td>\n",
       "      <td>False</td>\n",
       "      <td>6.143040e-10</td>\n",
       "      <td>100005389</td>\n",
       "    </tr>\n",
       "    <tr>\n",
       "      <th>2</th>\n",
       "      <td>3-hydroxy-2-methylpyridine sulfate</td>\n",
       "      <td>-0.540083</td>\n",
       "      <td>3.080473e-12</td>\n",
       "      <td>0.500641</td>\n",
       "      <td>0.678210</td>\n",
       "      <td>-11.511383</td>\n",
       "      <td>False</td>\n",
       "      <td>6.143040e-10</td>\n",
       "      <td>X - 12329</td>\n",
       "    </tr>\n",
       "    <tr>\n",
       "      <th>3</th>\n",
       "      <td>X - 12007</td>\n",
       "      <td>-1.160462</td>\n",
       "      <td>3.080997e-12</td>\n",
       "      <td>0.226141</td>\n",
       "      <td>0.434167</td>\n",
       "      <td>-11.511309</td>\n",
       "      <td>False</td>\n",
       "      <td>6.143040e-10</td>\n",
       "      <td>X - 12007</td>\n",
       "    </tr>\n",
       "    <tr>\n",
       "      <th>4</th>\n",
       "      <td>salicyluric glucuronide*</td>\n",
       "      <td>0.941731</td>\n",
       "      <td>3.202836e-12</td>\n",
       "      <td>1.967690</td>\n",
       "      <td>3.342110</td>\n",
       "      <td>11.494465</td>\n",
       "      <td>True</td>\n",
       "      <td>6.143040e-10</td>\n",
       "      <td>100001332</td>\n",
       "    </tr>\n",
       "    <tr>\n",
       "      <th>...</th>\n",
       "      <td>...</td>\n",
       "      <td>...</td>\n",
       "      <td>...</td>\n",
       "      <td>...</td>\n",
       "      <td>...</td>\n",
       "      <td>...</td>\n",
       "      <td>...</td>\n",
       "      <td>...</td>\n",
       "      <td>...</td>\n",
       "    </tr>\n",
       "    <tr>\n",
       "      <th>954</th>\n",
       "      <td>2-aminobutyrate</td>\n",
       "      <td>-0.004783</td>\n",
       "      <td>9.821021e-01</td>\n",
       "      <td>0.655317</td>\n",
       "      <td>1.511452</td>\n",
       "      <td>-0.007843</td>\n",
       "      <td>False</td>\n",
       "      <td>9.862156e-01</td>\n",
       "      <td>1128</td>\n",
       "    </tr>\n",
       "    <tr>\n",
       "      <th>955</th>\n",
       "      <td>Fibrinopeptide A (4-15)**</td>\n",
       "      <td>0.002054</td>\n",
       "      <td>9.857484e-01</td>\n",
       "      <td>0.799890</td>\n",
       "      <td>1.255318</td>\n",
       "      <td>0.006234</td>\n",
       "      <td>True</td>\n",
       "      <td>9.888418e-01</td>\n",
       "      <td>Fibrinopeptide A (4-15)**</td>\n",
       "    </tr>\n",
       "    <tr>\n",
       "      <th>956</th>\n",
       "      <td>indolepropionate</td>\n",
       "      <td>-0.000446</td>\n",
       "      <td>9.968297e-01</td>\n",
       "      <td>0.802336</td>\n",
       "      <td>1.245251</td>\n",
       "      <td>-0.001379</td>\n",
       "      <td>False</td>\n",
       "      <td>9.989129e-01</td>\n",
       "      <td>100001083</td>\n",
       "    </tr>\n",
       "    <tr>\n",
       "      <th>957</th>\n",
       "      <td>fexofenadine</td>\n",
       "      <td>7.548402</td>\n",
       "      <td>9.991080e-01</td>\n",
       "      <td>0.000000</td>\n",
       "      <td>inf</td>\n",
       "      <td>0.000388</td>\n",
       "      <td>True</td>\n",
       "      <td>9.999898e-01</td>\n",
       "      <td>100004018</td>\n",
       "    </tr>\n",
       "    <tr>\n",
       "      <th>958</th>\n",
       "      <td>carboxyibuprofen</td>\n",
       "      <td>26.272422</td>\n",
       "      <td>9.999898e-01</td>\n",
       "      <td>0.000000</td>\n",
       "      <td>inf</td>\n",
       "      <td>0.000004</td>\n",
       "      <td>True</td>\n",
       "      <td>9.999898e-01</td>\n",
       "      <td>100004171</td>\n",
       "    </tr>\n",
       "  </tbody>\n",
       "</table>\n",
       "<p>959 rows × 9 columns</p>\n",
       "</div>"
      ],
      "text/plain": [
       "                            BIOCHEMICAL  Logit coef    Logit pval  \\\n",
       "0                    cysteine s-sulfate   -2.943906  1.050314e-12   \n",
       "1                ferulic acid 4-sulfate   -0.752640  1.624564e-12   \n",
       "2    3-hydroxy-2-methylpyridine sulfate   -0.540083  3.080473e-12   \n",
       "3                             X - 12007   -1.160462  3.080997e-12   \n",
       "4              salicyluric glucuronide*    0.941731  3.202836e-12   \n",
       "..                                  ...         ...           ...   \n",
       "954                     2-aminobutyrate   -0.004783  9.821021e-01   \n",
       "955           Fibrinopeptide A (4-15)**    0.002054  9.857484e-01   \n",
       "956                    indolepropionate   -0.000446  9.968297e-01   \n",
       "957                        fexofenadine    7.548402  9.991080e-01   \n",
       "958                    carboxyibuprofen   26.272422  9.999898e-01   \n",
       "\n",
       "     Logit 0.025  Logit 0.975  directional pval  Enriched in ACS  \\\n",
       "0       0.023427     0.118369        -11.978681            False   \n",
       "1       0.382326     0.580540        -11.789263            False   \n",
       "2       0.500641     0.678210        -11.511383            False   \n",
       "3       0.226141     0.434167        -11.511309            False   \n",
       "4       1.967690     3.342110         11.494465             True   \n",
       "..           ...          ...               ...              ...   \n",
       "954     0.655317     1.511452         -0.007843            False   \n",
       "955     0.799890     1.255318          0.006234             True   \n",
       "956     0.802336     1.245251         -0.001379            False   \n",
       "957     0.000000          inf          0.000388             True   \n",
       "958     0.000000          inf          0.000004             True   \n",
       "\n",
       "       Logit qval                CHEMICAL_ID  \n",
       "0    6.143040e-10                  100000808  \n",
       "1    6.143040e-10                  100005389  \n",
       "2    6.143040e-10                  X - 12329  \n",
       "3    6.143040e-10                  X - 12007  \n",
       "4    6.143040e-10                  100001332  \n",
       "..            ...                        ...  \n",
       "954  9.862156e-01                       1128  \n",
       "955  9.888418e-01  Fibrinopeptide A (4-15)**  \n",
       "956  9.989129e-01                  100001083  \n",
       "957  9.999898e-01                  100004018  \n",
       "958  9.999898e-01                  100004171  \n",
       "\n",
       "[959 rows x 9 columns]"
      ]
     },
     "execution_count": 70,
     "metadata": {},
     "output_type": "execute_result"
    }
   ],
   "source": [
    "metabolon_res = pd.read_csv(os.path.join(paper_dir, 'metacardis_replications', 'ACS-nonACS_metabolite_enrichments_full.csv'))\n",
    "metabolon_res"
   ]
  },
  {
   "cell_type": "code",
   "execution_count": 79,
   "metadata": {
    "ExecuteTime": {
     "end_time": "2021-06-20T07:40:26.910287Z",
     "start_time": "2021-06-20T07:40:23.744710Z"
    }
   },
   "outputs": [
    {
     "data": {
      "text/plain": [
       "IHD372     319\n",
       "HC275      275\n",
       "MMC269     218\n",
       "UMCC222    211\n",
       "Name: Group, dtype: int64"
      ]
     },
     "execution_count": 79,
     "metadata": {},
     "output_type": "execute_result"
    }
   ],
   "source": [
    "metacardis_dir = os.path.join('/net/mraid08/export/jafar/Microbiome/Analyses/Noamba/MetaCardis')\n",
    "metacardis_X_path = os.path.join(metacardis_dir, 'dataframes', 'mb_diet_covariates_drugs_group.csv')\n",
    "metacardis_diabetes_path = os.path.join(metacardis_dir, 'dataframes', 'MetaCardis_DiabetesRelatedVar_KC_230521.csv')\n",
    "# os.listdir(os.path.join(metacardis_dir, 'metabolomics', 'metabolon'))\n",
    "metacardis_X = pd.read_csv(metacardis_X_path, index_col=0).replace({'nan': np.nan})\n",
    "metacardis_diabetes = pd.read_csv(metacardis_diabetes_path, index_col=0).replace({'Yes':1, 'No':0})\n",
    "metacardis_diabetes.index.names = ['SampleID']\n",
    "metacardis_X_age_bmi = metacardis_X[['AGE', 'BMI_C', 'Group']].join(metacardis_diabetes).copy()\n",
    "\n",
    "# metacardis_metabolomics_path = os.path.join(metacardis_dir, 'metabolomics', 'metabolon', 'ShortlistedMetabolonMetabolites_rawdata_MC_forSHAP_KC_200521.csv')\n",
    "# metacardis_metabolomics = pd.read_csv(metacardis_metabolomics_path, index_col=0)\n",
    "# metacardis_metabolomics = metacardis_metabolomics.rename(columns={k:k.replace('9999', 'X - ') for k in metacardis_metabolomics.columns})\n",
    "# metacardis_serum_metabolomics = metacardis_metabolomics.drop(['Status', 'MC_ID'], axis=1).groupby('ID').first()\n",
    "\n",
    "metacardis_metabolomics_path = os.path.join(metacardis_dir, 'metabolomics', 'metabolon', 'MC_Metabolites1513datafileSHAP_forNoam_KC_030621.csv')\n",
    "metacardis_metabolomics = pd.read_csv(metacardis_metabolomics_path, index_col=0)\n",
    "metacardis_metabolomics = metacardis_metabolomics.rename(columns={k:k.replace('9999', 'X - ').replace('X-', 'X - ') for k in metacardis_metabolomics.columns}).dropna(how='all', axis=0).dropna(how='all', axis=1)\n",
    "metacardis_metabolomics = metacardis_metabolomics.reindex(metabolon_res.BIOCHEMICAL, axis=1).dropna(how='all', axis=1).groupby('Names').first()\n",
    "metacardis_serum_metabolomics = metacardis_metabolomics.apply(lambda x: (x-x.median())/x.std())\n",
    "metacardis_serum_metabolomics = metacardis_serum_metabolomics.T.groupby('BIOCHEMICAL').first().T\n",
    "metacardis_serum_metabolomics.rename(columns=metabolon_res.set_index('BIOCHEMICAL')['CHEMICAL_ID'].to_dict(), inplace=True)\n",
    "metacardis_serum_metabolomics.index.names = ['ID']\n",
    "\n",
    "# print (set([s.split('___')[0] for s in metacardis_metabolomics.columns]))\n",
    "# metacardis_serum_metabolomics = metacardis_metabolomics.loc[:, ['urine' not in s.split('___')[0] for s in metacardis_metabolomics.columns]].dropna()\n",
    "# # metacardis_serum_metabolomics = metacardis_metabolomics.filter(regex='hub.lipo.samples.v3.r')\n",
    "full_index = list(set(metacardis_serum_metabolomics.index).intersection(set(metacardis_X_age_bmi.index)))\n",
    "metacardis_serum_metabolomics, metacardis_X_age_bmi = metacardis_serum_metabolomics.loc[full_index].astype(float), metacardis_X_age_bmi.loc[full_index]\n",
    "metacardis_serum_metabolomics.index.names = ['SampleID']\n",
    "metacardis_X_age_bmi.Group.value_counts()"
   ]
  },
  {
   "cell_type": "markdown",
   "metadata": {},
   "source": [
    "# Prediction model"
   ]
  },
  {
   "cell_type": "code",
   "execution_count": 81,
   "metadata": {
    "ExecuteTime": {
     "end_time": "2021-06-20T07:40:31.448261Z",
     "start_time": "2021-06-20T07:40:31.401224Z"
    }
   },
   "outputs": [],
   "source": [
    "metacardis_dir = os.path.join(curr_dir, 'Train-Test')\n",
    "make_dir_if_not_exists(metacardis_dir)"
   ]
  },
  {
   "cell_type": "code",
   "execution_count": 82,
   "metadata": {
    "ExecuteTime": {
     "end_time": "2021-06-20T07:41:37.520016Z",
     "start_time": "2021-06-20T07:40:32.989870Z"
    }
   },
   "outputs": [
    {
     "name": "stdout",
     "output_type": "stream",
     "text": [
      "metabolon\n",
      "healthy X (704, 859) ACS X (319, 859)\n",
      "AGE cont (704, 859)\n",
      "train-test shapes: (385, 859) (319, 859)\n"
     ]
    },
    {
     "name": "stderr",
     "output_type": "stream",
     "text": [
      "Found `early_stopping_rounds` in params. Will use it instead of argument\n",
      "Found `early_stopping_rounds` in params. Will use it instead of argument\n",
      "Found `early_stopping_rounds` in params. Will use it instead of argument\n",
      "Found `early_stopping_rounds` in params. Will use it instead of argument\n",
      "Found `early_stopping_rounds` in params. Will use it instead of argument\n",
      "Found `early_stopping_rounds` in params. Will use it instead of argument\n",
      "Found `early_stopping_rounds` in params. Will use it instead of argument\n",
      "Found `early_stopping_rounds` in params. Will use it instead of argument\n",
      "Found `early_stopping_rounds` in params. Will use it instead of argument\n",
      "Found `early_stopping_rounds` in params. Will use it instead of argument\n",
      "Found `early_stopping_rounds` in params. Will use it instead of argument\n",
      "Found `early_stopping_rounds` in params. Will use it instead of argument\n",
      "Found `early_stopping_rounds` in params. Will use it instead of argument\n",
      "Found `early_stopping_rounds` in params. Will use it instead of argument\n",
      "Found `early_stopping_rounds` in params. Will use it instead of argument\n",
      "Found `early_stopping_rounds` in params. Will use it instead of argument\n",
      "Setting feature_perturbation = \"tree_path_dependent\" because no background data was given.\n"
     ]
    },
    {
     "name": "stdout",
     "output_type": "stream",
     "text": [
      "BMI_C cont (702, 859)\n",
      "train-test shapes: (383, 859) (319, 859)\n"
     ]
    },
    {
     "name": "stderr",
     "output_type": "stream",
     "text": [
      "Found `early_stopping_rounds` in params. Will use it instead of argument\n",
      "Found `early_stopping_rounds` in params. Will use it instead of argument\n",
      "Found `early_stopping_rounds` in params. Will use it instead of argument\n",
      "Found `early_stopping_rounds` in params. Will use it instead of argument\n",
      "Found `early_stopping_rounds` in params. Will use it instead of argument\n",
      "Found `early_stopping_rounds` in params. Will use it instead of argument\n",
      "Found `early_stopping_rounds` in params. Will use it instead of argument\n",
      "Found `early_stopping_rounds` in params. Will use it instead of argument\n",
      "Found `early_stopping_rounds` in params. Will use it instead of argument\n",
      "Found `early_stopping_rounds` in params. Will use it instead of argument\n",
      "Found `early_stopping_rounds` in params. Will use it instead of argument\n",
      "Found `early_stopping_rounds` in params. Will use it instead of argument\n",
      "Found `early_stopping_rounds` in params. Will use it instead of argument\n",
      "Found `early_stopping_rounds` in params. Will use it instead of argument\n",
      "Found `early_stopping_rounds` in params. Will use it instead of argument\n",
      "Found `early_stopping_rounds` in params. Will use it instead of argument\n",
      "Setting feature_perturbation = \"tree_path_dependent\" because no background data was given.\n"
     ]
    }
   ],
   "source": [
    "models, healthy_pred_age_sex_bmi_dict, acs_pred_age_sex_bmi_dict, acs_Xs, healthy_Xs, healthy_shap_values_dic, acs_shap_values_dic = {}, {}, {}, {}, {}, {}, {}\n",
    "\n",
    "for data_name, data_cols in zip(['metabolon'], [metacardis_serum_metabolomics.columns.tolist()]):\n",
    "    print (data_name)\n",
    "    make_dir_if_not_exists(os.path.join(metacardis_dir, data_name))\n",
    "    \n",
    "#     temp_X = metacardis_serum_metabolomics.loc[(metacardis_X_age_bmi.Group == 'HC275') | (metacardis_X_age_bmi.Group == 'UMCC222')].copy()\n",
    "#     temp_X = metacardis_serum_metabolomics.loc[(metacardis_X_age_bmi.Group == 'HC275') | (metacardis_X_age_bmi.Group == 'MMC269')].copy()\n",
    "#     temp_X = metacardis_serum_metabolomics.loc[(metacardis_X_age_bmi.Group == 'HC275')].copy()\n",
    "    temp_X = metacardis_serum_metabolomics.loc[metacardis_X_age_bmi.Group != 'IHD372'].copy()\n",
    "    temp_X_acs = metacardis_serum_metabolomics.loc[metacardis_X_age_bmi.Group == 'IHD372'].copy()\n",
    "    y_age = metacardis_X_age_bmi.loc[temp_X.index]['AGE'].dropna()\n",
    "    y_bmi = metacardis_X_age_bmi.loc[temp_X.index]['BMI_C'].dropna()\n",
    "    y_age_acs = metacardis_X_age_bmi.loc[temp_X_acs.index]['AGE'].dropna()\n",
    "    y_bmi_acs = metacardis_X_age_bmi.loc[temp_X_acs.index]['BMI_C'].dropna()\n",
    "    \n",
    "    healthy_pred_age_sex_bmi = pd.DataFrame(np.nan, index=temp_X.index, columns=['AGE', 'BMI_C'])\n",
    "    acs_pred_age_sex_bmi = pd.DataFrame(np.nan, index=temp_X_acs.index, columns=['AGE', 'BMI_C'])\n",
    "\n",
    "    print ('healthy X', temp_X.shape, 'ACS X', temp_X_acs.shape)\n",
    "    acs_Xs[data_name] = temp_X_acs.copy()\n",
    "    healthy_Xs[data_name] = {}\n",
    "    \n",
    "    healthy_shap_values_dic[data_name] = {}\n",
    "    acs_shap_values_dic[data_name] = {}\n",
    "    \n",
    "    models[data_name] = {}\n",
    "\n",
    "    for target, X, y, mode in zip(['AGE', 'BMI_C'], \n",
    "                                  [temp_X.merge(y_age, on='SampleID').drop('AGE', axis=1),\n",
    "                                   temp_X.merge(y_bmi, on='SampleID').drop('BMI_C', axis=1)],\n",
    "                                  [temp_X.merge(y_age, on='SampleID')['AGE'], temp_X.merge(y_bmi, on='SampleID')['BMI_C']],\n",
    "                                  ['cont', 'cont']):\n",
    "        healthy_Xs[data_name][target] = X.copy()\n",
    "        \n",
    "        acs_shap_values_dic[data_name][target] = pd.DataFrame(0, index=temp_X_acs.index, columns=temp_X_acs.columns)\n",
    "        print (target, mode, X.shape)\n",
    "\n",
    "        train_idx, test_idx = train_test_split(X.index, test_size=temp_X_acs.shape[0], random_state=0)\n",
    "        X_train, X_test, y_train, y_test = X.loc[train_idx], X.loc[test_idx], y.loc[train_idx], y.loc[test_idx]\n",
    "        print ('train-test shapes:', X_train.shape, X_test.shape)\n",
    "        healthy_shap_values_dic[data_name][target] = pd.DataFrame(np.nan, index=X_test.index, columns=X_test.columns)\n",
    "\n",
    "        if mode == 'cont':\n",
    "            model = lgb.LGBMRegressor()\n",
    "            rscv = RandomizedSearchCV(model, lightgbm_rscv_space, n_iter=5, cv=3, random_state=0)\n",
    "            rscv.fit(X_train.rename(columns={k:0 for k in X_train.columns}), y_train)\n",
    "\n",
    "            y_pred = rscv.best_estimator_.predict(X_test)\n",
    "            healthy_pred_age_sex_bmi.loc[X_test.index, target] = y_pred\n",
    "\n",
    "            y_pred = rscv.best_estimator_.predict(temp_X_acs)\n",
    "            acs_pred_age_sex_bmi.loc[temp_X_acs.index, target] = y_pred\n",
    "\n",
    "            explainer = shap.TreeExplainer(rscv.best_estimator_)\n",
    "            try:\n",
    "                # changed on 3.10.2018, last column is the bias column\n",
    "                healthy_shap_values_dic[data_name][target].loc[X_test.index, :] = explainer.shap_values(X_test)\n",
    "                acs_shap_values_dic[data_name][target].loc[temp_X_acs.index, :] = explainer.shap_values(temp_X_acs)\n",
    "            except:\n",
    "                healthy_shap_values_dic[data_name][target].loc[X_test.index, :] = explainer.shap_values(X_test)[:, :-1]\n",
    "                acs_shap_values_dic[data_name][target].loc[temp_X_acs.index, :] = explainer.shap_values(temp_X_acs)[:, :-1]\n",
    "\n",
    "    \n",
    "    healthy_pred_age_sex_bmi.to_csv(os.path.join(metacardis_dir, data_name, 'healthy_pred_age_sex_bmi.csv'))\n",
    "    acs_pred_age_sex_bmi = acs_pred_age_sex_bmi.replace(0, np.nan)\n",
    "    acs_pred_age_sex_bmi.to_csv(os.path.join(metacardis_dir, data_name, 'acs_pred_age_sex_bmi.csv'))\n",
    "    healthy_pred_age_sex_bmi_dict[data_name] = healthy_pred_age_sex_bmi.copy()\n",
    "    acs_pred_age_sex_bmi_dict[data_name] = acs_pred_age_sex_bmi.copy()\n",
    "with open(os.path.join(metacardis_dir, 'models.pkl'), 'wb') as handle:\n",
    "    pickle.dump(models, handle)\n",
    "with open(os.path.join(metacardis_dir, 'acs_Xs.pkl'), 'wb') as handle:\n",
    "    pickle.dump(acs_Xs, handle)\n",
    "with open(os.path.join(metacardis_dir, 'healthy_Xs.pkl'), 'wb') as handle:\n",
    "    pickle.dump(healthy_Xs, handle)\n",
    "with open(os.path.join(metacardis_dir, 'acs_shap_values_dic.pkl'), 'wb') as handle:\n",
    "    pickle.dump(acs_shap_values_dic, handle)\n",
    "with open(os.path.join(metacardis_dir, 'healthy_shap_values_dic.pkl'), 'wb') as handle:\n",
    "    pickle.dump(healthy_shap_values_dic, handle)"
   ]
  },
  {
   "cell_type": "code",
   "execution_count": 23,
   "metadata": {
    "ExecuteTime": {
     "end_time": "2021-05-27T06:26:52.627292Z",
     "start_time": "2021-05-27T06:26:51.859890Z"
    }
   },
   "outputs": [],
   "source": [
    "with open(os.path.join(metacardis_dir, 'models.pkl'), 'rb') as handle:\n",
    "    models = pickle.load(handle)\n",
    "with open(os.path.join(metacardis_dir, 'acs_Xs.pkl'), 'rb') as handle:\n",
    "    acs_Xs = pickle.load(handle)\n",
    "with open(os.path.join(metacardis_dir, 'healthy_Xs.pkl'), 'rb') as handle:\n",
    "    healthy_Xs = pickle.load(handle)\n",
    "with open(os.path.join(metacardis_dir, 'acs_shap_values_dic.pkl'), 'rb') as handle:\n",
    "    acs_shap_values_dic = pickle.load(handle)\n",
    "with open(os.path.join(metacardis_dir, 'healthy_shap_values_dic.pkl'), 'rb') as handle:\n",
    "    healthy_shap_values_dic = pickle.load(handle)"
   ]
  },
  {
   "cell_type": "code",
   "execution_count": 83,
   "metadata": {
    "ExecuteTime": {
     "end_time": "2021-06-20T07:41:38.819658Z",
     "start_time": "2021-06-20T07:41:38.354856Z"
    }
   },
   "outputs": [],
   "source": [
    "acs_bmi_diffs = pd.Series(acs_pred_age_sex_bmi_dict['metabolon'].loc[y_bmi_acs.index, 'BMI_C'].values - y_bmi_acs.values, index=y_bmi_acs.index, name='acs bmi diffs')\n",
    "metacardis_X_age_bmi.loc[acs_bmi_diffs.index, 'acs bmi diffs'] = acs_bmi_diffs.values\n",
    "metacardis_X_age_bmi['const'] = 1"
   ]
  },
  {
   "cell_type": "code",
   "execution_count": 84,
   "metadata": {
    "ExecuteTime": {
     "end_time": "2021-06-20T07:41:41.901041Z",
     "start_time": "2021-06-20T07:41:41.789150Z"
    }
   },
   "outputs": [
    {
     "name": "stderr",
     "output_type": "stream",
     "text": [
      "This function will be removed in tqdm==5.0.0\n",
      "Please use `tqdm.notebook.tqdm` instead of `tqdm.tqdm_notebook`\n"
     ]
    },
    {
     "data": {
      "application/vnd.jupyter.widget-view+json": {
       "model_id": "37b6d28a138949708c7706a6a4655135",
       "version_major": 2,
       "version_minor": 0
      },
      "text/plain": [
       "HBox(children=(FloatProgress(value=0.0, max=1.0), HTML(value='')))"
      ]
     },
     "metadata": {},
     "output_type": "display_data"
    },
    {
     "name": "stdout",
     "output_type": "stream",
     "text": [
      "\n"
     ]
    },
    {
     "data": {
      "text/html": [
       "<div>\n",
       "<style scoped>\n",
       "    .dataframe tbody tr th:only-of-type {\n",
       "        vertical-align: middle;\n",
       "    }\n",
       "\n",
       "    .dataframe tbody tr th {\n",
       "        vertical-align: top;\n",
       "    }\n",
       "\n",
       "    .dataframe thead th {\n",
       "        text-align: right;\n",
       "    }\n",
       "</style>\n",
       "<table border=\"1\" class=\"dataframe\">\n",
       "  <thead>\n",
       "    <tr style=\"text-align: right;\">\n",
       "      <th></th>\n",
       "      <th>coef</th>\n",
       "      <th>pval</th>\n",
       "      <th>0.025</th>\n",
       "      <th>0.975</th>\n",
       "      <th>log</th>\n",
       "    </tr>\n",
       "  </thead>\n",
       "  <tbody>\n",
       "    <tr>\n",
       "      <th>DiabetesStatus</th>\n",
       "      <td>1.12892</td>\n",
       "      <td>0.0017909</td>\n",
       "      <td>1.04619</td>\n",
       "      <td>1.21818</td>\n",
       "      <td>&lt;statsmodels.discrete.discrete_model.BinaryRes...</td>\n",
       "    </tr>\n",
       "  </tbody>\n",
       "</table>\n",
       "</div>"
      ],
      "text/plain": [
       "                   coef       pval    0.025    0.975  \\\n",
       "DiabetesStatus  1.12892  0.0017909  1.04619  1.21818   \n",
       "\n",
       "                                                              log  \n",
       "DiabetesStatus  <statsmodels.discrete.discrete_model.BinaryRes...  "
      ]
     },
     "execution_count": 84,
     "metadata": {},
     "output_type": "execute_result"
    }
   ],
   "source": [
    "# data = acs_data[(acs_data['bmi']<30) & (acs_data['Glucose Disorder: DM2'] == 0) & (acs_data['Glucose Disorder: DM1'] == 0)].copy()\n",
    "data = metacardis_X_age_bmi.dropna(subset=['acs bmi diffs']).copy()\n",
    "# print(data.shape)\n",
    "covariates = ['BMI_C', 'const', 'AGE']\n",
    "# covariates = ['bmi', 'const', 'Age']\n",
    "col = 'acs bmi diffs'\n",
    "use_covariates = True\n",
    "ys = ['DiabetesStatus']\n",
    "data['const'] = 1\n",
    "\n",
    "logs = pd.DataFrame(index=ys, columns=['Logit'])\n",
    "columns = ['coef', 'pval', '0.025', '0.975', 'log']\n",
    "logit_results = pd.DataFrame(index=ys, columns=columns)\n",
    "\n",
    "for y in tqdm_notebook(ys):\n",
    "    if covariates:\n",
    "        try:\n",
    "            log = Logit(data[y].astype(float), \n",
    "                                    data.reindex([col] + covariates, axis=1), missing='drop').fit(disp=0)\n",
    "            logit_results.loc[y, 'coef'] = np.exp(log.params.loc[col])\n",
    "            logit_results.loc[y, 'pval'] = log.pvalues.loc[col]\n",
    "            logit_results.loc[y, '0.025'], logit_results.loc[y, '0.975'] = log.conf_int().loc[col].apply(np.exp).values\n",
    "            logit_results.loc[y, 'log'] = log\n",
    "        except:\n",
    "            pass\n",
    "    else:\n",
    "        pass\n",
    "    \n",
    "# covariates = ['bmi', 'const', 'Age']\n",
    "# ys = ['Glucose Disorder: DM2']\n",
    "\n",
    "# logs = pd.DataFrame(index=ys, columns=['Logit'])\n",
    "# columns = ['coef', 'pval', '0.025', '0.975', 'log']\n",
    "\n",
    "# for y in tqdm_notebook(ys):\n",
    "#     if covariates:\n",
    "#         try:\n",
    "#             log = Logit(data[y].astype(float), \n",
    "#                                     data.loc[:, [col] + covariates], missing='drop').fit(disp=0)\n",
    "#             logit_results.loc[y, 'coef'] = np.exp(log.params.loc[col])\n",
    "#             logit_results.loc[y, 'pval'] = log.pvalues.loc[col]\n",
    "#             logit_results.loc[y, '0.025'], logit_results.loc[y, '0.975'] = log.conf_int().loc[col].apply(np.exp).values\n",
    "#             logit_results.loc[y, 'log'] = log\n",
    "#         except:\n",
    "#             pass\n",
    "#     else:\n",
    "#         pass\n",
    "logit_results = logit_results.dropna()\n",
    "logit_results"
   ]
  },
  {
   "cell_type": "markdown",
   "metadata": {},
   "source": [
    "# Plot"
   ]
  },
  {
   "cell_type": "code",
   "execution_count": 86,
   "metadata": {
    "ExecuteTime": {
     "end_time": "2021-06-20T07:42:14.136493Z",
     "start_time": "2021-06-20T07:42:10.350898Z"
    }
   },
   "outputs": [
    {
     "name": "stderr",
     "output_type": "stream",
     "text": [
      "Pass the following variables as keyword args: x, y. From version 0.12, the only valid positional argument will be `data`, and passing other arguments without an explicit keyword will result in an error or misinterpretation.\n",
      "Pass the following variables as keyword args: x, y. From version 0.12, the only valid positional argument will be `data`, and passing other arguments without an explicit keyword will result in an error or misinterpretation.\n"
     ]
    },
    {
     "data": {
      "image/png": "[encoded data removed]",
      "text/plain": [
       "<Figure size 1080x360 with 3 Axes>"
      ]
     },
     "metadata": {
      "needs_background": "light"
     },
     "output_type": "display_data"
    }
   ],
   "source": [
    "fig, axes = plt.subplots(1, 3, figsize=(15, 5))\n",
    "labels_fontsize = 20\n",
    "tick_fontsize = 15\n",
    "show_r2 = False\n",
    "colors = sns.color_palette('Paired', 10)\n",
    "\n",
    "def pearsonr_rmna_return_r(x, y):\n",
    "    return pearsonr_rmna(x, y)[0]\n",
    "\n",
    "if show_r2:\n",
    "    method = r2_score_rmna\n",
    "    r2_label = '$R^2$'\n",
    "else:\n",
    "    method = pearsonr_rmna_return_r\n",
    "    r2_label = '$R$'\n",
    "\n",
    "\n",
    "\n",
    "# age_bins = [35, 40, 50, 60, 70]\n",
    "bmi_bins = [15, 25, 30, 60]\n",
    "\n",
    "ax = axes[0]\n",
    "y, yy = y_bmi, healthy_pred_age_sex_bmi.loc[y_bmi.index, 'BMI_C']\n",
    "r2 = method(y, yy)\n",
    "sns.regplot(y, yy, color=healthy_color, label='HC,MMC,UMCC %s=%0.2f'%(r2_label, r2), ax=ax, scatter_kws={'alpha':0.7})\n",
    "y, yy = y_bmi_acs, acs_pred_age_sex_bmi.loc[y_bmi_acs.index, 'BMI_C']\n",
    "r2 = method(y, yy)\n",
    "sns.regplot(y, yy, color=acs_color, label='IHD %s=%0.2f'%(r2_label, r2), ax=ax, scatter_kws={'alpha':0.7})\n",
    "ax.plot([15, 50], [15, 50], '--', color='grey')\n",
    "ax.set_xlim((15, 50))\n",
    "ax.set_ylim((15, 50))\n",
    "ax.set_xlabel('Measured BMI', fontsize=labels_fontsize)\n",
    "ax.set_ylabel('Predicted BMI', fontsize=labels_fontsize)\n",
    "ax.tick_params(labelsize=tick_fontsize)\n",
    "ax.legend(loc='lower right', fontsize=tick_fontsize)\n",
    "\n",
    "ax = axes[1]\n",
    "df = pd.DataFrame(index=y_bmi.index.tolist() + y_bmi_acs.index.tolist(), columns=['x', 'y', 'z'])\n",
    "y, yy = y_bmi, healthy_pred_age_sex_bmi.loc[y_bmi.index, 'BMI_C'].values - y_bmi.values\n",
    "df.loc[y_bmi.index, 'x'] = y.values\n",
    "df.loc[y_bmi.index, 'y'] = yy\n",
    "df.loc[y_bmi.index, 'z'] = 'HC,MMC,UMCC'\n",
    "y, yy = y_bmi_acs, acs_pred_age_sex_bmi.loc[y_bmi_acs.index, 'BMI_C'].values - y_bmi_acs.values\n",
    "df.loc[y_bmi_acs.index, 'x'] = y.values\n",
    "df.loc[y_bmi_acs.index, 'y'] = yy\n",
    "df.loc[y_bmi_acs.index, 'z'] = 'IHD'\n",
    "\n",
    "df['x'] = df['x'].astype(float)\n",
    "df['y'] = df['y'].astype(float)\n",
    "df['bin'] = pd.cut(df.x, bmi_bins)\n",
    "df = df.sort_values(['z', 'bin'])\n",
    "bmi_diff_bins = df.dropna().copy()\n",
    "# bmi_diff_bins['bin'] = bmi_diff_bins['bin'].dropna().astype(str).replace({'(20, 25]':'<25', '(25, 30]':'25-30', '(30, 35]':'30-35', '(35, 40]':'>35'})\n",
    "bmi_diff_bins['bin'] = bmi_diff_bins['bin'].dropna().astype(str).replace({'(15, 25]':'<25', '(25, 30]':'25-30', '(30, 60]':'>30'})\n",
    "sns.boxplot(x='bin', y='y', data=bmi_diff_bins, hue='z', ax=ax, palette=[healthy_color, acs_color], showfliers=False)\n",
    "\n",
    "ax.set_xlabel('Measured BMI bin', fontsize=labels_fontsize)\n",
    "ax.set_ylabel('Difference between predicted\\nand measured BMI', fontsize=labels_fontsize)\n",
    "ax.tick_params(labelsize=tick_fontsize)\n",
    "ax.legend(loc='lower left', fontsize=tick_fontsize)\n",
    "ax.set_ylim((-20, 20))\n",
    "\n",
    "for b, xx in zip(bmi_diff_bins['bin'].unique(), [0, 1, 2]):\n",
    "    x, y = bmi_diff_bins[(bmi_diff_bins['z'] == 'HC,MMC,UMCC') & (bmi_diff_bins['bin'].astype(str) == b)].dropna()['y'], \\\n",
    "           bmi_diff_bins[(bmi_diff_bins['z'] == 'IHD') & (bmi_diff_bins['bin'].astype(str) == b)].dropna()['y']\n",
    "    t, p = directed_mannwhitneyu(x, y)\n",
    "    ax.text(xx, 17,  'p=%0.1g'%p, ha='center', fontsize=tick_fontsize)\n",
    "    ax.hlines(y=16, xmin=xx-0.3, xmax=xx+0.3, linewidth=2, color='black')\n",
    "    \n",
    "ax = axes[2]\n",
    "c = 'DiabetesStatus'\n",
    "data['bmi bin'] = pd.cut(data['BMI_C'], bmi_bins).astype(str).replace({'(15, 25]':'<25', '(25, 30]':'25-30', '(30, 60]':'>30'})\n",
    "sns.boxplot(x='bmi bin', y='acs bmi diffs', data=data.sort_values('BMI_C').replace({c:{0:'Normoglycemic', 1:'T2DM'}}), ax=ax, palette=colors, \n",
    "            hue=c, showfliers=False)\n",
    "ax.set_xlabel('Measured BMI bin', fontsize=labels_fontsize)\n",
    "ax.set_ylabel('Difference between predicted\\nand measured BMI', fontsize=labels_fontsize)\n",
    "leg = ax.legend(loc='lower left', fontsize=tick_fontsize, title='')\n",
    "leg.get_title().set_fontsize(str(tick_fontsize))\n",
    "ax.tick_params(labelsize=tick_fontsize)\n",
    "ax.set_yticks([-10, -5, 0, 5, 10, 15])\n",
    "add_text_at_corner(ax, 'OR=%0.2f (%0.2f-%0.2f), p=%0.1g'%(logit_results.loc[c, 'coef'], logit_results.loc[c, '0.025'], \n",
    "                                                          logit_results.loc[c, '0.975'] ,logit_results.loc[c, 'pval']), 'top left', fontsize=tick_fontsize)    \n",
    "    \n",
    "fig.tight_layout()\n",
    "plt.text(-0.15, 1.0, 'a', ha='center', va='center', transform=axes[0].transAxes, fontsize=30, weight = 'bold')\n",
    "plt.text(-0.15, 1.0, 'b', ha='center', va='center', transform=axes[1].transAxes, fontsize=30, weight = 'bold')\n",
    "plt.text(-0.15, 1.0, 'c', ha='center', va='center', transform=axes[2].transAxes, fontsize=30, weight = 'bold')\n",
    "\n",
    "plt.savefig(os.path.join(metacardis_dir, 'ExtendedDataFigure_MetaCardis_a-c.png'), dpi=300, bbox_inches='tight')\n",
    "plt.savefig(os.path.join(metacardis_dir, 'ExtendedDataFigure_MetaCardis_a-c.pdf'), dpi=300, bbox_inches='tight')"
   ]
  },
  {
   "cell_type": "markdown",
   "metadata": {},
   "source": [
    "# SHAP"
   ]
  },
  {
   "cell_type": "code",
   "execution_count": 87,
   "metadata": {
    "ExecuteTime": {
     "end_time": "2021-06-20T07:42:25.000682Z",
     "start_time": "2021-06-20T07:42:16.793047Z"
    }
   },
   "outputs": [
    {
     "data": {
      "text/plain": [
       "78"
      ]
     },
     "execution_count": 87,
     "metadata": {},
     "output_type": "execute_result"
    }
   ],
   "source": [
    "# TODO: add  'Glucose Disorder: DM2' as covariate - ['BMI_C', 'const', 'Glucose Disorder: DM2']\n",
    "\n",
    "ps = acs_shap_values_dic['metabolon']['BMI_C'].loc[y_bmi_acs.index].apply(lambda x: OLS(metacardis_X_age_bmi.reindex(y_bmi_acs.index)\n",
    "                                                                                        ['acs bmi diffs'], pd.concat((metacardis_X_age_bmi.reindex\n",
    "                                                                                                                      (y_bmi_acs.index)\n",
    "                                                                                                                      [['BMI_C', 'const', 'DiabetesStatus']], x), \n",
    "                                                                                                                     axis=1, sort=False), \n",
    "                                                                                        missing='drop').fit().pvalues.loc[x.name])\n",
    "rs = acs_shap_values_dic['metabolon']['BMI_C'].loc[y_bmi_acs.index].apply(lambda x: OLS(metacardis_X_age_bmi.reindex(y_bmi_acs.index)\n",
    "                                                                                        ['acs bmi diffs'], pd.concat((metacardis_X_age_bmi.reindex\n",
    "                                                                                                                      (y_bmi_acs.index)\n",
    "                                                                                                                      [['BMI_C', 'const', 'DiabetesStatus']], x), \n",
    "                                                                                                                     axis=1, sort=False), \n",
    "                                                                                        missing='drop').fit().params.loc[x.name])\n",
    "fdr_correction(ps.dropna(), alpha=0.01)[0].sum()"
   ]
  },
  {
   "cell_type": "code",
   "execution_count": 89,
   "metadata": {
    "ExecuteTime": {
     "end_time": "2021-06-20T07:43:44.724492Z",
     "start_time": "2021-06-20T07:43:42.262429Z"
    }
   },
   "outputs": [],
   "source": [
    "df = pd.concat((ps.sort_values().dropna().rename('SHAP-delta BMI pvalue'), rs.rename('SHAP-delta BMI coef'), \n",
    "          metacardis_serum_metabolomics.loc[y_bmi.index, ps.sort_values().dropna().index].apply(lambda x: spearmanr(x, metacardis_X_age_bmi.loc[y_bmi.index, 'BMI_C'], nan_policy='omit')[0]).rename('metabolite-BMI in healthy cohort Spearman rho'),),\n",
    "          axis=1).dropna().rename_axis('CHEMICAL_ID')\n",
    "df['SHAP-delta BMI qvalue'] = fdr_correction(df['SHAP-delta BMI pvalue'])[1]\n",
    "df[df['SHAP-delta BMI qvalue']<0.01].to_csv(os.path.join(metacardis_dir, 'Supplementary_table_metabolon_bmi_shap_drivers.csv'))"
   ]
  },
  {
   "cell_type": "code",
   "execution_count": 90,
   "metadata": {
    "ExecuteTime": {
     "end_time": "2021-06-20T07:43:46.324882Z",
     "start_time": "2021-06-20T07:43:46.257626Z"
    }
   },
   "outputs": [],
   "source": [
    "acs_shap_table = pd.read_csv(os.path.join(paper_dir, 'metabolomics_model_of_age_and_bmi', 'GBDT', 'Train-Test', 'no-albumin-glucose-creatinine',\n",
    "                                          'Supplementary_table_metabolon_bmi_shap_drivers.csv'), index_col=0)\n",
    "acs_shap_table.index = acs_shap_table.index.astype(str)"
   ]
  },
  {
   "cell_type": "code",
   "execution_count": 94,
   "metadata": {
    "ExecuteTime": {
     "end_time": "2021-06-20T07:46:05.396902Z",
     "start_time": "2021-06-20T07:46:05.339304Z"
    }
   },
   "outputs": [
    {
     "data": {
      "text/html": [
       "<div>\n",
       "<style scoped>\n",
       "    .dataframe tbody tr th:only-of-type {\n",
       "        vertical-align: middle;\n",
       "    }\n",
       "\n",
       "    .dataframe tbody tr th {\n",
       "        vertical-align: top;\n",
       "    }\n",
       "\n",
       "    .dataframe thead th {\n",
       "        text-align: right;\n",
       "    }\n",
       "</style>\n",
       "<table border=\"1\" class=\"dataframe\">\n",
       "  <thead>\n",
       "    <tr style=\"text-align: right;\">\n",
       "      <th></th>\n",
       "      <th>BIOCHEMICAL</th>\n",
       "      <th>Logit coef</th>\n",
       "      <th>Logit pval</th>\n",
       "      <th>Logit 0.025</th>\n",
       "      <th>Logit 0.975</th>\n",
       "      <th>directional pval</th>\n",
       "      <th>Enriched in ACS</th>\n",
       "      <th>Logit qval</th>\n",
       "      <th>CHEMICAL_ID</th>\n",
       "    </tr>\n",
       "  </thead>\n",
       "  <tbody>\n",
       "    <tr>\n",
       "      <th>487</th>\n",
       "      <td>5-(galactosylhydroxy)-L-lysine</td>\n",
       "      <td>0.445804</td>\n",
       "      <td>0.017345</td>\n",
       "      <td>1.081742</td>\n",
       "      <td>2.25474</td>\n",
       "      <td>1.760835</td>\n",
       "      <td>True</td>\n",
       "      <td>0.034085</td>\n",
       "      <td>100002462</td>\n",
       "    </tr>\n",
       "  </tbody>\n",
       "</table>\n",
       "</div>"
      ],
      "text/plain": [
       "                        BIOCHEMICAL  Logit coef  Logit pval  Logit 0.025  \\\n",
       "487  5-(galactosylhydroxy)-L-lysine    0.445804    0.017345     1.081742   \n",
       "\n",
       "     Logit 0.975  directional pval  Enriched in ACS  Logit qval CHEMICAL_ID  \n",
       "487      2.25474          1.760835             True    0.034085   100002462  "
      ]
     },
     "execution_count": 94,
     "metadata": {},
     "output_type": "execute_result"
    }
   ],
   "source": [
    "metabolon_res[metabolon_res.CHEMICAL_ID == '100002462']"
   ]
  },
  {
   "cell_type": "code",
   "execution_count": 91,
   "metadata": {
    "ExecuteTime": {
     "end_time": "2021-06-20T07:43:49.818079Z",
     "start_time": "2021-06-20T07:43:49.760637Z"
    }
   },
   "outputs": [
    {
     "data": {
      "text/html": [
       "<div>\n",
       "<style scoped>\n",
       "    .dataframe tbody tr th:only-of-type {\n",
       "        vertical-align: middle;\n",
       "    }\n",
       "\n",
       "    .dataframe tbody tr th {\n",
       "        vertical-align: top;\n",
       "    }\n",
       "\n",
       "    .dataframe thead th {\n",
       "        text-align: right;\n",
       "    }\n",
       "</style>\n",
       "<table border=\"1\" class=\"dataframe\">\n",
       "  <thead>\n",
       "    <tr style=\"text-align: right;\">\n",
       "      <th></th>\n",
       "      <th>SHAP-delta BMI pvalue</th>\n",
       "      <th>SHAP-delta BMI coef</th>\n",
       "      <th>metabolite-BMI in healthy cohort Spearman rho</th>\n",
       "      <th>SHAP-delta BMI qvalue</th>\n",
       "    </tr>\n",
       "    <tr>\n",
       "      <th>CHEMICAL_ID</th>\n",
       "      <th></th>\n",
       "      <th></th>\n",
       "      <th></th>\n",
       "      <th></th>\n",
       "    </tr>\n",
       "  </thead>\n",
       "  <tbody>\n",
       "    <tr>\n",
       "      <th>100009007</th>\n",
       "      <td>2.732600e-04</td>\n",
       "      <td>2.074239</td>\n",
       "      <td>-0.600904</td>\n",
       "      <td>0.002224</td>\n",
       "    </tr>\n",
       "    <tr>\n",
       "      <th>100005403</th>\n",
       "      <td>1.723595e-03</td>\n",
       "      <td>13.566583</td>\n",
       "      <td>-0.100080</td>\n",
       "      <td>0.010860</td>\n",
       "    </tr>\n",
       "    <tr>\n",
       "      <th>100009027</th>\n",
       "      <td>1.439473e-01</td>\n",
       "      <td>9.856464</td>\n",
       "      <td>0.315531</td>\n",
       "      <td>0.309545</td>\n",
       "    </tr>\n",
       "    <tr>\n",
       "      <th>100020902</th>\n",
       "      <td>NaN</td>\n",
       "      <td>NaN</td>\n",
       "      <td>NaN</td>\n",
       "      <td>NaN</td>\n",
       "    </tr>\n",
       "    <tr>\n",
       "      <th>100002462</th>\n",
       "      <td>2.206612e-01</td>\n",
       "      <td>9.743601</td>\n",
       "      <td>0.226547</td>\n",
       "      <td>0.400078</td>\n",
       "    </tr>\n",
       "    <tr>\n",
       "      <th>100009009</th>\n",
       "      <td>1.099271e-07</td>\n",
       "      <td>7.593710</td>\n",
       "      <td>-0.524892</td>\n",
       "      <td>0.000003</td>\n",
       "    </tr>\n",
       "    <tr>\n",
       "      <th>235</th>\n",
       "      <td>4.854635e-01</td>\n",
       "      <td>23.976422</td>\n",
       "      <td>-0.014471</td>\n",
       "      <td>0.636551</td>\n",
       "    </tr>\n",
       "    <tr>\n",
       "      <th>1547</th>\n",
       "      <td>4.621827e-01</td>\n",
       "      <td>1.754201</td>\n",
       "      <td>0.325842</td>\n",
       "      <td>0.627066</td>\n",
       "    </tr>\n",
       "    <tr>\n",
       "      <th>803</th>\n",
       "      <td>9.629184e-01</td>\n",
       "      <td>0.036880</td>\n",
       "      <td>0.489504</td>\n",
       "      <td>0.981611</td>\n",
       "    </tr>\n",
       "    <tr>\n",
       "      <th>1242</th>\n",
       "      <td>NaN</td>\n",
       "      <td>NaN</td>\n",
       "      <td>NaN</td>\n",
       "      <td>NaN</td>\n",
       "    </tr>\n",
       "    <tr>\n",
       "      <th>240</th>\n",
       "      <td>NaN</td>\n",
       "      <td>NaN</td>\n",
       "      <td>NaN</td>\n",
       "      <td>NaN</td>\n",
       "    </tr>\n",
       "  </tbody>\n",
       "</table>\n",
       "</div>"
      ],
      "text/plain": [
       "             SHAP-delta BMI pvalue  SHAP-delta BMI coef  \\\n",
       "CHEMICAL_ID                                               \n",
       "100009007             2.732600e-04             2.074239   \n",
       "100005403             1.723595e-03            13.566583   \n",
       "100009027             1.439473e-01             9.856464   \n",
       "100020902                      NaN                  NaN   \n",
       "100002462             2.206612e-01             9.743601   \n",
       "100009009             1.099271e-07             7.593710   \n",
       "235                   4.854635e-01            23.976422   \n",
       "1547                  4.621827e-01             1.754201   \n",
       "803                   9.629184e-01             0.036880   \n",
       "1242                           NaN                  NaN   \n",
       "240                            NaN                  NaN   \n",
       "\n",
       "             metabolite-BMI in healthy cohort Spearman rho  \\\n",
       "CHEMICAL_ID                                                  \n",
       "100009007                                        -0.600904   \n",
       "100005403                                        -0.100080   \n",
       "100009027                                         0.315531   \n",
       "100020902                                              NaN   \n",
       "100002462                                         0.226547   \n",
       "100009009                                        -0.524892   \n",
       "235                                              -0.014471   \n",
       "1547                                              0.325842   \n",
       "803                                               0.489504   \n",
       "1242                                                   NaN   \n",
       "240                                                    NaN   \n",
       "\n",
       "             SHAP-delta BMI qvalue  \n",
       "CHEMICAL_ID                         \n",
       "100009007                 0.002224  \n",
       "100005403                 0.010860  \n",
       "100009027                 0.309545  \n",
       "100020902                      NaN  \n",
       "100002462                 0.400078  \n",
       "100009009                 0.000003  \n",
       "235                       0.636551  \n",
       "1547                      0.627066  \n",
       "803                       0.981611  \n",
       "1242                           NaN  \n",
       "240                            NaN  "
      ]
     },
     "execution_count": 91,
     "metadata": {},
     "output_type": "execute_result"
    }
   ],
   "source": [
    "df.reindex(acs_shap_table.index)"
   ]
  }
 ],
 "metadata": {
  "kernelspec": {
   "display_name": "Python 3",
   "language": "python",
   "name": "python3"
  },
  "language_info": {
   "codemirror_mode": {
    "name": "ipython",
    "version": 3
   },
   "file_extension": ".py",
   "mimetype": "text/x-python",
   "name": "python",
   "nbconvert_exporter": "python",
   "pygments_lexer": "ipython3",
   "version": "3.7.4"
  },
  "toc": {
   "nav_menu": {},
   "number_sections": true,
   "sideBar": true,
   "skip_h1_title": false,
   "toc_cell": false,
   "toc_position": {},
   "toc_section_display": "block",
   "toc_window_display": true
  }
 },
 "nbformat": 4,
 "nbformat_minor": 4
}
