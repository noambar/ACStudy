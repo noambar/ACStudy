{
 "cells": [
  {
   "cell_type": "markdown",
   "metadata": {},
   "source": [
    "# Setup"
   ]
  },
  {
   "cell_type": "code",
   "execution_count": 1,
   "metadata": {
    "ExecuteTime": {
     "end_time": "2021-05-31T10:55:56.474869Z",
     "start_time": "2021-05-31T10:55:50.158057Z"
    }
   },
   "outputs": [],
   "source": [
    "%load_ext autoreload\n",
    "%autoreload 2\n",
    "%matplotlib inline\n",
    "\n",
    "from MetabolomicsPaper.GeneralHelperFunctions import *\n",
    "\n",
    "paper_dir = '/net/mraid08/export/jafar/Microbiome/Analyses/Noamba/Cardio/ACS_study/v2/'\n",
    "curr_dir = os.path.join(paper_dir, 'Table1')\n",
    "make_dir_if_not_exists(curr_dir)\n",
    "os.chdir(paper_dir)"
   ]
  },
  {
   "cell_type": "code",
   "execution_count": 2,
   "metadata": {
    "ExecuteTime": {
     "end_time": "2020-09-23T10:44:40.519413Z",
     "start_time": "2020-09-23T10:44:40.302757Z"
    }
   },
   "outputs": [],
   "source": [
    "from LabData.DataLoaders.NightingaleLoader import NightingaleLoader\n",
    "from LabData.DataLoaders.MetabolonLoader import MetabolonLoader"
   ]
  },
  {
   "cell_type": "markdown",
   "metadata": {},
   "source": [
    "# Load data"
   ]
  },
  {
   "cell_type": "code",
   "execution_count": 14,
   "metadata": {
    "ExecuteTime": {
     "end_time": "2021-05-31T11:04:49.354567Z",
     "start_time": "2021-05-31T11:04:47.079504Z"
    }
   },
   "outputs": [
    {
     "name": "stderr",
     "output_type": "stream",
     "text": [
      "/usr/wisdom/python-3.7.4/lib/python3.7/site-packages/IPython/core/interactiveshell.py:3147: DtypeWarning: Columns (43) have mixed types.Specify dtype option on import or set low_memory=False.\n",
      "  interactivity=interactivity, compiler=compiler, result=result)\n"
     ]
    }
   ],
   "source": [
    "acs_data = pd.read_csv('data/ACS_full_data.csv', index_col=0)\n",
    "pnp_data = pd.read_csv('data/pnp1_full_data.csv', index_col='RegistrationCode')\n",
    "\n",
    "all_pnp_ids = pd.read_csv('data/all_PNP1_RegIDs.csv', index_col=0)\n",
    "all_acs_ids = pd.read_csv('data/all_ACS_RegIDs.csv', index_col=0)\n",
    "# pnp_data = pnp_data[pnp_data.IsGenotek == 0]\n",
    "acs_data['ACS sample'], pnp_data['ACS sample'] = 1, 0\n",
    "\n",
    "pnp_data.index = pnp_data.index.astype(str)\n",
    "acs_data.index = acs_data.index.astype(str)\n",
    "\n",
    "pnp_data = pnp_data.loc[all_pnp_ids['PNP RegIDs'].astype(str)]\n",
    "acs_data = acs_data.loc[all_acs_ids['ACS RegIDs'].astype(str)]"
   ]
  },
  {
   "cell_type": "code",
   "execution_count": 16,
   "metadata": {
    "ExecuteTime": {
     "end_time": "2021-05-31T11:04:57.994112Z",
     "start_time": "2021-05-31T11:04:57.936632Z"
    }
   },
   "outputs": [],
   "source": [
    "matching_dir = 'Matching'\n",
    "pnp_acs_matching_dir = os.path.join('Matching', 'PNP1-ACS_matching')\n",
    "make_dir_if_not_exists(pnp_acs_matching_dir)"
   ]
  },
  {
   "cell_type": "markdown",
   "metadata": {},
   "source": [
    "Prepare two tables one for pnp and one for acs with all relevant features for table1\n",
    "\n",
    "features "
   ]
  },
  {
   "cell_type": "code",
   "execution_count": 18,
   "metadata": {
    "ExecuteTime": {
     "end_time": "2021-05-31T11:06:09.110773Z",
     "start_time": "2021-05-31T11:06:08.668043Z"
    }
   },
   "outputs": [],
   "source": [
    "features = ['Age', 'gender', 'bmi', 'smoke_tobacco_now', 'HbA1C', 'DM', 'Hypertension', 'Dyslipidemia', 'treatment for DM', \n",
    "            'treatment for Hypertension', 'treatment for Dyslipidemia']\n",
    "# in healthy controls, what fraction medicated for (hypertension, dyslipidemia, dysglycemia not yet diagnosed as T2DM)?"
   ]
  },
  {
   "cell_type": "code",
   "execution_count": 19,
   "metadata": {
    "ExecuteTime": {
     "end_time": "2021-05-31T11:06:10.269172Z",
     "start_time": "2021-05-31T11:06:10.149021Z"
    }
   },
   "outputs": [],
   "source": [
    "pnp_data.loc[:, 'HbA1C'] = pnp_data['bt__hba1c']\n",
    "acs_data.loc[:, 'DM'] = (acs_data['Glucose Disorder: DM1']==1) | (acs_data['Glucose Disorder: DM2']==1) | (acs_data['HbA1C']>6.4)\n",
    "acs_data.loc[:, 'waist'] = None"
   ]
  },
  {
   "cell_type": "code",
   "execution_count": 20,
   "metadata": {
    "ExecuteTime": {
     "end_time": "2021-05-31T11:06:13.831383Z",
     "start_time": "2021-05-31T11:06:13.759314Z"
    },
    "collapsed": true
   },
   "outputs": [
    {
     "data": {
      "text/html": [
       "<div>\n",
       "<style scoped>\n",
       "    .dataframe tbody tr th:only-of-type {\n",
       "        vertical-align: middle;\n",
       "    }\n",
       "\n",
       "    .dataframe tbody tr th {\n",
       "        vertical-align: top;\n",
       "    }\n",
       "\n",
       "    .dataframe thead th {\n",
       "        text-align: right;\n",
       "    }\n",
       "</style>\n",
       "<table border=\"1\" class=\"dataframe\">\n",
       "  <thead>\n",
       "    <tr style=\"text-align: right;\">\n",
       "      <th></th>\n",
       "      <th>Hypertension</th>\n",
       "      <th>Dyslipidemia</th>\n",
       "      <th>DM</th>\n",
       "      <th>PreDM</th>\n",
       "    </tr>\n",
       "  </thead>\n",
       "  <tbody>\n",
       "    <tr>\n",
       "      <th>0</th>\n",
       "      <td>Amiloride</td>\n",
       "      <td>Atorvastatin</td>\n",
       "      <td>Glimepiride</td>\n",
       "      <td>HbA1C 6-6.4</td>\n",
       "    </tr>\n",
       "    <tr>\n",
       "      <th>1</th>\n",
       "      <td>Amlodipine</td>\n",
       "      <td>Bezafibrate</td>\n",
       "      <td>Metformin</td>\n",
       "      <td>NaN</td>\n",
       "    </tr>\n",
       "    <tr>\n",
       "      <th>2</th>\n",
       "      <td>Atenolol</td>\n",
       "      <td>Ciprofibrate</td>\n",
       "      <td>Sitagliptin</td>\n",
       "      <td>NaN</td>\n",
       "    </tr>\n",
       "    <tr>\n",
       "      <th>3</th>\n",
       "      <td>Bisoprolol</td>\n",
       "      <td>Ezetimibe</td>\n",
       "      <td>Vildagliptin</td>\n",
       "      <td>NaN</td>\n",
       "    </tr>\n",
       "    <tr>\n",
       "      <th>4</th>\n",
       "      <td>Candesartan</td>\n",
       "      <td>Pravastatin</td>\n",
       "      <td>NaN</td>\n",
       "      <td>NaN</td>\n",
       "    </tr>\n",
       "    <tr>\n",
       "      <th>5</th>\n",
       "      <td>Cilazapril</td>\n",
       "      <td>Rosuvastatin calcium</td>\n",
       "      <td>HbA1C 6.5 and above</td>\n",
       "      <td>NaN</td>\n",
       "    </tr>\n",
       "    <tr>\n",
       "      <th>6</th>\n",
       "      <td>Clonidine Hydrochloride</td>\n",
       "      <td>Simvastatin</td>\n",
       "      <td>NaN</td>\n",
       "      <td>NaN</td>\n",
       "    </tr>\n",
       "    <tr>\n",
       "      <th>7</th>\n",
       "      <td>Enalapril</td>\n",
       "      <td>NaN</td>\n",
       "      <td>NaN</td>\n",
       "      <td>NaN</td>\n",
       "    </tr>\n",
       "    <tr>\n",
       "      <th>8</th>\n",
       "      <td>Hydrochlorothiazide</td>\n",
       "      <td>NaN</td>\n",
       "      <td>NaN</td>\n",
       "      <td>NaN</td>\n",
       "    </tr>\n",
       "    <tr>\n",
       "      <th>9</th>\n",
       "      <td>Lercanidipine</td>\n",
       "      <td>NaN</td>\n",
       "      <td>NaN</td>\n",
       "      <td>NaN</td>\n",
       "    </tr>\n",
       "    <tr>\n",
       "      <th>10</th>\n",
       "      <td>Losartan Potassium</td>\n",
       "      <td>NaN</td>\n",
       "      <td>NaN</td>\n",
       "      <td>NaN</td>\n",
       "    </tr>\n",
       "    <tr>\n",
       "      <th>11</th>\n",
       "      <td>Nifedipine</td>\n",
       "      <td>NaN</td>\n",
       "      <td>NaN</td>\n",
       "      <td>NaN</td>\n",
       "    </tr>\n",
       "    <tr>\n",
       "      <th>12</th>\n",
       "      <td>Propranolol Hydrochloride</td>\n",
       "      <td>NaN</td>\n",
       "      <td>NaN</td>\n",
       "      <td>NaN</td>\n",
       "    </tr>\n",
       "    <tr>\n",
       "      <th>13</th>\n",
       "      <td>Ramipril</td>\n",
       "      <td>NaN</td>\n",
       "      <td>NaN</td>\n",
       "      <td>NaN</td>\n",
       "    </tr>\n",
       "    <tr>\n",
       "      <th>14</th>\n",
       "      <td>Spironolactone</td>\n",
       "      <td>NaN</td>\n",
       "      <td>NaN</td>\n",
       "      <td>NaN</td>\n",
       "    </tr>\n",
       "    <tr>\n",
       "      <th>15</th>\n",
       "      <td>Valsartan</td>\n",
       "      <td>NaN</td>\n",
       "      <td>NaN</td>\n",
       "      <td>NaN</td>\n",
       "    </tr>\n",
       "  </tbody>\n",
       "</table>\n",
       "</div>"
      ],
      "text/plain": [
       "                 Hypertension          Dyslipidemia                   DM  \\\n",
       "0                   Amiloride          Atorvastatin          Glimepiride   \n",
       "1                  Amlodipine           Bezafibrate            Metformin   \n",
       "2                    Atenolol          Ciprofibrate          Sitagliptin   \n",
       "3                  Bisoprolol             Ezetimibe         Vildagliptin   \n",
       "4                 Candesartan           Pravastatin                  NaN   \n",
       "5                  Cilazapril  Rosuvastatin calcium  HbA1C 6.5 and above   \n",
       "6     Clonidine Hydrochloride           Simvastatin                  NaN   \n",
       "7                   Enalapril                   NaN                  NaN   \n",
       "8         Hydrochlorothiazide                   NaN                  NaN   \n",
       "9               Lercanidipine                   NaN                  NaN   \n",
       "10         Losartan Potassium                   NaN                  NaN   \n",
       "11                 Nifedipine                   NaN                  NaN   \n",
       "12  Propranolol Hydrochloride                   NaN                  NaN   \n",
       "13                   Ramipril                   NaN                  NaN   \n",
       "14             Spironolactone                   NaN                  NaN   \n",
       "15                  Valsartan                   NaN                  NaN   \n",
       "\n",
       "          PreDM  \n",
       "0   HbA1C 6-6.4  \n",
       "1           NaN  \n",
       "2           NaN  \n",
       "3           NaN  \n",
       "4           NaN  \n",
       "5           NaN  \n",
       "6           NaN  \n",
       "7           NaN  \n",
       "8           NaN  \n",
       "9           NaN  \n",
       "10          NaN  \n",
       "11          NaN  \n",
       "12          NaN  \n",
       "13          NaN  \n",
       "14          NaN  \n",
       "15          NaN  "
      ]
     },
     "execution_count": 20,
     "metadata": {},
     "output_type": "execute_result"
    }
   ],
   "source": [
    "diagnosis_by_drugs = pd.read_excel(os.path.join('data', 'pnp_drugs-diagnosis.xls'), 'Diagnosis')\n",
    "diagnosis_by_drugs"
   ]
  },
  {
   "cell_type": "code",
   "execution_count": 21,
   "metadata": {
    "ExecuteTime": {
     "end_time": "2021-05-31T11:06:21.880931Z",
     "start_time": "2021-05-31T11:06:21.817523Z"
    }
   },
   "outputs": [],
   "source": [
    "# pd.Series(pnp_data.columns[3309:3461]).to_csv(os.path.join(paper_dir, 'data/', 'pnp_drug_names.csv'))\n",
    "pd.Series(acs_data.columns[40:64]).to_csv(os.path.join(paper_dir, 'data/', 'acs_drug_names.csv'))"
   ]
  },
  {
   "cell_type": "code",
   "execution_count": 22,
   "metadata": {
    "ExecuteTime": {
     "end_time": "2021-05-31T11:07:31.065242Z",
     "start_time": "2021-05-31T11:07:30.440599Z"
    }
   },
   "outputs": [],
   "source": [
    "## pnp_data_metabolon_full.loc[:, 'treatment for DM'] = pnp_data_metabolon_full.reindex(diagnosis_by_drugs['DM'].dropna(), axis=1).any(1)\n",
    "pnp_data.loc[:, 'treatment for Hypertension'] = pnp_data.reindex(diagnosis_by_drugs['Hypertension'].dropna(), axis=1).any(1)\n",
    "pnp_data.loc[:, 'treatment for Dyslipidemia'] = pnp_data.reindex(diagnosis_by_drugs['Dyslipidemia'].dropna(), axis=1).any(1)\n",
    "\n",
    "acs_diagnosis_by_drugs_dic = {'DM': ['Admission Metformin', 'Admission Sulfunylurea', 'Admission DPP-4 blockers', 'Admission GLP-1 Analogs', 'Admission SGLT-2 Blockers'], \n",
    "                                       'Hypertension': ['Admission Beta Blockers', 'Admission ACEI', 'Admission ARB', 'Admission Calcium', 'Admission Channel Blockers'], \n",
    "                                       'Dyslipidemia': ['Admission Statins']}\n",
    "acs_diagnosis_by_drugs = pd.DataFrame.from_dict(acs_diagnosis_by_drugs_dic, orient='index').T\n",
    "\n",
    "acs_data.loc[:, 'treatment for DM'] = acs_data.reindex(acs_diagnosis_by_drugs['DM'].dropna(), axis=1).any(1)\n",
    "acs_data.loc[:, 'treatment for Hypertension'] = acs_data.reindex(acs_diagnosis_by_drugs['Hypertension'].dropna(), axis=1).any(1)\n",
    "acs_data.loc[:, 'treatment for Dyslipidemia'] = acs_data.reindex(acs_diagnosis_by_drugs['Dyslipidemia'].dropna(), axis=1).any(1)\n",
    "\n",
    "pnp_data.loc[:, 'treatment for DM'] = pnp_data.reindex(diagnosis_by_drugs['DM'].dropna(), axis=1).any(1)\n",
    "pnp_data.loc[:, 'treatment for Hypertension'] = pnp_data.reindex(diagnosis_by_drugs['Hypertension'].dropna(), axis=1).any(1)\n",
    "pnp_data.loc[:, 'treatment for Dyslipidemia'] = pnp_data.reindex(diagnosis_by_drugs['Dyslipidemia'].dropna(), axis=1).any(1)"
   ]
  },
  {
   "cell_type": "code",
   "execution_count": 23,
   "metadata": {
    "ExecuteTime": {
     "end_time": "2021-05-31T11:07:42.466979Z",
     "start_time": "2021-05-31T11:07:42.405660Z"
    }
   },
   "outputs": [
    {
     "data": {
      "text/plain": [
       "['Age',\n",
       " 'gender',\n",
       " 'bmi',\n",
       " 'smoke_tobacco_now',\n",
       " 'HbA1C',\n",
       " 'DM',\n",
       " 'Hypertension',\n",
       " 'Dyslipidemia',\n",
       " 'treatment for DM',\n",
       " 'treatment for Hypertension',\n",
       " 'treatment for Dyslipidemia']"
      ]
     },
     "execution_count": 23,
     "metadata": {},
     "output_type": "execute_result"
    }
   ],
   "source": [
    "features"
   ]
  },
  {
   "cell_type": "markdown",
   "metadata": {},
   "source": [
    "# Table1"
   ]
  },
  {
   "cell_type": "code",
   "execution_count": 24,
   "metadata": {
    "ExecuteTime": {
     "end_time": "2021-05-31T11:07:51.625476Z",
     "start_time": "2021-05-31T11:07:51.562151Z"
    }
   },
   "outputs": [],
   "source": [
    "acs_data['Dyslipidemia'] = acs_data['Dyslipidemia_asin_PNP']"
   ]
  },
  {
   "cell_type": "markdown",
   "metadata": {},
   "source": [
    "## all samples"
   ]
  },
  {
   "cell_type": "code",
   "execution_count": 27,
   "metadata": {
    "ExecuteTime": {
     "end_time": "2021-05-31T11:09:18.012728Z",
     "start_time": "2021-05-31T11:09:17.628505Z"
    }
   },
   "outputs": [
    {
     "name": "stdout",
     "output_type": "stream",
     "text": [
      "Hypertension (%)\n",
      "DM (%)\n",
      "Sex, Males (%)\n",
      "Treated for Dyslipidemia (%)\n",
      "Treated for Hypertension (%)\n",
      "Treated for DM (%)\n",
      "Dyslipidemia (%)\n",
      "Currently smokes (%)\n"
     ]
    },
    {
     "data": {
      "text/html": [
       "<div>\n",
       "<style scoped>\n",
       "    .dataframe tbody tr th:only-of-type {\n",
       "        vertical-align: middle;\n",
       "    }\n",
       "\n",
       "    .dataframe tbody tr th {\n",
       "        vertical-align: top;\n",
       "    }\n",
       "\n",
       "    .dataframe thead th {\n",
       "        text-align: right;\n",
       "    }\n",
       "</style>\n",
       "<table border=\"1\" class=\"dataframe\">\n",
       "  <thead>\n",
       "    <tr style=\"text-align: right;\">\n",
       "      <th></th>\n",
       "      <th>ACS (n=199)</th>\n",
       "      <th>Healthy (n=970)</th>\n",
       "      <th>P value</th>\n",
       "    </tr>\n",
       "    <tr>\n",
       "      <th>Characteristics</th>\n",
       "      <th></th>\n",
       "      <th></th>\n",
       "      <th></th>\n",
       "    </tr>\n",
       "  </thead>\n",
       "  <tbody>\n",
       "    <tr>\n",
       "      <th>Age (years)</th>\n",
       "      <td>60.3 +- 9.6</td>\n",
       "      <td>43.3 +- 12.7</td>\n",
       "      <td>1e-52</td>\n",
       "    </tr>\n",
       "    <tr>\n",
       "      <th>Sex, Males (%)</th>\n",
       "      <td>89.9%</td>\n",
       "      <td>39.3%</td>\n",
       "      <td>1.1e-42</td>\n",
       "    </tr>\n",
       "    <tr>\n",
       "      <th>BMI</th>\n",
       "      <td>27.5 +- 4.2</td>\n",
       "      <td>26.5 +- 5.1</td>\n",
       "      <td>4.5e-05</td>\n",
       "    </tr>\n",
       "    <tr>\n",
       "      <th>Currently smokes (%)</th>\n",
       "      <td>32.8%</td>\n",
       "      <td>10.4%</td>\n",
       "      <td>6e-14</td>\n",
       "    </tr>\n",
       "    <tr>\n",
       "      <th>Hypertension (%)</th>\n",
       "      <td>56.1%</td>\n",
       "      <td>16.0%</td>\n",
       "      <td>6.5e-30</td>\n",
       "    </tr>\n",
       "    <tr>\n",
       "      <th>DM (%)</th>\n",
       "      <td>31.2%</td>\n",
       "      <td>3.6%</td>\n",
       "      <td>7.5e-28</td>\n",
       "    </tr>\n",
       "    <tr>\n",
       "      <th>Treated for Dyslipidemia (%)</th>\n",
       "      <td>48.2%</td>\n",
       "      <td>7.5%</td>\n",
       "      <td>3.4e-39</td>\n",
       "    </tr>\n",
       "    <tr>\n",
       "      <th>Treated for Hypertension (%)</th>\n",
       "      <td>42.7%</td>\n",
       "      <td>7.1%</td>\n",
       "      <td>1.6e-32</td>\n",
       "    </tr>\n",
       "    <tr>\n",
       "      <th>Treated for DM (%)</th>\n",
       "      <td>20.6%</td>\n",
       "      <td>2.0%</td>\n",
       "      <td>8.8e-20</td>\n",
       "    </tr>\n",
       "    <tr>\n",
       "      <th>Dyslipidemia (%)</th>\n",
       "      <td>64.3%</td>\n",
       "      <td>21.8%</td>\n",
       "      <td>1.6e-30</td>\n",
       "    </tr>\n",
       "    <tr>\n",
       "      <th>HbA1C (%)</th>\n",
       "      <td>6.4 +- 1.6</td>\n",
       "      <td>5.4 +- 0.5</td>\n",
       "      <td>2.2e-24</td>\n",
       "    </tr>\n",
       "  </tbody>\n",
       "</table>\n",
       "</div>"
      ],
      "text/plain": [
       "                              ACS (n=199) Healthy (n=970)  P value\n",
       "Characteristics                                                   \n",
       "Age (years)                   60.3 +- 9.6    43.3 +- 12.7    1e-52\n",
       "Sex, Males (%)                      89.9%           39.3%  1.1e-42\n",
       "BMI                           27.5 +- 4.2     26.5 +- 5.1  4.5e-05\n",
       "Currently smokes (%)                32.8%           10.4%    6e-14\n",
       "Hypertension (%)                    56.1%           16.0%  6.5e-30\n",
       "DM (%)                              31.2%            3.6%  7.5e-28\n",
       "Treated for Dyslipidemia (%)        48.2%            7.5%  3.4e-39\n",
       "Treated for Hypertension (%)        42.7%            7.1%  1.6e-32\n",
       "Treated for DM (%)                  20.6%            2.0%  8.8e-20\n",
       "Dyslipidemia (%)                    64.3%           21.8%  1.6e-30\n",
       "HbA1C (%)                      6.4 +- 1.6      5.4 +- 0.5  2.2e-24"
      ]
     },
     "execution_count": 27,
     "metadata": {},
     "output_type": "execute_result"
    }
   ],
   "source": [
    "table1_names = {'Age (years)':'Age', 'Sex, Males (%)':'gender', 'BMI':'bmi', 'Currently smokes (%)':'smoke_tobacco_now',\n",
    "                'HbA1C (%)':'HbA1C', 'DM (%)':'DM', 'Hypertension (%)':'Hypertension', 'Dyslipidemia (%)':'Dyslipidemia', \n",
    "                'Treated for DM (%)':'treatment for DM', 'Treated for Hypertension (%)':'treatment for Hypertension', \n",
    "                'Treated for Dyslipidemia (%)':'treatment for Dyslipidemia'}\n",
    "table1_tests = {k:fisher_exact for k in table1_names}\n",
    "cont_vars = ['Age (years)', 'BMI', 'HbA1C (%)']\n",
    "bin_vars = list(set(table1_names.keys()) - set(cont_vars))\n",
    "for cont_k in cont_vars:\n",
    "    table1_tests[cont_k] = mannwhitneyu\n",
    "    \n",
    "pts_data = acs_data.copy()\n",
    "normal_data = pnp_data.copy()\n",
    "\n",
    "table1 = pd.DataFrame(index=['Age (years)', 'Sex, Males (%)', 'BMI', 'Currently smokes (%)'],\n",
    "                      columns=[f'ACS (n={pts_data.shape[0]})', f'Healthy (n={normal_data.shape[0]})', 'P value'])\n",
    "table1.index.names = ['Characteristics']\n",
    "\n",
    "for b_v in bin_vars:\n",
    "    print (b_v)\n",
    "    pts_n = pts_data[table1_names[b_v]].sum()\n",
    "    pts_non_na = pts_data[table1_names[b_v]].dropna().shape[0]\n",
    "    pts_per, pts_rest = 100 * pts_n / pts_non_na, pts_non_na - pts_n\n",
    "    norm_n = normal_data[table1_names[b_v]].sum()\n",
    "    norm_non_na = normal_data[table1_names[b_v]].dropna().shape[0]\n",
    "    norm_per, norm_rest = 100 * norm_n / norm_non_na, norm_non_na - norm_n\n",
    "    p = fisher_exact([[pts_n, pts_rest], [norm_n, norm_rest]])[1]\n",
    "    table1.loc[b_v] = ['%0.1f'%(pts_per) + '%','%0.1f'%(norm_per) + '%', '%0.2g'%p]\n",
    "    \n",
    "for c_v in cont_vars:\n",
    "    pts_mean, pts_std = pts_data[table1_names[c_v]].mean(), pts_data[table1_names[c_v]].std()\n",
    "    norm_mean, norm_std = normal_data[table1_names[c_v]].mean(), normal_data[table1_names[c_v]].std()\n",
    "    p = mannwhitneyu(pts_data[table1_names[c_v]].dropna(), normal_data[table1_names[c_v]].dropna())[1]\n",
    "    table1.loc[c_v] = ['%0.1f +- %0.1f'%(pts_mean, pts_std), '%0.1f +- %0.1f'%(norm_mean, norm_std), '%0.2g'%p]\n",
    "\n",
    "    \n",
    "# table1 = table1.applymap(lambda x: x.replace('+-', r'$\\pm$'))\n",
    "table1.to_csv(os.path.join(curr_dir, 'Table1_all_samples.csv'))\n",
    "table1\n",
    "# bin_vars"
   ]
  },
  {
   "cell_type": "markdown",
   "metadata": {},
   "source": [
    "## MMC no HPN + Dyslipidemia"
   ]
  },
  {
   "cell_type": "code",
   "execution_count": 28,
   "metadata": {
    "ExecuteTime": {
     "end_time": "2021-05-31T11:38:52.105176Z",
     "start_time": "2021-05-31T11:38:51.566160Z"
    }
   },
   "outputs": [],
   "source": [
    "mmc = pd.read_csv(os.path.join(pnp_acs_matching_dir, 'PNP1-ACS_metabolon_age+sex+bmi+DM+smoking_1:1.csv'), index_col=0)\n",
    "mmc_pnp = mmc[mmc['ACS sample']==0].index.astype(str)\n",
    "mmc_acs = mmc[mmc['ACS sample']==1].index.astype(str)"
   ]
  },
  {
   "cell_type": "code",
   "execution_count": 30,
   "metadata": {
    "ExecuteTime": {
     "end_time": "2021-05-31T11:39:18.391535Z",
     "start_time": "2021-05-31T11:39:18.123311Z"
    }
   },
   "outputs": [
    {
     "name": "stdout",
     "output_type": "stream",
     "text": [
      "Hypertension (%)\n",
      "DM (%)\n",
      "Sex, Males (%)\n",
      "Treated for Dyslipidemia (%)\n",
      "Treated for Hypertension (%)\n",
      "Treated for DM (%)\n",
      "Dyslipidemia (%)\n",
      "Currently smokes (%)\n"
     ]
    },
    {
     "data": {
      "text/html": [
       "<div>\n",
       "<style scoped>\n",
       "    .dataframe tbody tr th:only-of-type {\n",
       "        vertical-align: middle;\n",
       "    }\n",
       "\n",
       "    .dataframe tbody tr th {\n",
       "        vertical-align: top;\n",
       "    }\n",
       "\n",
       "    .dataframe thead th {\n",
       "        text-align: right;\n",
       "    }\n",
       "</style>\n",
       "<table border=\"1\" class=\"dataframe\">\n",
       "  <thead>\n",
       "    <tr style=\"text-align: right;\">\n",
       "      <th></th>\n",
       "      <th>ACS (n=83)</th>\n",
       "      <th>Healthy (n=83)</th>\n",
       "      <th>P value</th>\n",
       "    </tr>\n",
       "    <tr>\n",
       "      <th>Characteristics</th>\n",
       "      <th></th>\n",
       "      <th></th>\n",
       "      <th></th>\n",
       "    </tr>\n",
       "  </thead>\n",
       "  <tbody>\n",
       "    <tr>\n",
       "      <th>Age (years)</th>\n",
       "      <td>57.8 +- 9.9</td>\n",
       "      <td>57.4 +- 9.5</td>\n",
       "      <td>0.36</td>\n",
       "    </tr>\n",
       "    <tr>\n",
       "      <th>Sex, Males (%)</th>\n",
       "      <td>79.5%</td>\n",
       "      <td>79.5%</td>\n",
       "      <td>1</td>\n",
       "    </tr>\n",
       "    <tr>\n",
       "      <th>BMI</th>\n",
       "      <td>28.1 +- 4.3</td>\n",
       "      <td>27.7 +- 4.8</td>\n",
       "      <td>0.24</td>\n",
       "    </tr>\n",
       "    <tr>\n",
       "      <th>Currently smokes (%)</th>\n",
       "      <td>21.7%</td>\n",
       "      <td>14.5%</td>\n",
       "      <td>0.31</td>\n",
       "    </tr>\n",
       "    <tr>\n",
       "      <th>Hypertension (%)</th>\n",
       "      <td>48.8%</td>\n",
       "      <td>38.6%</td>\n",
       "      <td>0.21</td>\n",
       "    </tr>\n",
       "    <tr>\n",
       "      <th>DM (%)</th>\n",
       "      <td>18.1%</td>\n",
       "      <td>15.7%</td>\n",
       "      <td>0.84</td>\n",
       "    </tr>\n",
       "    <tr>\n",
       "      <th>Treated for Dyslipidemia (%)</th>\n",
       "      <td>43.4%</td>\n",
       "      <td>25.3%</td>\n",
       "      <td>0.022</td>\n",
       "    </tr>\n",
       "    <tr>\n",
       "      <th>Treated for Hypertension (%)</th>\n",
       "      <td>34.9%</td>\n",
       "      <td>22.9%</td>\n",
       "      <td>0.12</td>\n",
       "    </tr>\n",
       "    <tr>\n",
       "      <th>Treated for DM (%)</th>\n",
       "      <td>13.3%</td>\n",
       "      <td>9.6%</td>\n",
       "      <td>0.63</td>\n",
       "    </tr>\n",
       "    <tr>\n",
       "      <th>Dyslipidemia (%)</th>\n",
       "      <td>55.4%</td>\n",
       "      <td>38.6%</td>\n",
       "      <td>0.043</td>\n",
       "    </tr>\n",
       "    <tr>\n",
       "      <th>HbA1C (%)</th>\n",
       "      <td>6.0 +- 1.1</td>\n",
       "      <td>5.7 +- 0.5</td>\n",
       "      <td>0.14</td>\n",
       "    </tr>\n",
       "  </tbody>\n",
       "</table>\n",
       "</div>"
      ],
      "text/plain": [
       "                               ACS (n=83) Healthy (n=83) P value\n",
       "Characteristics                                                 \n",
       "Age (years)                   57.8 +- 9.9    57.4 +- 9.5    0.36\n",
       "Sex, Males (%)                      79.5%          79.5%       1\n",
       "BMI                           28.1 +- 4.3    27.7 +- 4.8    0.24\n",
       "Currently smokes (%)                21.7%          14.5%    0.31\n",
       "Hypertension (%)                    48.8%          38.6%    0.21\n",
       "DM (%)                              18.1%          15.7%    0.84\n",
       "Treated for Dyslipidemia (%)        43.4%          25.3%   0.022\n",
       "Treated for Hypertension (%)        34.9%          22.9%    0.12\n",
       "Treated for DM (%)                  13.3%           9.6%    0.63\n",
       "Dyslipidemia (%)                    55.4%          38.6%   0.043\n",
       "HbA1C (%)                      6.0 +- 1.1     5.7 +- 0.5    0.14"
      ]
     },
     "execution_count": 30,
     "metadata": {},
     "output_type": "execute_result"
    }
   ],
   "source": [
    "table1_names = {'Age (years)':'Age', 'Sex, Males (%)':'gender', 'BMI':'bmi', 'Currently smokes (%)':'smoke_tobacco_now',\n",
    "                'HbA1C (%)':'HbA1C', 'DM (%)':'DM', 'Hypertension (%)':'Hypertension', 'Dyslipidemia (%)':'Dyslipidemia', \n",
    "                'Treated for DM (%)':'treatment for DM', 'Treated for Hypertension (%)':'treatment for Hypertension', 'Treated for Dyslipidemia (%)':'treatment for Dyslipidemia'}\n",
    "table1_tests = {k:fisher_exact for k in table1_names}\n",
    "cont_vars = ['Age (years)', 'BMI', 'HbA1C (%)']\n",
    "bin_vars = list(set(table1_names.keys()) - set(cont_vars))\n",
    "for cont_k in cont_vars:\n",
    "    table1_tests[cont_k] = mannwhitneyu\n",
    "    \n",
    "pts_data = acs_data.loc[mmc_acs]\n",
    "normal_data = pnp_data.loc[mmc_pnp]\n",
    "\n",
    "table1 = pd.DataFrame(index=['Age (years)', 'Sex, Males (%)', 'BMI', 'Currently smokes (%)'],\n",
    "                      columns=[f'ACS (n={pts_data.shape[0]})', f'Healthy (n={normal_data.shape[0]})', 'P value'])\n",
    "table1.index.names = ['Characteristics']\n",
    "\n",
    "for b_v in bin_vars:\n",
    "    print (b_v)\n",
    "    pts_n = pts_data[table1_names[b_v]].sum()\n",
    "    pts_non_na = pts_data[table1_names[b_v]].dropna().shape[0]\n",
    "    pts_per, pts_rest = 100 * pts_n / pts_non_na, pts_non_na - pts_n\n",
    "    norm_n = normal_data[table1_names[b_v]].sum()\n",
    "    norm_non_na = normal_data[table1_names[b_v]].dropna().shape[0]\n",
    "    norm_per, norm_rest = 100 * norm_n / norm_non_na, norm_non_na - norm_n\n",
    "    p = fisher_exact([[pts_n, pts_rest], [norm_n, norm_rest]])[1]\n",
    "    table1.loc[b_v] = ['%0.1f'%(pts_per) + '%','%0.1f'%(norm_per) + '%', '%0.2g'%p]\n",
    "    \n",
    "for c_v in cont_vars:\n",
    "    pts_mean, pts_std = pts_data[table1_names[c_v]].mean(), pts_data[table1_names[c_v]].std()\n",
    "    norm_mean, norm_std = normal_data[table1_names[c_v]].mean(), normal_data[table1_names[c_v]].std()\n",
    "    p = mannwhitneyu(pts_data[table1_names[c_v]].dropna(), normal_data[table1_names[c_v]].dropna())[1]\n",
    "    table1.loc[c_v] = ['%0.1f +- %0.1f'%(pts_mean, pts_std), '%0.1f +- %0.1f'%(norm_mean, norm_std), '%0.2g'%p]\n",
    "\n",
    "    \n",
    "# table1 = table1.applymap(lambda x: x.replace('+-', r'$\\pm$'))\n",
    "table1.to_csv(os.path.join(curr_dir, 'Table1_age+sex+bmi+DM+smoking.csv'))\n",
    "table1\n",
    "# bin_vars"
   ]
  },
  {
   "cell_type": "markdown",
   "metadata": {},
   "source": [
    "## microbiome - MMC no HPN+Dys"
   ]
  },
  {
   "cell_type": "code",
   "execution_count": 32,
   "metadata": {
    "ExecuteTime": {
     "end_time": "2021-05-31T11:40:07.619172Z",
     "start_time": "2021-05-31T11:40:07.546540Z"
    }
   },
   "outputs": [],
   "source": [
    "mmc = pd.read_csv(os.path.join(pnp_acs_matching_dir, 'PNP1-ACS_microbiome_age+sex+bmi+DM+smoking_1:1.csv'), index_col=0)\n",
    "mmc_pnp = mmc[mmc['ACS sample']==0].index.astype(str)\n",
    "mmc_acs = mmc[mmc['ACS sample']==1].index.astype(str)"
   ]
  },
  {
   "cell_type": "code",
   "execution_count": 33,
   "metadata": {
    "ExecuteTime": {
     "end_time": "2021-05-31T11:40:09.870850Z",
     "start_time": "2021-05-31T11:40:09.636809Z"
    }
   },
   "outputs": [
    {
     "name": "stdout",
     "output_type": "stream",
     "text": [
      "Hypertension (%)\n",
      "DM (%)\n",
      "Sex, Males (%)\n",
      "Treated for Dyslipidemia (%)\n",
      "Treated for Hypertension (%)\n",
      "Treated for DM (%)\n",
      "Dyslipidemia (%)\n",
      "Currently smokes (%)\n"
     ]
    },
    {
     "data": {
      "text/html": [
       "<div>\n",
       "<style scoped>\n",
       "    .dataframe tbody tr th:only-of-type {\n",
       "        vertical-align: middle;\n",
       "    }\n",
       "\n",
       "    .dataframe tbody tr th {\n",
       "        vertical-align: top;\n",
       "    }\n",
       "\n",
       "    .dataframe thead th {\n",
       "        text-align: right;\n",
       "    }\n",
       "</style>\n",
       "<table border=\"1\" class=\"dataframe\">\n",
       "  <thead>\n",
       "    <tr style=\"text-align: right;\">\n",
       "      <th></th>\n",
       "      <th>ACS (n=64)</th>\n",
       "      <th>Healthy (n=64)</th>\n",
       "      <th>P value</th>\n",
       "    </tr>\n",
       "    <tr>\n",
       "      <th>Characteristics</th>\n",
       "      <th></th>\n",
       "      <th></th>\n",
       "      <th></th>\n",
       "    </tr>\n",
       "  </thead>\n",
       "  <tbody>\n",
       "    <tr>\n",
       "      <th>Age (years)</th>\n",
       "      <td>53.8 +- 9.8</td>\n",
       "      <td>54.6 +- 9.1</td>\n",
       "      <td>0.25</td>\n",
       "    </tr>\n",
       "    <tr>\n",
       "      <th>Sex, Males (%)</th>\n",
       "      <td>75.0%</td>\n",
       "      <td>67.2%</td>\n",
       "      <td>0.44</td>\n",
       "    </tr>\n",
       "    <tr>\n",
       "      <th>BMI</th>\n",
       "      <td>28.2 +- 4.5</td>\n",
       "      <td>27.9 +- 3.9</td>\n",
       "      <td>0.33</td>\n",
       "    </tr>\n",
       "    <tr>\n",
       "      <th>Currently smokes (%)</th>\n",
       "      <td>26.6%</td>\n",
       "      <td>25.0%</td>\n",
       "      <td>1</td>\n",
       "    </tr>\n",
       "    <tr>\n",
       "      <th>Hypertension (%)</th>\n",
       "      <td>39.7%</td>\n",
       "      <td>37.5%</td>\n",
       "      <td>0.86</td>\n",
       "    </tr>\n",
       "    <tr>\n",
       "      <th>DM (%)</th>\n",
       "      <td>15.6%</td>\n",
       "      <td>12.5%</td>\n",
       "      <td>0.8</td>\n",
       "    </tr>\n",
       "    <tr>\n",
       "      <th>Treated for Dyslipidemia (%)</th>\n",
       "      <td>31.2%</td>\n",
       "      <td>28.1%</td>\n",
       "      <td>0.85</td>\n",
       "    </tr>\n",
       "    <tr>\n",
       "      <th>Treated for Hypertension (%)</th>\n",
       "      <td>25.0%</td>\n",
       "      <td>18.8%</td>\n",
       "      <td>0.52</td>\n",
       "    </tr>\n",
       "    <tr>\n",
       "      <th>Treated for DM (%)</th>\n",
       "      <td>15.6%</td>\n",
       "      <td>4.7%</td>\n",
       "      <td>0.076</td>\n",
       "    </tr>\n",
       "    <tr>\n",
       "      <th>Dyslipidemia (%)</th>\n",
       "      <td>50.0%</td>\n",
       "      <td>50.0%</td>\n",
       "      <td>1</td>\n",
       "    </tr>\n",
       "    <tr>\n",
       "      <th>HbA1C (%)</th>\n",
       "      <td>6.0 +- 1.2</td>\n",
       "      <td>5.7 +- 0.5</td>\n",
       "      <td>0.34</td>\n",
       "    </tr>\n",
       "  </tbody>\n",
       "</table>\n",
       "</div>"
      ],
      "text/plain": [
       "                               ACS (n=64) Healthy (n=64) P value\n",
       "Characteristics                                                 \n",
       "Age (years)                   53.8 +- 9.8    54.6 +- 9.1    0.25\n",
       "Sex, Males (%)                      75.0%          67.2%    0.44\n",
       "BMI                           28.2 +- 4.5    27.9 +- 3.9    0.33\n",
       "Currently smokes (%)                26.6%          25.0%       1\n",
       "Hypertension (%)                    39.7%          37.5%    0.86\n",
       "DM (%)                              15.6%          12.5%     0.8\n",
       "Treated for Dyslipidemia (%)        31.2%          28.1%    0.85\n",
       "Treated for Hypertension (%)        25.0%          18.8%    0.52\n",
       "Treated for DM (%)                  15.6%           4.7%   0.076\n",
       "Dyslipidemia (%)                    50.0%          50.0%       1\n",
       "HbA1C (%)                      6.0 +- 1.2     5.7 +- 0.5    0.34"
      ]
     },
     "execution_count": 33,
     "metadata": {},
     "output_type": "execute_result"
    }
   ],
   "source": [
    "table1_names = {'Age (years)':'Age', 'Sex, Males (%)':'gender', 'BMI':'bmi', 'Currently smokes (%)':'smoke_tobacco_now',\n",
    "               'HbA1C (%)':'HbA1C', 'DM (%)':'DM', 'Hypertension (%)':'Hypertension', 'Dyslipidemia (%)':'Dyslipidemia', \n",
    "                'Treated for DM (%)':'treatment for DM', 'Treated for Hypertension (%)':'treatment for Hypertension', 'Treated for Dyslipidemia (%)':'treatment for Dyslipidemia'}\n",
    "table1_tests = {k:fisher_exact for k in table1_names}\n",
    "cont_vars = ['Age (years)', 'BMI', 'HbA1C (%)']\n",
    "bin_vars = list(set(table1_names.keys()) - set(cont_vars))\n",
    "for cont_k in cont_vars:\n",
    "    table1_tests[cont_k] = mannwhitneyu\n",
    "    \n",
    "pts_data = acs_data.loc[mmc_acs]\n",
    "normal_data = pnp_data.loc[mmc_pnp]\n",
    "\n",
    "table1 = pd.DataFrame(index=['Age (years)', 'Sex, Males (%)', 'BMI', 'Currently smokes (%)'],\n",
    "                      columns=[f'ACS (n={pts_data.shape[0]})', f'Healthy (n={normal_data.shape[0]})', 'P value'])\n",
    "table1.index.names = ['Characteristics']\n",
    "\n",
    "for b_v in bin_vars:\n",
    "    print (b_v)\n",
    "    pts_n = pts_data[table1_names[b_v]].sum()\n",
    "    pts_non_na = pts_data[table1_names[b_v]].dropna().shape[0]\n",
    "    pts_per, pts_rest = 100 * pts_n / pts_non_na, pts_non_na - pts_n\n",
    "    norm_n = normal_data[table1_names[b_v]].sum()\n",
    "    norm_non_na = normal_data[table1_names[b_v]].dropna().shape[0]\n",
    "    norm_per, norm_rest = 100 * norm_n / norm_non_na, norm_non_na - norm_n\n",
    "    p = fisher_exact([[pts_n, pts_rest], [norm_n, norm_rest]])[1]\n",
    "    table1.loc[b_v] = ['%0.1f'%(pts_per) + '%','%0.1f'%(norm_per) + '%', '%0.2g'%p]\n",
    "    \n",
    "for c_v in cont_vars:\n",
    "    pts_mean, pts_std = pts_data[table1_names[c_v]].mean(), pts_data[table1_names[c_v]].std()\n",
    "    norm_mean, norm_std = normal_data[table1_names[c_v]].mean(), normal_data[table1_names[c_v]].std()\n",
    "    p = mannwhitneyu(pts_data[table1_names[c_v]].dropna(), normal_data[table1_names[c_v]].dropna())[1]\n",
    "    table1.loc[c_v] = ['%0.1f +- %0.1f'%(pts_mean, pts_std), '%0.1f +- %0.1f'%(norm_mean, norm_std), '%0.2g'%p]\n",
    "\n",
    "    \n",
    "# table1 = table1.applymap(lambda x: x.replace('+-', r'$\\pm$'))\n",
    "table1.to_csv(os.path.join(curr_dir, 'Table1_microbiome_age+sex+bmi+DM+smoking.csv'))\n",
    "table1\n",
    "# bin_vars"
   ]
  }
 ],
 "metadata": {
  "kernelspec": {
   "display_name": "Python 3",
   "language": "python",
   "name": "python3"
  },
  "language_info": {
   "codemirror_mode": {
    "name": "ipython",
    "version": 3
   },
   "file_extension": ".py",
   "mimetype": "text/x-python",
   "name": "python",
   "nbconvert_exporter": "python",
   "pygments_lexer": "ipython3",
   "version": "3.7.4"
  },
  "toc": {
   "nav_menu": {},
   "number_sections": true,
   "sideBar": true,
   "skip_h1_title": false,
   "toc_cell": false,
   "toc_position": {
    "height": "664.367px",
    "left": "0px",
    "right": "1708px",
    "top": "110.633px",
    "width": "212px"
   },
   "toc_section_display": "block",
   "toc_window_display": true
  }
 },
 "nbformat": 4,
 "nbformat_minor": 2
}
